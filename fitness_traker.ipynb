{
 "cells": [
  {
   "cell_type": "markdown",
   "id": "a3d7a6ef",
   "metadata": {},
   "source": [
    "### Data Dictionary\n",
    "\n",
    "| Column Name | Description | Additional Context |\n",
    "|------------|-------------|-------------------|\n",
    "| `date` | The specific day of data recording | Allows tracking changes and patterns over the 185-day period |\n",
    "| `steps` | Total daily step count | The common goal of 10,000 steps serves as a reference point for daily activity level assessment |\n",
    "| `weight` | Body weight measurement (in kg) | Tracked daily to monitor body mass changes over time |\n",
    "| `resting_heart_rate` | Heart beats per minute while at complete rest | Lower values typically indicate better cardiovascular fitness |\n",
    "| `sleep_hours` | Total daily sleep duration | Includes all sleep phases; adults typically need 7-9 hours per night for optimal health |\n",
    "| `active_minutes` | Total time spent in physical activity | Encompasses all activity intensities throughout the day |\n",
    "| `total_calories_burned` | Total daily energy expenditure | Combines both resting metabolic rate and activity-based calorie burn |\n",
    "| `fat_burn_minutes` | Time in 50-69% of max heart rate zone | Lower intensity zone optimal for building base endurance and metabolizing fat |\n",
    "| `cardio_minutes` | Time in 70-84% of max heart rate zone | Moderate to high intensity zone that improves cardiovascular capacity |\n",
    "| `peak_minutes` | Time in 85%+ of max heart rate zone | Highest intensity zone, typically reached during interval training or sprints |\n",
    "| `workout_type` | Category of exercise performed | Helps analyze the distribution and effectiveness of different activities |\n",
    "| `workout_duration` | Length of exercise session in minutes | Used to analyze exercise patterns and time commitment |\n",
    "| `workout_calories` | Energy expended during workout | Specifically tracks calories burned during structured exercise sessions |\n",
    "| `workout_avg_hr` | Mean heart rate during exercise | Indicates the overall intensity of the workout session |\n",
    "| `workout_max_hr` | Highest heart rate during exercise | Shows the point of maximum exertion during the workout |\n"
   ]
  },
  {
   "cell_type": "code",
   "execution_count": 49,
   "id": "eeca4aa7",
   "metadata": {},
   "outputs": [],
   "source": [
    "import pandas as pd\n",
    "import plotly.express as px"
   ]
  },
  {
   "cell_type": "code",
   "execution_count": 50,
   "id": "74758227",
   "metadata": {},
   "outputs": [
    {
     "data": {
      "text/html": [
       "<div>\n",
       "<style scoped>\n",
       "    .dataframe tbody tr th:only-of-type {\n",
       "        vertical-align: middle;\n",
       "    }\n",
       "\n",
       "    .dataframe tbody tr th {\n",
       "        vertical-align: top;\n",
       "    }\n",
       "\n",
       "    .dataframe thead th {\n",
       "        text-align: right;\n",
       "    }\n",
       "</style>\n",
       "<table border=\"1\" class=\"dataframe\">\n",
       "  <thead>\n",
       "    <tr style=\"text-align: right;\">\n",
       "      <th></th>\n",
       "      <th>date</th>\n",
       "      <th>weight</th>\n",
       "      <th>steps</th>\n",
       "      <th>resting_heart_rate</th>\n",
       "      <th>sleep_hours</th>\n",
       "      <th>active_minutes</th>\n",
       "      <th>total_calories_burned</th>\n",
       "      <th>workout_type</th>\n",
       "      <th>workout_duration</th>\n",
       "      <th>workout_calories</th>\n",
       "      <th>workout_avg_hr</th>\n",
       "      <th>workout_max_hr</th>\n",
       "      <th>fat_burn_minutes</th>\n",
       "      <th>cardio_minutes</th>\n",
       "      <th>peak_minutes</th>\n",
       "    </tr>\n",
       "  </thead>\n",
       "  <tbody>\n",
       "    <tr>\n",
       "      <th>0</th>\n",
       "      <td>7/1/24</td>\n",
       "      <td>75.248357</td>\n",
       "      <td>6829.0</td>\n",
       "      <td>63.68</td>\n",
       "      <td>7.03</td>\n",
       "      <td>66.0</td>\n",
       "      <td>664.0</td>\n",
       "      <td>Strength Training</td>\n",
       "      <td>68.28</td>\n",
       "      <td>641.120000</td>\n",
       "      <td>143.67</td>\n",
       "      <td>171.17</td>\n",
       "      <td>33.0</td>\n",
       "      <td>19.0</td>\n",
       "      <td>13.0</td>\n",
       "    </tr>\n",
       "    <tr>\n",
       "      <th>1</th>\n",
       "      <td>7/2/24</td>\n",
       "      <td>74.914564</td>\n",
       "      <td>7741.0</td>\n",
       "      <td>58.63</td>\n",
       "      <td>7.85</td>\n",
       "      <td>66.0</td>\n",
       "      <td>660.0</td>\n",
       "      <td>Rest</td>\n",
       "      <td>0.00</td>\n",
       "      <td>0.000000</td>\n",
       "      <td>0.00</td>\n",
       "      <td>0.00</td>\n",
       "      <td>33.0</td>\n",
       "      <td>19.0</td>\n",
       "      <td>13.0</td>\n",
       "    </tr>\n",
       "    <tr>\n",
       "      <th>2</th>\n",
       "      <td>7/3/24</td>\n",
       "      <td>75.140000</td>\n",
       "      <td>8227.0</td>\n",
       "      <td>58.47</td>\n",
       "      <td>7.53</td>\n",
       "      <td>87.0</td>\n",
       "      <td>873.0</td>\n",
       "      <td>Strength Training</td>\n",
       "      <td>34.34</td>\n",
       "      <td>366.564833</td>\n",
       "      <td>138.63</td>\n",
       "      <td>163.86</td>\n",
       "      <td>43.0</td>\n",
       "      <td>26.0</td>\n",
       "      <td>17.0</td>\n",
       "    </tr>\n",
       "    <tr>\n",
       "      <th>3</th>\n",
       "      <td>7/4/24</td>\n",
       "      <td>75.200000</td>\n",
       "      <td>13262.0</td>\n",
       "      <td>72.51</td>\n",
       "      <td>4.63</td>\n",
       "      <td>111.0</td>\n",
       "      <td>1113.0</td>\n",
       "      <td>Running</td>\n",
       "      <td>62.74</td>\n",
       "      <td>662.040000</td>\n",
       "      <td>152.04</td>\n",
       "      <td>168.87</td>\n",
       "      <td>55.0</td>\n",
       "      <td>33.0</td>\n",
       "      <td>22.0</td>\n",
       "    </tr>\n",
       "    <tr>\n",
       "      <th>4</th>\n",
       "      <td>7/5/24</td>\n",
       "      <td>75.270000</td>\n",
       "      <td>9377.0</td>\n",
       "      <td>73.32</td>\n",
       "      <td>5.38</td>\n",
       "      <td>79.0</td>\n",
       "      <td>790.0</td>\n",
       "      <td>Strength Training</td>\n",
       "      <td>77.88</td>\n",
       "      <td>677.010000</td>\n",
       "      <td>144.06</td>\n",
       "      <td>167.28</td>\n",
       "      <td>39.0</td>\n",
       "      <td>23.0</td>\n",
       "      <td>15.0</td>\n",
       "    </tr>\n",
       "  </tbody>\n",
       "</table>\n",
       "</div>"
      ],
      "text/plain": [
       "     date     weight    steps  resting_heart_rate  sleep_hours  \\\n",
       "0  7/1/24  75.248357   6829.0               63.68         7.03   \n",
       "1  7/2/24  74.914564   7741.0               58.63         7.85   \n",
       "2  7/3/24  75.140000   8227.0               58.47         7.53   \n",
       "3  7/4/24  75.200000  13262.0               72.51         4.63   \n",
       "4  7/5/24  75.270000   9377.0               73.32         5.38   \n",
       "\n",
       "   active_minutes  total_calories_burned       workout_type  workout_duration  \\\n",
       "0            66.0                  664.0  Strength Training             68.28   \n",
       "1            66.0                  660.0               Rest              0.00   \n",
       "2            87.0                  873.0  Strength Training             34.34   \n",
       "3           111.0                 1113.0            Running             62.74   \n",
       "4            79.0                  790.0  Strength Training             77.88   \n",
       "\n",
       "   workout_calories  workout_avg_hr  workout_max_hr  fat_burn_minutes  \\\n",
       "0        641.120000          143.67          171.17              33.0   \n",
       "1          0.000000            0.00            0.00              33.0   \n",
       "2        366.564833          138.63          163.86              43.0   \n",
       "3        662.040000          152.04          168.87              55.0   \n",
       "4        677.010000          144.06          167.28              39.0   \n",
       "\n",
       "   cardio_minutes  peak_minutes  \n",
       "0            19.0          13.0  \n",
       "1            19.0          13.0  \n",
       "2            26.0          17.0  \n",
       "3            33.0          22.0  \n",
       "4            23.0          15.0  "
      ]
     },
     "execution_count": 50,
     "metadata": {},
     "output_type": "execute_result"
    }
   ],
   "source": [
    "#load data\n",
    "fitness_data = pd.read_csv(\"fitness_data.csv\")\n",
    "fitness_data.head()"
   ]
  },
  {
   "cell_type": "code",
   "execution_count": 51,
   "id": "1718d344",
   "metadata": {},
   "outputs": [
    {
     "data": {
      "text/plain": [
       "date                     0\n",
       "weight                   6\n",
       "steps                    6\n",
       "resting_heart_rate       6\n",
       "sleep_hours              6\n",
       "active_minutes           6\n",
       "total_calories_burned    6\n",
       "workout_type             6\n",
       "workout_duration         6\n",
       "workout_calories         6\n",
       "workout_avg_hr           6\n",
       "workout_max_hr           6\n",
       "fat_burn_minutes         6\n",
       "cardio_minutes           6\n",
       "peak_minutes             6\n",
       "dtype: int64"
      ]
     },
     "execution_count": 51,
     "metadata": {},
     "output_type": "execute_result"
    }
   ],
   "source": [
    "#check for missing values in the dataset\n",
    "missing_values = fitness_data.isnull().sum()\n",
    "missing_values"
   ]
  },
  {
   "cell_type": "code",
   "execution_count": 52,
   "id": "fda062b8",
   "metadata": {},
   "outputs": [
    {
     "data": {
      "text/html": [
       "<div>\n",
       "<style scoped>\n",
       "    .dataframe tbody tr th:only-of-type {\n",
       "        vertical-align: middle;\n",
       "    }\n",
       "\n",
       "    .dataframe tbody tr th {\n",
       "        vertical-align: top;\n",
       "    }\n",
       "\n",
       "    .dataframe thead th {\n",
       "        text-align: right;\n",
       "    }\n",
       "</style>\n",
       "<table border=\"1\" class=\"dataframe\">\n",
       "  <thead>\n",
       "    <tr style=\"text-align: right;\">\n",
       "      <th></th>\n",
       "      <th>date</th>\n",
       "      <th>weight</th>\n",
       "      <th>steps</th>\n",
       "      <th>resting_heart_rate</th>\n",
       "      <th>sleep_hours</th>\n",
       "      <th>active_minutes</th>\n",
       "      <th>total_calories_burned</th>\n",
       "      <th>workout_type</th>\n",
       "      <th>workout_duration</th>\n",
       "      <th>workout_calories</th>\n",
       "      <th>workout_avg_hr</th>\n",
       "      <th>workout_max_hr</th>\n",
       "      <th>fat_burn_minutes</th>\n",
       "      <th>cardio_minutes</th>\n",
       "      <th>peak_minutes</th>\n",
       "    </tr>\n",
       "  </thead>\n",
       "  <tbody>\n",
       "    <tr>\n",
       "      <th>150</th>\n",
       "      <td>11/28/24</td>\n",
       "      <td>NaN</td>\n",
       "      <td>NaN</td>\n",
       "      <td>NaN</td>\n",
       "      <td>NaN</td>\n",
       "      <td>NaN</td>\n",
       "      <td>NaN</td>\n",
       "      <td>NaN</td>\n",
       "      <td>NaN</td>\n",
       "      <td>NaN</td>\n",
       "      <td>NaN</td>\n",
       "      <td>NaN</td>\n",
       "      <td>NaN</td>\n",
       "      <td>NaN</td>\n",
       "      <td>NaN</td>\n",
       "    </tr>\n",
       "    <tr>\n",
       "      <th>151</th>\n",
       "      <td>11/29/24</td>\n",
       "      <td>NaN</td>\n",
       "      <td>NaN</td>\n",
       "      <td>NaN</td>\n",
       "      <td>NaN</td>\n",
       "      <td>NaN</td>\n",
       "      <td>NaN</td>\n",
       "      <td>NaN</td>\n",
       "      <td>NaN</td>\n",
       "      <td>NaN</td>\n",
       "      <td>NaN</td>\n",
       "      <td>NaN</td>\n",
       "      <td>NaN</td>\n",
       "      <td>NaN</td>\n",
       "      <td>NaN</td>\n",
       "    </tr>\n",
       "    <tr>\n",
       "      <th>152</th>\n",
       "      <td>11/30/24</td>\n",
       "      <td>NaN</td>\n",
       "      <td>NaN</td>\n",
       "      <td>NaN</td>\n",
       "      <td>NaN</td>\n",
       "      <td>NaN</td>\n",
       "      <td>NaN</td>\n",
       "      <td>NaN</td>\n",
       "      <td>NaN</td>\n",
       "      <td>NaN</td>\n",
       "      <td>NaN</td>\n",
       "      <td>NaN</td>\n",
       "      <td>NaN</td>\n",
       "      <td>NaN</td>\n",
       "      <td>NaN</td>\n",
       "    </tr>\n",
       "    <tr>\n",
       "      <th>176</th>\n",
       "      <td>12/24/24</td>\n",
       "      <td>NaN</td>\n",
       "      <td>NaN</td>\n",
       "      <td>NaN</td>\n",
       "      <td>NaN</td>\n",
       "      <td>NaN</td>\n",
       "      <td>NaN</td>\n",
       "      <td>NaN</td>\n",
       "      <td>NaN</td>\n",
       "      <td>NaN</td>\n",
       "      <td>NaN</td>\n",
       "      <td>NaN</td>\n",
       "      <td>NaN</td>\n",
       "      <td>NaN</td>\n",
       "      <td>NaN</td>\n",
       "    </tr>\n",
       "    <tr>\n",
       "      <th>177</th>\n",
       "      <td>12/25/24</td>\n",
       "      <td>NaN</td>\n",
       "      <td>NaN</td>\n",
       "      <td>NaN</td>\n",
       "      <td>NaN</td>\n",
       "      <td>NaN</td>\n",
       "      <td>NaN</td>\n",
       "      <td>NaN</td>\n",
       "      <td>NaN</td>\n",
       "      <td>NaN</td>\n",
       "      <td>NaN</td>\n",
       "      <td>NaN</td>\n",
       "      <td>NaN</td>\n",
       "      <td>NaN</td>\n",
       "      <td>NaN</td>\n",
       "    </tr>\n",
       "    <tr>\n",
       "      <th>178</th>\n",
       "      <td>12/26/24</td>\n",
       "      <td>NaN</td>\n",
       "      <td>NaN</td>\n",
       "      <td>NaN</td>\n",
       "      <td>NaN</td>\n",
       "      <td>NaN</td>\n",
       "      <td>NaN</td>\n",
       "      <td>NaN</td>\n",
       "      <td>NaN</td>\n",
       "      <td>NaN</td>\n",
       "      <td>NaN</td>\n",
       "      <td>NaN</td>\n",
       "      <td>NaN</td>\n",
       "      <td>NaN</td>\n",
       "      <td>NaN</td>\n",
       "    </tr>\n",
       "  </tbody>\n",
       "</table>\n",
       "</div>"
      ],
      "text/plain": [
       "         date  weight  steps  resting_heart_rate  sleep_hours  active_minutes  \\\n",
       "150  11/28/24     NaN    NaN                 NaN          NaN             NaN   \n",
       "151  11/29/24     NaN    NaN                 NaN          NaN             NaN   \n",
       "152  11/30/24     NaN    NaN                 NaN          NaN             NaN   \n",
       "176  12/24/24     NaN    NaN                 NaN          NaN             NaN   \n",
       "177  12/25/24     NaN    NaN                 NaN          NaN             NaN   \n",
       "178  12/26/24     NaN    NaN                 NaN          NaN             NaN   \n",
       "\n",
       "     total_calories_burned workout_type  workout_duration  workout_calories  \\\n",
       "150                    NaN          NaN               NaN               NaN   \n",
       "151                    NaN          NaN               NaN               NaN   \n",
       "152                    NaN          NaN               NaN               NaN   \n",
       "176                    NaN          NaN               NaN               NaN   \n",
       "177                    NaN          NaN               NaN               NaN   \n",
       "178                    NaN          NaN               NaN               NaN   \n",
       "\n",
       "     workout_avg_hr  workout_max_hr  fat_burn_minutes  cardio_minutes  \\\n",
       "150             NaN             NaN               NaN             NaN   \n",
       "151             NaN             NaN               NaN             NaN   \n",
       "152             NaN             NaN               NaN             NaN   \n",
       "176             NaN             NaN               NaN             NaN   \n",
       "177             NaN             NaN               NaN             NaN   \n",
       "178             NaN             NaN               NaN             NaN   \n",
       "\n",
       "     peak_minutes  \n",
       "150           NaN  \n",
       "151           NaN  \n",
       "152           NaN  \n",
       "176           NaN  \n",
       "177           NaN  \n",
       "178           NaN  "
      ]
     },
     "execution_count": 52,
     "metadata": {},
     "output_type": "execute_result"
    }
   ],
   "source": [
    "# show rows with missing values\n",
    "rows_with_missing_values = fitness_data[fitness_data.isnull().any(axis=1)]\n",
    "rows_with_missing_values"
   ]
  },
  {
   "cell_type": "code",
   "execution_count": 53,
   "id": "21b6a302",
   "metadata": {},
   "outputs": [
    {
     "data": {
      "text/html": [
       "<div>\n",
       "<style scoped>\n",
       "    .dataframe tbody tr th:only-of-type {\n",
       "        vertical-align: middle;\n",
       "    }\n",
       "\n",
       "    .dataframe tbody tr th {\n",
       "        vertical-align: top;\n",
       "    }\n",
       "\n",
       "    .dataframe thead th {\n",
       "        text-align: right;\n",
       "    }\n",
       "</style>\n",
       "<table border=\"1\" class=\"dataframe\">\n",
       "  <thead>\n",
       "    <tr style=\"text-align: right;\">\n",
       "      <th></th>\n",
       "      <th>weight</th>\n",
       "      <th>steps</th>\n",
       "      <th>resting_heart_rate</th>\n",
       "      <th>sleep_hours</th>\n",
       "      <th>active_minutes</th>\n",
       "      <th>total_calories_burned</th>\n",
       "      <th>workout_duration</th>\n",
       "      <th>workout_calories</th>\n",
       "      <th>workout_avg_hr</th>\n",
       "      <th>workout_max_hr</th>\n",
       "      <th>fat_burn_minutes</th>\n",
       "      <th>cardio_minutes</th>\n",
       "      <th>peak_minutes</th>\n",
       "    </tr>\n",
       "  </thead>\n",
       "  <tbody>\n",
       "    <tr>\n",
       "      <th>count</th>\n",
       "      <td>179.000000</td>\n",
       "      <td>179.000000</td>\n",
       "      <td>179.000000</td>\n",
       "      <td>179.000000</td>\n",
       "      <td>179.000000</td>\n",
       "      <td>179.000000</td>\n",
       "      <td>179.000000</td>\n",
       "      <td>179.000000</td>\n",
       "      <td>179.000000</td>\n",
       "      <td>179.000000</td>\n",
       "      <td>179.000000</td>\n",
       "      <td>179.000000</td>\n",
       "      <td>179.000000</td>\n",
       "    </tr>\n",
       "    <tr>\n",
       "      <th>mean</th>\n",
       "      <td>74.838842</td>\n",
       "      <td>8476.927374</td>\n",
       "      <td>64.926538</td>\n",
       "      <td>7.511456</td>\n",
       "      <td>85.128492</td>\n",
       "      <td>853.396648</td>\n",
       "      <td>38.227039</td>\n",
       "      <td>384.143224</td>\n",
       "      <td>129.950615</td>\n",
       "      <td>148.408547</td>\n",
       "      <td>42.284916</td>\n",
       "      <td>25.100559</td>\n",
       "      <td>16.636872</td>\n",
       "    </tr>\n",
       "    <tr>\n",
       "      <th>std</th>\n",
       "      <td>1.817232</td>\n",
       "      <td>2350.241475</td>\n",
       "      <td>4.765610</td>\n",
       "      <td>1.061339</td>\n",
       "      <td>22.242287</td>\n",
       "      <td>222.456798</td>\n",
       "      <td>19.778319</td>\n",
       "      <td>202.061761</td>\n",
       "      <td>37.688990</td>\n",
       "      <td>42.916258</td>\n",
       "      <td>11.133124</td>\n",
       "      <td>6.703257</td>\n",
       "      <td>4.442768</td>\n",
       "    </tr>\n",
       "    <tr>\n",
       "      <th>min</th>\n",
       "      <td>71.110000</td>\n",
       "      <td>3207.000000</td>\n",
       "      <td>50.380000</td>\n",
       "      <td>3.170000</td>\n",
       "      <td>30.000000</td>\n",
       "      <td>303.000000</td>\n",
       "      <td>0.000000</td>\n",
       "      <td>0.000000</td>\n",
       "      <td>0.000000</td>\n",
       "      <td>0.000000</td>\n",
       "      <td>15.000000</td>\n",
       "      <td>9.000000</td>\n",
       "      <td>6.000000</td>\n",
       "    </tr>\n",
       "    <tr>\n",
       "      <th>25%</th>\n",
       "      <td>73.130000</td>\n",
       "      <td>6823.000000</td>\n",
       "      <td>61.755000</td>\n",
       "      <td>6.995000</td>\n",
       "      <td>71.000000</td>\n",
       "      <td>711.500000</td>\n",
       "      <td>26.810000</td>\n",
       "      <td>262.480000</td>\n",
       "      <td>130.790000</td>\n",
       "      <td>148.850000</td>\n",
       "      <td>35.000000</td>\n",
       "      <td>21.000000</td>\n",
       "      <td>14.000000</td>\n",
       "    </tr>\n",
       "    <tr>\n",
       "      <th>50%</th>\n",
       "      <td>75.269587</td>\n",
       "      <td>8524.000000</td>\n",
       "      <td>64.710000</td>\n",
       "      <td>7.590000</td>\n",
       "      <td>84.000000</td>\n",
       "      <td>841.000000</td>\n",
       "      <td>34.340000</td>\n",
       "      <td>350.910000</td>\n",
       "      <td>140.420000</td>\n",
       "      <td>159.560000</td>\n",
       "      <td>42.000000</td>\n",
       "      <td>25.000000</td>\n",
       "      <td>16.000000</td>\n",
       "    </tr>\n",
       "    <tr>\n",
       "      <th>75%</th>\n",
       "      <td>76.530000</td>\n",
       "      <td>9704.500000</td>\n",
       "      <td>67.610000</td>\n",
       "      <td>8.055000</td>\n",
       "      <td>98.500000</td>\n",
       "      <td>988.000000</td>\n",
       "      <td>46.850000</td>\n",
       "      <td>493.370000</td>\n",
       "      <td>146.915000</td>\n",
       "      <td>168.080000</td>\n",
       "      <td>49.000000</td>\n",
       "      <td>29.000000</td>\n",
       "      <td>19.000000</td>\n",
       "    </tr>\n",
       "    <tr>\n",
       "      <th>max</th>\n",
       "      <td>78.170000</td>\n",
       "      <td>15724.000000</td>\n",
       "      <td>80.990000</td>\n",
       "      <td>9.780000</td>\n",
       "      <td>157.000000</td>\n",
       "      <td>1573.000000</td>\n",
       "      <td>94.290000</td>\n",
       "      <td>1072.200000</td>\n",
       "      <td>160.240000</td>\n",
       "      <td>187.550000</td>\n",
       "      <td>78.000000</td>\n",
       "      <td>47.000000</td>\n",
       "      <td>31.000000</td>\n",
       "    </tr>\n",
       "  </tbody>\n",
       "</table>\n",
       "</div>"
      ],
      "text/plain": [
       "           weight         steps  resting_heart_rate  sleep_hours  \\\n",
       "count  179.000000    179.000000          179.000000   179.000000   \n",
       "mean    74.838842   8476.927374           64.926538     7.511456   \n",
       "std      1.817232   2350.241475            4.765610     1.061339   \n",
       "min     71.110000   3207.000000           50.380000     3.170000   \n",
       "25%     73.130000   6823.000000           61.755000     6.995000   \n",
       "50%     75.269587   8524.000000           64.710000     7.590000   \n",
       "75%     76.530000   9704.500000           67.610000     8.055000   \n",
       "max     78.170000  15724.000000           80.990000     9.780000   \n",
       "\n",
       "       active_minutes  total_calories_burned  workout_duration  \\\n",
       "count      179.000000             179.000000        179.000000   \n",
       "mean        85.128492             853.396648         38.227039   \n",
       "std         22.242287             222.456798         19.778319   \n",
       "min         30.000000             303.000000          0.000000   \n",
       "25%         71.000000             711.500000         26.810000   \n",
       "50%         84.000000             841.000000         34.340000   \n",
       "75%         98.500000             988.000000         46.850000   \n",
       "max        157.000000            1573.000000         94.290000   \n",
       "\n",
       "       workout_calories  workout_avg_hr  workout_max_hr  fat_burn_minutes  \\\n",
       "count        179.000000      179.000000      179.000000        179.000000   \n",
       "mean         384.143224      129.950615      148.408547         42.284916   \n",
       "std          202.061761       37.688990       42.916258         11.133124   \n",
       "min            0.000000        0.000000        0.000000         15.000000   \n",
       "25%          262.480000      130.790000      148.850000         35.000000   \n",
       "50%          350.910000      140.420000      159.560000         42.000000   \n",
       "75%          493.370000      146.915000      168.080000         49.000000   \n",
       "max         1072.200000      160.240000      187.550000         78.000000   \n",
       "\n",
       "       cardio_minutes  peak_minutes  \n",
       "count      179.000000    179.000000  \n",
       "mean        25.100559     16.636872  \n",
       "std          6.703257      4.442768  \n",
       "min          9.000000      6.000000  \n",
       "25%         21.000000     14.000000  \n",
       "50%         25.000000     16.000000  \n",
       "75%         29.000000     19.000000  \n",
       "max         47.000000     31.000000  "
      ]
     },
     "execution_count": 53,
     "metadata": {},
     "output_type": "execute_result"
    }
   ],
   "source": [
    "#calculate summary stat of the dataset\n",
    "summary_stat = fitness_data.describe()\n",
    "summary_stat"
   ]
  },
  {
   "cell_type": "code",
   "execution_count": 54,
   "id": "e585516b",
   "metadata": {},
   "outputs": [
    {
     "data": {
      "text/plain": [
       "date                      object\n",
       "weight                   float64\n",
       "steps                    float64\n",
       "resting_heart_rate       float64\n",
       "sleep_hours              float64\n",
       "active_minutes           float64\n",
       "total_calories_burned    float64\n",
       "workout_type              object\n",
       "workout_duration         float64\n",
       "workout_calories         float64\n",
       "workout_avg_hr           float64\n",
       "workout_max_hr           float64\n",
       "fat_burn_minutes         float64\n",
       "cardio_minutes           float64\n",
       "peak_minutes             float64\n",
       "dtype: object"
      ]
     },
     "execution_count": 54,
     "metadata": {},
     "output_type": "execute_result"
    }
   ],
   "source": [
    "#check the data types of each column\n",
    "data_types = fitness_data.dtypes\n",
    "data_types"
   ]
  },
  {
   "cell_type": "code",
   "execution_count": 55,
   "id": "ecd05b7f",
   "metadata": {},
   "outputs": [
    {
     "name": "stderr",
     "output_type": "stream",
     "text": [
      "C:\\Users\\user\\AppData\\Local\\Temp\\ipykernel_5216\\794623144.py:2: UserWarning:\n",
      "\n",
      "Could not infer format, so each element will be parsed individually, falling back to `dateutil`. To ensure parsing is consistent and as-expected, please specify a format.\n",
      "\n"
     ]
    },
    {
     "data": {
      "text/plain": [
       "date                     datetime64[ns]\n",
       "weight                          float64\n",
       "steps                           float64\n",
       "resting_heart_rate              float64\n",
       "sleep_hours                     float64\n",
       "active_minutes                  float64\n",
       "total_calories_burned           float64\n",
       "workout_type                     object\n",
       "workout_duration                float64\n",
       "workout_calories                float64\n",
       "workout_avg_hr                  float64\n",
       "workout_max_hr                  float64\n",
       "fat_burn_minutes                float64\n",
       "cardio_minutes                  float64\n",
       "peak_minutes                    float64\n",
       "dtype: object"
      ]
     },
     "execution_count": 55,
     "metadata": {},
     "output_type": "execute_result"
    }
   ],
   "source": [
    "#convert the date column to dataetime format\n",
    "fitness_data['date'] = pd.to_datetime(fitness_data['date'])\n",
    "fitness_data.dtypes"
   ]
  },
  {
   "cell_type": "code",
   "execution_count": 56,
   "id": "b0f068c4",
   "metadata": {},
   "outputs": [
    {
     "data": {
      "text/html": [
       "<div>\n",
       "<style scoped>\n",
       "    .dataframe tbody tr th:only-of-type {\n",
       "        vertical-align: middle;\n",
       "    }\n",
       "\n",
       "    .dataframe tbody tr th {\n",
       "        vertical-align: top;\n",
       "    }\n",
       "\n",
       "    .dataframe thead th {\n",
       "        text-align: right;\n",
       "    }\n",
       "</style>\n",
       "<table border=\"1\" class=\"dataframe\">\n",
       "  <thead>\n",
       "    <tr style=\"text-align: right;\">\n",
       "      <th></th>\n",
       "      <th>date</th>\n",
       "      <th>weight</th>\n",
       "      <th>steps</th>\n",
       "      <th>resting_heart_rate</th>\n",
       "      <th>sleep_hours</th>\n",
       "      <th>active_minutes</th>\n",
       "      <th>total_calories_burned</th>\n",
       "      <th>workout_type</th>\n",
       "      <th>workout_duration</th>\n",
       "      <th>workout_calories</th>\n",
       "      <th>workout_avg_hr</th>\n",
       "      <th>workout_max_hr</th>\n",
       "      <th>fat_burn_minutes</th>\n",
       "      <th>cardio_minutes</th>\n",
       "      <th>peak_minutes</th>\n",
       "    </tr>\n",
       "  </thead>\n",
       "  <tbody>\n",
       "    <tr>\n",
       "      <th>0</th>\n",
       "      <td>2024-07-01</td>\n",
       "      <td>75.248357</td>\n",
       "      <td>6829.0</td>\n",
       "      <td>63.68</td>\n",
       "      <td>7.03</td>\n",
       "      <td>66.0</td>\n",
       "      <td>664.0</td>\n",
       "      <td>Strength Training</td>\n",
       "      <td>68.28</td>\n",
       "      <td>641.120000</td>\n",
       "      <td>143.67</td>\n",
       "      <td>171.17</td>\n",
       "      <td>33.0</td>\n",
       "      <td>19.0</td>\n",
       "      <td>13.0</td>\n",
       "    </tr>\n",
       "    <tr>\n",
       "      <th>1</th>\n",
       "      <td>2024-07-02</td>\n",
       "      <td>74.914564</td>\n",
       "      <td>7741.0</td>\n",
       "      <td>58.63</td>\n",
       "      <td>7.85</td>\n",
       "      <td>66.0</td>\n",
       "      <td>660.0</td>\n",
       "      <td>Rest</td>\n",
       "      <td>0.00</td>\n",
       "      <td>0.000000</td>\n",
       "      <td>0.00</td>\n",
       "      <td>0.00</td>\n",
       "      <td>33.0</td>\n",
       "      <td>19.0</td>\n",
       "      <td>13.0</td>\n",
       "    </tr>\n",
       "    <tr>\n",
       "      <th>2</th>\n",
       "      <td>2024-07-03</td>\n",
       "      <td>75.140000</td>\n",
       "      <td>8227.0</td>\n",
       "      <td>58.47</td>\n",
       "      <td>7.53</td>\n",
       "      <td>87.0</td>\n",
       "      <td>873.0</td>\n",
       "      <td>Strength Training</td>\n",
       "      <td>34.34</td>\n",
       "      <td>366.564833</td>\n",
       "      <td>138.63</td>\n",
       "      <td>163.86</td>\n",
       "      <td>43.0</td>\n",
       "      <td>26.0</td>\n",
       "      <td>17.0</td>\n",
       "    </tr>\n",
       "    <tr>\n",
       "      <th>3</th>\n",
       "      <td>2024-07-04</td>\n",
       "      <td>75.200000</td>\n",
       "      <td>13262.0</td>\n",
       "      <td>72.51</td>\n",
       "      <td>4.63</td>\n",
       "      <td>111.0</td>\n",
       "      <td>1113.0</td>\n",
       "      <td>Running</td>\n",
       "      <td>62.74</td>\n",
       "      <td>662.040000</td>\n",
       "      <td>152.04</td>\n",
       "      <td>168.87</td>\n",
       "      <td>55.0</td>\n",
       "      <td>33.0</td>\n",
       "      <td>22.0</td>\n",
       "    </tr>\n",
       "    <tr>\n",
       "      <th>4</th>\n",
       "      <td>2024-07-05</td>\n",
       "      <td>75.270000</td>\n",
       "      <td>9377.0</td>\n",
       "      <td>73.32</td>\n",
       "      <td>5.38</td>\n",
       "      <td>79.0</td>\n",
       "      <td>790.0</td>\n",
       "      <td>Strength Training</td>\n",
       "      <td>77.88</td>\n",
       "      <td>677.010000</td>\n",
       "      <td>144.06</td>\n",
       "      <td>167.28</td>\n",
       "      <td>39.0</td>\n",
       "      <td>23.0</td>\n",
       "      <td>15.0</td>\n",
       "    </tr>\n",
       "  </tbody>\n",
       "</table>\n",
       "</div>"
      ],
      "text/plain": [
       "        date     weight    steps  resting_heart_rate  sleep_hours  \\\n",
       "0 2024-07-01  75.248357   6829.0               63.68         7.03   \n",
       "1 2024-07-02  74.914564   7741.0               58.63         7.85   \n",
       "2 2024-07-03  75.140000   8227.0               58.47         7.53   \n",
       "3 2024-07-04  75.200000  13262.0               72.51         4.63   \n",
       "4 2024-07-05  75.270000   9377.0               73.32         5.38   \n",
       "\n",
       "   active_minutes  total_calories_burned       workout_type  workout_duration  \\\n",
       "0            66.0                  664.0  Strength Training             68.28   \n",
       "1            66.0                  660.0               Rest              0.00   \n",
       "2            87.0                  873.0  Strength Training             34.34   \n",
       "3           111.0                 1113.0            Running             62.74   \n",
       "4            79.0                  790.0  Strength Training             77.88   \n",
       "\n",
       "   workout_calories  workout_avg_hr  workout_max_hr  fat_burn_minutes  \\\n",
       "0        641.120000          143.67          171.17              33.0   \n",
       "1          0.000000            0.00            0.00              33.0   \n",
       "2        366.564833          138.63          163.86              43.0   \n",
       "3        662.040000          152.04          168.87              55.0   \n",
       "4        677.010000          144.06          167.28              39.0   \n",
       "\n",
       "   cardio_minutes  peak_minutes  \n",
       "0            19.0          13.0  \n",
       "1            19.0          13.0  \n",
       "2            26.0          17.0  \n",
       "3            33.0          22.0  \n",
       "4            23.0          15.0  "
      ]
     },
     "execution_count": 56,
     "metadata": {},
     "output_type": "execute_result"
    }
   ],
   "source": [
    "fitness_data.head()"
   ]
  },
  {
   "cell_type": "markdown",
   "id": "6b0de3e9",
   "metadata": {},
   "source": [
    "**Task 2**"
   ]
  },
  {
   "cell_type": "code",
   "execution_count": 57,
   "id": "0daaf9a7",
   "metadata": {},
   "outputs": [
    {
     "data": {
      "text/html": [
       "<div>\n",
       "<style scoped>\n",
       "    .dataframe tbody tr th:only-of-type {\n",
       "        vertical-align: middle;\n",
       "    }\n",
       "\n",
       "    .dataframe tbody tr th {\n",
       "        vertical-align: top;\n",
       "    }\n",
       "\n",
       "    .dataframe thead th {\n",
       "        text-align: right;\n",
       "    }\n",
       "</style>\n",
       "<table border=\"1\" class=\"dataframe\">\n",
       "  <thead>\n",
       "    <tr style=\"text-align: right;\">\n",
       "      <th></th>\n",
       "      <th>date</th>\n",
       "      <th>body_weight_kg</th>\n",
       "      <th>steps</th>\n",
       "      <th>resting_heart_rate</th>\n",
       "      <th>sleep_hours</th>\n",
       "      <th>active_minutes</th>\n",
       "      <th>total_calories_burned</th>\n",
       "      <th>workout_type</th>\n",
       "      <th>workout_duration</th>\n",
       "      <th>workout_calories</th>\n",
       "      <th>workout_avg_hr</th>\n",
       "      <th>workout_max_hr</th>\n",
       "      <th>fat_burn_minutes</th>\n",
       "      <th>cardio_minutes</th>\n",
       "      <th>peak_minutes</th>\n",
       "    </tr>\n",
       "  </thead>\n",
       "  <tbody>\n",
       "    <tr>\n",
       "      <th>0</th>\n",
       "      <td>2024-07-01</td>\n",
       "      <td>75.248357</td>\n",
       "      <td>6829.0</td>\n",
       "      <td>63.68</td>\n",
       "      <td>7.03</td>\n",
       "      <td>66.0</td>\n",
       "      <td>664.0</td>\n",
       "      <td>Strength Training</td>\n",
       "      <td>68.28</td>\n",
       "      <td>641.120000</td>\n",
       "      <td>143.67</td>\n",
       "      <td>171.17</td>\n",
       "      <td>33.0</td>\n",
       "      <td>19.0</td>\n",
       "      <td>13.0</td>\n",
       "    </tr>\n",
       "    <tr>\n",
       "      <th>1</th>\n",
       "      <td>2024-07-02</td>\n",
       "      <td>74.914564</td>\n",
       "      <td>7741.0</td>\n",
       "      <td>58.63</td>\n",
       "      <td>7.85</td>\n",
       "      <td>66.0</td>\n",
       "      <td>660.0</td>\n",
       "      <td>Rest</td>\n",
       "      <td>0.00</td>\n",
       "      <td>0.000000</td>\n",
       "      <td>0.00</td>\n",
       "      <td>0.00</td>\n",
       "      <td>33.0</td>\n",
       "      <td>19.0</td>\n",
       "      <td>13.0</td>\n",
       "    </tr>\n",
       "    <tr>\n",
       "      <th>2</th>\n",
       "      <td>2024-07-03</td>\n",
       "      <td>75.140000</td>\n",
       "      <td>8227.0</td>\n",
       "      <td>58.47</td>\n",
       "      <td>7.53</td>\n",
       "      <td>87.0</td>\n",
       "      <td>873.0</td>\n",
       "      <td>Strength Training</td>\n",
       "      <td>34.34</td>\n",
       "      <td>366.564833</td>\n",
       "      <td>138.63</td>\n",
       "      <td>163.86</td>\n",
       "      <td>43.0</td>\n",
       "      <td>26.0</td>\n",
       "      <td>17.0</td>\n",
       "    </tr>\n",
       "    <tr>\n",
       "      <th>3</th>\n",
       "      <td>2024-07-04</td>\n",
       "      <td>75.200000</td>\n",
       "      <td>13262.0</td>\n",
       "      <td>72.51</td>\n",
       "      <td>4.63</td>\n",
       "      <td>111.0</td>\n",
       "      <td>1113.0</td>\n",
       "      <td>Running</td>\n",
       "      <td>62.74</td>\n",
       "      <td>662.040000</td>\n",
       "      <td>152.04</td>\n",
       "      <td>168.87</td>\n",
       "      <td>55.0</td>\n",
       "      <td>33.0</td>\n",
       "      <td>22.0</td>\n",
       "    </tr>\n",
       "    <tr>\n",
       "      <th>4</th>\n",
       "      <td>2024-07-05</td>\n",
       "      <td>75.270000</td>\n",
       "      <td>9377.0</td>\n",
       "      <td>73.32</td>\n",
       "      <td>5.38</td>\n",
       "      <td>79.0</td>\n",
       "      <td>790.0</td>\n",
       "      <td>Strength Training</td>\n",
       "      <td>77.88</td>\n",
       "      <td>677.010000</td>\n",
       "      <td>144.06</td>\n",
       "      <td>167.28</td>\n",
       "      <td>39.0</td>\n",
       "      <td>23.0</td>\n",
       "      <td>15.0</td>\n",
       "    </tr>\n",
       "    <tr>\n",
       "      <th>...</th>\n",
       "      <td>...</td>\n",
       "      <td>...</td>\n",
       "      <td>...</td>\n",
       "      <td>...</td>\n",
       "      <td>...</td>\n",
       "      <td>...</td>\n",
       "      <td>...</td>\n",
       "      <td>...</td>\n",
       "      <td>...</td>\n",
       "      <td>...</td>\n",
       "      <td>...</td>\n",
       "      <td>...</td>\n",
       "      <td>...</td>\n",
       "      <td>...</td>\n",
       "      <td>...</td>\n",
       "    </tr>\n",
       "    <tr>\n",
       "      <th>180</th>\n",
       "      <td>2024-12-28</td>\n",
       "      <td>77.690000</td>\n",
       "      <td>5883.0</td>\n",
       "      <td>62.33</td>\n",
       "      <td>9.78</td>\n",
       "      <td>71.0</td>\n",
       "      <td>712.0</td>\n",
       "      <td>Strength Training</td>\n",
       "      <td>94.29</td>\n",
       "      <td>1072.200000</td>\n",
       "      <td>131.24</td>\n",
       "      <td>154.21</td>\n",
       "      <td>35.0</td>\n",
       "      <td>21.0</td>\n",
       "      <td>14.0</td>\n",
       "    </tr>\n",
       "    <tr>\n",
       "      <th>181</th>\n",
       "      <td>2024-12-29</td>\n",
       "      <td>77.610000</td>\n",
       "      <td>8639.0</td>\n",
       "      <td>66.12</td>\n",
       "      <td>6.55</td>\n",
       "      <td>87.0</td>\n",
       "      <td>874.0</td>\n",
       "      <td>Running</td>\n",
       "      <td>41.47</td>\n",
       "      <td>419.240000</td>\n",
       "      <td>139.88</td>\n",
       "      <td>157.09</td>\n",
       "      <td>43.0</td>\n",
       "      <td>26.0</td>\n",
       "      <td>17.0</td>\n",
       "    </tr>\n",
       "    <tr>\n",
       "      <th>182</th>\n",
       "      <td>2024-12-30</td>\n",
       "      <td>77.490000</td>\n",
       "      <td>8587.0</td>\n",
       "      <td>61.23</td>\n",
       "      <td>8.02</td>\n",
       "      <td>87.0</td>\n",
       "      <td>874.0</td>\n",
       "      <td>Rest</td>\n",
       "      <td>0.00</td>\n",
       "      <td>0.000000</td>\n",
       "      <td>0.00</td>\n",
       "      <td>0.00</td>\n",
       "      <td>43.0</td>\n",
       "      <td>26.0</td>\n",
       "      <td>17.0</td>\n",
       "    </tr>\n",
       "    <tr>\n",
       "      <th>183</th>\n",
       "      <td>2024-12-31</td>\n",
       "      <td>77.550000</td>\n",
       "      <td>10408.0</td>\n",
       "      <td>59.33</td>\n",
       "      <td>4.57</td>\n",
       "      <td>90.0</td>\n",
       "      <td>900.0</td>\n",
       "      <td>HIIT</td>\n",
       "      <td>26.73</td>\n",
       "      <td>267.900000</td>\n",
       "      <td>133.59</td>\n",
       "      <td>146.81</td>\n",
       "      <td>45.0</td>\n",
       "      <td>27.0</td>\n",
       "      <td>18.0</td>\n",
       "    </tr>\n",
       "    <tr>\n",
       "      <th>184</th>\n",
       "      <td>2025-01-01</td>\n",
       "      <td>78.170000</td>\n",
       "      <td>3257.0</td>\n",
       "      <td>63.24</td>\n",
       "      <td>3.17</td>\n",
       "      <td>78.0</td>\n",
       "      <td>784.0</td>\n",
       "      <td>Rest</td>\n",
       "      <td>0.00</td>\n",
       "      <td>0.000000</td>\n",
       "      <td>0.00</td>\n",
       "      <td>0.00</td>\n",
       "      <td>39.0</td>\n",
       "      <td>23.0</td>\n",
       "      <td>15.0</td>\n",
       "    </tr>\n",
       "  </tbody>\n",
       "</table>\n",
       "<p>185 rows × 15 columns</p>\n",
       "</div>"
      ],
      "text/plain": [
       "          date  body_weight_kg    steps  resting_heart_rate  sleep_hours  \\\n",
       "0   2024-07-01       75.248357   6829.0               63.68         7.03   \n",
       "1   2024-07-02       74.914564   7741.0               58.63         7.85   \n",
       "2   2024-07-03       75.140000   8227.0               58.47         7.53   \n",
       "3   2024-07-04       75.200000  13262.0               72.51         4.63   \n",
       "4   2024-07-05       75.270000   9377.0               73.32         5.38   \n",
       "..         ...             ...      ...                 ...          ...   \n",
       "180 2024-12-28       77.690000   5883.0               62.33         9.78   \n",
       "181 2024-12-29       77.610000   8639.0               66.12         6.55   \n",
       "182 2024-12-30       77.490000   8587.0               61.23         8.02   \n",
       "183 2024-12-31       77.550000  10408.0               59.33         4.57   \n",
       "184 2025-01-01       78.170000   3257.0               63.24         3.17   \n",
       "\n",
       "     active_minutes  total_calories_burned       workout_type  \\\n",
       "0              66.0                  664.0  Strength Training   \n",
       "1              66.0                  660.0               Rest   \n",
       "2              87.0                  873.0  Strength Training   \n",
       "3             111.0                 1113.0            Running   \n",
       "4              79.0                  790.0  Strength Training   \n",
       "..              ...                    ...                ...   \n",
       "180            71.0                  712.0  Strength Training   \n",
       "181            87.0                  874.0            Running   \n",
       "182            87.0                  874.0               Rest   \n",
       "183            90.0                  900.0               HIIT   \n",
       "184            78.0                  784.0               Rest   \n",
       "\n",
       "     workout_duration  workout_calories  workout_avg_hr  workout_max_hr  \\\n",
       "0               68.28        641.120000          143.67          171.17   \n",
       "1                0.00          0.000000            0.00            0.00   \n",
       "2               34.34        366.564833          138.63          163.86   \n",
       "3               62.74        662.040000          152.04          168.87   \n",
       "4               77.88        677.010000          144.06          167.28   \n",
       "..                ...               ...             ...             ...   \n",
       "180             94.29       1072.200000          131.24          154.21   \n",
       "181             41.47        419.240000          139.88          157.09   \n",
       "182              0.00          0.000000            0.00            0.00   \n",
       "183             26.73        267.900000          133.59          146.81   \n",
       "184              0.00          0.000000            0.00            0.00   \n",
       "\n",
       "     fat_burn_minutes  cardio_minutes  peak_minutes  \n",
       "0                33.0            19.0          13.0  \n",
       "1                33.0            19.0          13.0  \n",
       "2                43.0            26.0          17.0  \n",
       "3                55.0            33.0          22.0  \n",
       "4                39.0            23.0          15.0  \n",
       "..                ...             ...           ...  \n",
       "180              35.0            21.0          14.0  \n",
       "181              43.0            26.0          17.0  \n",
       "182              43.0            26.0          17.0  \n",
       "183              45.0            27.0          18.0  \n",
       "184              39.0            23.0          15.0  \n",
       "\n",
       "[185 rows x 15 columns]"
      ]
     },
     "execution_count": 57,
     "metadata": {},
     "output_type": "execute_result"
    }
   ],
   "source": [
    "#rename 'weight' and 'workout_duration columns to more descriptive names\n",
    "fitness_data.rename(\n",
    "    columns={\n",
    "        \"weight\": \"body_weight_kg\" ,\n",
    "        'workout_durations': 'workout_duration_minutes'\n",
    "    }, \n",
    "    inplace = True)\n",
    "fitness_data"
   ]
  },
  {
   "cell_type": "code",
   "execution_count": 58,
   "id": "23f5c77e",
   "metadata": {},
   "outputs": [
    {
     "data": {
      "text/html": [
       "<div>\n",
       "<style scoped>\n",
       "    .dataframe tbody tr th:only-of-type {\n",
       "        vertical-align: middle;\n",
       "    }\n",
       "\n",
       "    .dataframe tbody tr th {\n",
       "        vertical-align: top;\n",
       "    }\n",
       "\n",
       "    .dataframe thead th {\n",
       "        text-align: right;\n",
       "    }\n",
       "</style>\n",
       "<table border=\"1\" class=\"dataframe\">\n",
       "  <thead>\n",
       "    <tr style=\"text-align: right;\">\n",
       "      <th></th>\n",
       "      <th>date</th>\n",
       "      <th>body_weight_kg</th>\n",
       "      <th>steps</th>\n",
       "      <th>resting_heart_rate</th>\n",
       "      <th>sleep_hours</th>\n",
       "      <th>active_minutes</th>\n",
       "      <th>total_calories_burned</th>\n",
       "      <th>workout_type</th>\n",
       "      <th>workout_duration</th>\n",
       "      <th>workout_calories</th>\n",
       "      <th>workout_avg_hr</th>\n",
       "      <th>workout_max_hr</th>\n",
       "      <th>fat_burn_minutes</th>\n",
       "      <th>cardio_minutes</th>\n",
       "      <th>peak_minutes</th>\n",
       "      <th>body_weight_lbs</th>\n",
       "    </tr>\n",
       "  </thead>\n",
       "  <tbody>\n",
       "    <tr>\n",
       "      <th>0</th>\n",
       "      <td>2024-07-01</td>\n",
       "      <td>75.248357</td>\n",
       "      <td>6829.0</td>\n",
       "      <td>63.68</td>\n",
       "      <td>7.03</td>\n",
       "      <td>66.0</td>\n",
       "      <td>664.0</td>\n",
       "      <td>Strength Training</td>\n",
       "      <td>68.28</td>\n",
       "      <td>641.120000</td>\n",
       "      <td>143.67</td>\n",
       "      <td>171.17</td>\n",
       "      <td>33.0</td>\n",
       "      <td>19.0</td>\n",
       "      <td>13.0</td>\n",
       "      <td>165.862429</td>\n",
       "    </tr>\n",
       "    <tr>\n",
       "      <th>1</th>\n",
       "      <td>2024-07-02</td>\n",
       "      <td>74.914564</td>\n",
       "      <td>7741.0</td>\n",
       "      <td>58.63</td>\n",
       "      <td>7.85</td>\n",
       "      <td>66.0</td>\n",
       "      <td>660.0</td>\n",
       "      <td>Rest</td>\n",
       "      <td>0.00</td>\n",
       "      <td>0.000000</td>\n",
       "      <td>0.00</td>\n",
       "      <td>0.00</td>\n",
       "      <td>33.0</td>\n",
       "      <td>19.0</td>\n",
       "      <td>13.0</td>\n",
       "      <td>165.126681</td>\n",
       "    </tr>\n",
       "    <tr>\n",
       "      <th>2</th>\n",
       "      <td>2024-07-03</td>\n",
       "      <td>75.140000</td>\n",
       "      <td>8227.0</td>\n",
       "      <td>58.47</td>\n",
       "      <td>7.53</td>\n",
       "      <td>87.0</td>\n",
       "      <td>873.0</td>\n",
       "      <td>Strength Training</td>\n",
       "      <td>34.34</td>\n",
       "      <td>366.564833</td>\n",
       "      <td>138.63</td>\n",
       "      <td>163.86</td>\n",
       "      <td>43.0</td>\n",
       "      <td>26.0</td>\n",
       "      <td>17.0</td>\n",
       "      <td>165.623588</td>\n",
       "    </tr>\n",
       "    <tr>\n",
       "      <th>3</th>\n",
       "      <td>2024-07-04</td>\n",
       "      <td>75.200000</td>\n",
       "      <td>13262.0</td>\n",
       "      <td>72.51</td>\n",
       "      <td>4.63</td>\n",
       "      <td>111.0</td>\n",
       "      <td>1113.0</td>\n",
       "      <td>Running</td>\n",
       "      <td>62.74</td>\n",
       "      <td>662.040000</td>\n",
       "      <td>152.04</td>\n",
       "      <td>168.87</td>\n",
       "      <td>55.0</td>\n",
       "      <td>33.0</td>\n",
       "      <td>22.0</td>\n",
       "      <td>165.755840</td>\n",
       "    </tr>\n",
       "    <tr>\n",
       "      <th>4</th>\n",
       "      <td>2024-07-05</td>\n",
       "      <td>75.270000</td>\n",
       "      <td>9377.0</td>\n",
       "      <td>73.32</td>\n",
       "      <td>5.38</td>\n",
       "      <td>79.0</td>\n",
       "      <td>790.0</td>\n",
       "      <td>Strength Training</td>\n",
       "      <td>77.88</td>\n",
       "      <td>677.010000</td>\n",
       "      <td>144.06</td>\n",
       "      <td>167.28</td>\n",
       "      <td>39.0</td>\n",
       "      <td>23.0</td>\n",
       "      <td>15.0</td>\n",
       "      <td>165.910134</td>\n",
       "    </tr>\n",
       "  </tbody>\n",
       "</table>\n",
       "</div>"
      ],
      "text/plain": [
       "        date  body_weight_kg    steps  resting_heart_rate  sleep_hours  \\\n",
       "0 2024-07-01       75.248357   6829.0               63.68         7.03   \n",
       "1 2024-07-02       74.914564   7741.0               58.63         7.85   \n",
       "2 2024-07-03       75.140000   8227.0               58.47         7.53   \n",
       "3 2024-07-04       75.200000  13262.0               72.51         4.63   \n",
       "4 2024-07-05       75.270000   9377.0               73.32         5.38   \n",
       "\n",
       "   active_minutes  total_calories_burned       workout_type  workout_duration  \\\n",
       "0            66.0                  664.0  Strength Training             68.28   \n",
       "1            66.0                  660.0               Rest              0.00   \n",
       "2            87.0                  873.0  Strength Training             34.34   \n",
       "3           111.0                 1113.0            Running             62.74   \n",
       "4            79.0                  790.0  Strength Training             77.88   \n",
       "\n",
       "   workout_calories  workout_avg_hr  workout_max_hr  fat_burn_minutes  \\\n",
       "0        641.120000          143.67          171.17              33.0   \n",
       "1          0.000000            0.00            0.00              33.0   \n",
       "2        366.564833          138.63          163.86              43.0   \n",
       "3        662.040000          152.04          168.87              55.0   \n",
       "4        677.010000          144.06          167.28              39.0   \n",
       "\n",
       "   cardio_minutes  peak_minutes  body_weight_lbs  \n",
       "0            19.0          13.0       165.862429  \n",
       "1            19.0          13.0       165.126681  \n",
       "2            26.0          17.0       165.623588  \n",
       "3            33.0          22.0       165.755840  \n",
       "4            23.0          15.0       165.910134  "
      ]
     },
     "execution_count": 58,
     "metadata": {},
     "output_type": "execute_result"
    }
   ],
   "source": [
    "#add a nuew colum that converts the weight to pounds\n",
    "fitness_data['body_weight_lbs'] = fitness_data['body_weight_kg'] * 2.2042\n",
    "fitness_data.head()"
   ]
  },
  {
   "cell_type": "code",
   "execution_count": 59,
   "id": "d9079d08",
   "metadata": {},
   "outputs": [
    {
     "data": {
      "text/html": [
       "<div>\n",
       "<style scoped>\n",
       "    .dataframe tbody tr th:only-of-type {\n",
       "        vertical-align: middle;\n",
       "    }\n",
       "\n",
       "    .dataframe tbody tr th {\n",
       "        vertical-align: top;\n",
       "    }\n",
       "\n",
       "    .dataframe thead th {\n",
       "        text-align: right;\n",
       "    }\n",
       "</style>\n",
       "<table border=\"1\" class=\"dataframe\">\n",
       "  <thead>\n",
       "    <tr style=\"text-align: right;\">\n",
       "      <th></th>\n",
       "      <th>date</th>\n",
       "      <th>body_weight_kg</th>\n",
       "      <th>steps</th>\n",
       "      <th>resting_heart_rate</th>\n",
       "      <th>sleep_hours</th>\n",
       "      <th>active_minutes</th>\n",
       "      <th>total_calories_burned</th>\n",
       "      <th>workout_type</th>\n",
       "      <th>workout_duration</th>\n",
       "      <th>workout_calories</th>\n",
       "      <th>workout_avg_hr</th>\n",
       "      <th>workout_max_hr</th>\n",
       "      <th>fat_burn_minutes</th>\n",
       "      <th>cardio_minutes</th>\n",
       "      <th>peak_minutes</th>\n",
       "      <th>body_weight_lbs</th>\n",
       "      <th>day_of_week</th>\n",
       "      <th>is_weekend</th>\n",
       "    </tr>\n",
       "  </thead>\n",
       "  <tbody>\n",
       "    <tr>\n",
       "      <th>0</th>\n",
       "      <td>2024-07-01</td>\n",
       "      <td>75.248357</td>\n",
       "      <td>6829.0</td>\n",
       "      <td>63.68</td>\n",
       "      <td>7.03</td>\n",
       "      <td>66.0</td>\n",
       "      <td>664.0</td>\n",
       "      <td>Strength Training</td>\n",
       "      <td>68.28</td>\n",
       "      <td>641.120000</td>\n",
       "      <td>143.67</td>\n",
       "      <td>171.17</td>\n",
       "      <td>33.0</td>\n",
       "      <td>19.0</td>\n",
       "      <td>13.0</td>\n",
       "      <td>165.862429</td>\n",
       "      <td>Monday</td>\n",
       "      <td>False</td>\n",
       "    </tr>\n",
       "    <tr>\n",
       "      <th>1</th>\n",
       "      <td>2024-07-02</td>\n",
       "      <td>74.914564</td>\n",
       "      <td>7741.0</td>\n",
       "      <td>58.63</td>\n",
       "      <td>7.85</td>\n",
       "      <td>66.0</td>\n",
       "      <td>660.0</td>\n",
       "      <td>Rest</td>\n",
       "      <td>0.00</td>\n",
       "      <td>0.000000</td>\n",
       "      <td>0.00</td>\n",
       "      <td>0.00</td>\n",
       "      <td>33.0</td>\n",
       "      <td>19.0</td>\n",
       "      <td>13.0</td>\n",
       "      <td>165.126681</td>\n",
       "      <td>Tuesday</td>\n",
       "      <td>False</td>\n",
       "    </tr>\n",
       "    <tr>\n",
       "      <th>2</th>\n",
       "      <td>2024-07-03</td>\n",
       "      <td>75.140000</td>\n",
       "      <td>8227.0</td>\n",
       "      <td>58.47</td>\n",
       "      <td>7.53</td>\n",
       "      <td>87.0</td>\n",
       "      <td>873.0</td>\n",
       "      <td>Strength Training</td>\n",
       "      <td>34.34</td>\n",
       "      <td>366.564833</td>\n",
       "      <td>138.63</td>\n",
       "      <td>163.86</td>\n",
       "      <td>43.0</td>\n",
       "      <td>26.0</td>\n",
       "      <td>17.0</td>\n",
       "      <td>165.623588</td>\n",
       "      <td>Wednesday</td>\n",
       "      <td>False</td>\n",
       "    </tr>\n",
       "    <tr>\n",
       "      <th>3</th>\n",
       "      <td>2024-07-04</td>\n",
       "      <td>75.200000</td>\n",
       "      <td>13262.0</td>\n",
       "      <td>72.51</td>\n",
       "      <td>4.63</td>\n",
       "      <td>111.0</td>\n",
       "      <td>1113.0</td>\n",
       "      <td>Running</td>\n",
       "      <td>62.74</td>\n",
       "      <td>662.040000</td>\n",
       "      <td>152.04</td>\n",
       "      <td>168.87</td>\n",
       "      <td>55.0</td>\n",
       "      <td>33.0</td>\n",
       "      <td>22.0</td>\n",
       "      <td>165.755840</td>\n",
       "      <td>Thursday</td>\n",
       "      <td>False</td>\n",
       "    </tr>\n",
       "    <tr>\n",
       "      <th>4</th>\n",
       "      <td>2024-07-05</td>\n",
       "      <td>75.270000</td>\n",
       "      <td>9377.0</td>\n",
       "      <td>73.32</td>\n",
       "      <td>5.38</td>\n",
       "      <td>79.0</td>\n",
       "      <td>790.0</td>\n",
       "      <td>Strength Training</td>\n",
       "      <td>77.88</td>\n",
       "      <td>677.010000</td>\n",
       "      <td>144.06</td>\n",
       "      <td>167.28</td>\n",
       "      <td>39.0</td>\n",
       "      <td>23.0</td>\n",
       "      <td>15.0</td>\n",
       "      <td>165.910134</td>\n",
       "      <td>Friday</td>\n",
       "      <td>False</td>\n",
       "    </tr>\n",
       "    <tr>\n",
       "      <th>...</th>\n",
       "      <td>...</td>\n",
       "      <td>...</td>\n",
       "      <td>...</td>\n",
       "      <td>...</td>\n",
       "      <td>...</td>\n",
       "      <td>...</td>\n",
       "      <td>...</td>\n",
       "      <td>...</td>\n",
       "      <td>...</td>\n",
       "      <td>...</td>\n",
       "      <td>...</td>\n",
       "      <td>...</td>\n",
       "      <td>...</td>\n",
       "      <td>...</td>\n",
       "      <td>...</td>\n",
       "      <td>...</td>\n",
       "      <td>...</td>\n",
       "      <td>...</td>\n",
       "    </tr>\n",
       "    <tr>\n",
       "      <th>180</th>\n",
       "      <td>2024-12-28</td>\n",
       "      <td>77.690000</td>\n",
       "      <td>5883.0</td>\n",
       "      <td>62.33</td>\n",
       "      <td>9.78</td>\n",
       "      <td>71.0</td>\n",
       "      <td>712.0</td>\n",
       "      <td>Strength Training</td>\n",
       "      <td>94.29</td>\n",
       "      <td>1072.200000</td>\n",
       "      <td>131.24</td>\n",
       "      <td>154.21</td>\n",
       "      <td>35.0</td>\n",
       "      <td>21.0</td>\n",
       "      <td>14.0</td>\n",
       "      <td>171.244298</td>\n",
       "      <td>Saturday</td>\n",
       "      <td>True</td>\n",
       "    </tr>\n",
       "    <tr>\n",
       "      <th>181</th>\n",
       "      <td>2024-12-29</td>\n",
       "      <td>77.610000</td>\n",
       "      <td>8639.0</td>\n",
       "      <td>66.12</td>\n",
       "      <td>6.55</td>\n",
       "      <td>87.0</td>\n",
       "      <td>874.0</td>\n",
       "      <td>Running</td>\n",
       "      <td>41.47</td>\n",
       "      <td>419.240000</td>\n",
       "      <td>139.88</td>\n",
       "      <td>157.09</td>\n",
       "      <td>43.0</td>\n",
       "      <td>26.0</td>\n",
       "      <td>17.0</td>\n",
       "      <td>171.067962</td>\n",
       "      <td>Sunday</td>\n",
       "      <td>True</td>\n",
       "    </tr>\n",
       "    <tr>\n",
       "      <th>182</th>\n",
       "      <td>2024-12-30</td>\n",
       "      <td>77.490000</td>\n",
       "      <td>8587.0</td>\n",
       "      <td>61.23</td>\n",
       "      <td>8.02</td>\n",
       "      <td>87.0</td>\n",
       "      <td>874.0</td>\n",
       "      <td>Rest</td>\n",
       "      <td>0.00</td>\n",
       "      <td>0.000000</td>\n",
       "      <td>0.00</td>\n",
       "      <td>0.00</td>\n",
       "      <td>43.0</td>\n",
       "      <td>26.0</td>\n",
       "      <td>17.0</td>\n",
       "      <td>170.803458</td>\n",
       "      <td>Monday</td>\n",
       "      <td>False</td>\n",
       "    </tr>\n",
       "    <tr>\n",
       "      <th>183</th>\n",
       "      <td>2024-12-31</td>\n",
       "      <td>77.550000</td>\n",
       "      <td>10408.0</td>\n",
       "      <td>59.33</td>\n",
       "      <td>4.57</td>\n",
       "      <td>90.0</td>\n",
       "      <td>900.0</td>\n",
       "      <td>HIIT</td>\n",
       "      <td>26.73</td>\n",
       "      <td>267.900000</td>\n",
       "      <td>133.59</td>\n",
       "      <td>146.81</td>\n",
       "      <td>45.0</td>\n",
       "      <td>27.0</td>\n",
       "      <td>18.0</td>\n",
       "      <td>170.935710</td>\n",
       "      <td>Tuesday</td>\n",
       "      <td>False</td>\n",
       "    </tr>\n",
       "    <tr>\n",
       "      <th>184</th>\n",
       "      <td>2025-01-01</td>\n",
       "      <td>78.170000</td>\n",
       "      <td>3257.0</td>\n",
       "      <td>63.24</td>\n",
       "      <td>3.17</td>\n",
       "      <td>78.0</td>\n",
       "      <td>784.0</td>\n",
       "      <td>Rest</td>\n",
       "      <td>0.00</td>\n",
       "      <td>0.000000</td>\n",
       "      <td>0.00</td>\n",
       "      <td>0.00</td>\n",
       "      <td>39.0</td>\n",
       "      <td>23.0</td>\n",
       "      <td>15.0</td>\n",
       "      <td>172.302314</td>\n",
       "      <td>Wednesday</td>\n",
       "      <td>False</td>\n",
       "    </tr>\n",
       "  </tbody>\n",
       "</table>\n",
       "<p>185 rows × 18 columns</p>\n",
       "</div>"
      ],
      "text/plain": [
       "          date  body_weight_kg    steps  resting_heart_rate  sleep_hours  \\\n",
       "0   2024-07-01       75.248357   6829.0               63.68         7.03   \n",
       "1   2024-07-02       74.914564   7741.0               58.63         7.85   \n",
       "2   2024-07-03       75.140000   8227.0               58.47         7.53   \n",
       "3   2024-07-04       75.200000  13262.0               72.51         4.63   \n",
       "4   2024-07-05       75.270000   9377.0               73.32         5.38   \n",
       "..         ...             ...      ...                 ...          ...   \n",
       "180 2024-12-28       77.690000   5883.0               62.33         9.78   \n",
       "181 2024-12-29       77.610000   8639.0               66.12         6.55   \n",
       "182 2024-12-30       77.490000   8587.0               61.23         8.02   \n",
       "183 2024-12-31       77.550000  10408.0               59.33         4.57   \n",
       "184 2025-01-01       78.170000   3257.0               63.24         3.17   \n",
       "\n",
       "     active_minutes  total_calories_burned       workout_type  \\\n",
       "0              66.0                  664.0  Strength Training   \n",
       "1              66.0                  660.0               Rest   \n",
       "2              87.0                  873.0  Strength Training   \n",
       "3             111.0                 1113.0            Running   \n",
       "4              79.0                  790.0  Strength Training   \n",
       "..              ...                    ...                ...   \n",
       "180            71.0                  712.0  Strength Training   \n",
       "181            87.0                  874.0            Running   \n",
       "182            87.0                  874.0               Rest   \n",
       "183            90.0                  900.0               HIIT   \n",
       "184            78.0                  784.0               Rest   \n",
       "\n",
       "     workout_duration  workout_calories  workout_avg_hr  workout_max_hr  \\\n",
       "0               68.28        641.120000          143.67          171.17   \n",
       "1                0.00          0.000000            0.00            0.00   \n",
       "2               34.34        366.564833          138.63          163.86   \n",
       "3               62.74        662.040000          152.04          168.87   \n",
       "4               77.88        677.010000          144.06          167.28   \n",
       "..                ...               ...             ...             ...   \n",
       "180             94.29       1072.200000          131.24          154.21   \n",
       "181             41.47        419.240000          139.88          157.09   \n",
       "182              0.00          0.000000            0.00            0.00   \n",
       "183             26.73        267.900000          133.59          146.81   \n",
       "184              0.00          0.000000            0.00            0.00   \n",
       "\n",
       "     fat_burn_minutes  cardio_minutes  peak_minutes  body_weight_lbs  \\\n",
       "0                33.0            19.0          13.0       165.862429   \n",
       "1                33.0            19.0          13.0       165.126681   \n",
       "2                43.0            26.0          17.0       165.623588   \n",
       "3                55.0            33.0          22.0       165.755840   \n",
       "4                39.0            23.0          15.0       165.910134   \n",
       "..                ...             ...           ...              ...   \n",
       "180              35.0            21.0          14.0       171.244298   \n",
       "181              43.0            26.0          17.0       171.067962   \n",
       "182              43.0            26.0          17.0       170.803458   \n",
       "183              45.0            27.0          18.0       170.935710   \n",
       "184              39.0            23.0          15.0       172.302314   \n",
       "\n",
       "    day_of_week  is_weekend  \n",
       "0        Monday       False  \n",
       "1       Tuesday       False  \n",
       "2     Wednesday       False  \n",
       "3      Thursday       False  \n",
       "4        Friday       False  \n",
       "..          ...         ...  \n",
       "180    Saturday        True  \n",
       "181      Sunday        True  \n",
       "182      Monday       False  \n",
       "183     Tuesday       False  \n",
       "184   Wednesday       False  \n",
       "\n",
       "[185 rows x 18 columns]"
      ]
     },
     "execution_count": 59,
     "metadata": {},
     "output_type": "execute_result"
    }
   ],
   "source": [
    "#add a new column to indicate the day of the week\n",
    "fitness_data['day_of_week'] = fitness_data['date'].dt.day_name()\n",
    "#add a new column to indicate the day of the week\n",
    "fitness_data['is_weekend'] = fitness_data['day_of_week'].isin(['Saturday','Sunday'])\n",
    "fitness_data"
   ]
  },
  {
   "cell_type": "code",
   "execution_count": 60,
   "id": "f76a2f38",
   "metadata": {},
   "outputs": [
    {
     "data": {
      "text/html": [
       "<div>\n",
       "<style scoped>\n",
       "    .dataframe tbody tr th:only-of-type {\n",
       "        vertical-align: middle;\n",
       "    }\n",
       "\n",
       "    .dataframe tbody tr th {\n",
       "        vertical-align: top;\n",
       "    }\n",
       "\n",
       "    .dataframe thead th {\n",
       "        text-align: right;\n",
       "    }\n",
       "</style>\n",
       "<table border=\"1\" class=\"dataframe\">\n",
       "  <thead>\n",
       "    <tr style=\"text-align: right;\">\n",
       "      <th></th>\n",
       "      <th>date</th>\n",
       "      <th>body_weight_kg</th>\n",
       "      <th>steps</th>\n",
       "      <th>resting_heart_rate</th>\n",
       "      <th>sleep_hours</th>\n",
       "      <th>active_minutes</th>\n",
       "      <th>total_calories_burned</th>\n",
       "      <th>workout_type</th>\n",
       "      <th>workout_duration</th>\n",
       "      <th>workout_calories</th>\n",
       "      <th>workout_avg_hr</th>\n",
       "      <th>workout_max_hr</th>\n",
       "      <th>fat_burn_minutes</th>\n",
       "      <th>cardio_minutes</th>\n",
       "      <th>peak_minutes</th>\n",
       "      <th>body_weight_lbs</th>\n",
       "      <th>day_of_week</th>\n",
       "      <th>is_weekend</th>\n",
       "      <th>sleep_debt</th>\n",
       "      <th>cumulative_sleep_debt</th>\n",
       "    </tr>\n",
       "  </thead>\n",
       "  <tbody>\n",
       "    <tr>\n",
       "      <th>0</th>\n",
       "      <td>2024-07-01</td>\n",
       "      <td>75.248357</td>\n",
       "      <td>6829.0</td>\n",
       "      <td>63.68</td>\n",
       "      <td>7.03</td>\n",
       "      <td>66.0</td>\n",
       "      <td>664.0</td>\n",
       "      <td>Strength Training</td>\n",
       "      <td>68.28</td>\n",
       "      <td>641.120000</td>\n",
       "      <td>143.67</td>\n",
       "      <td>171.17</td>\n",
       "      <td>33.0</td>\n",
       "      <td>19.0</td>\n",
       "      <td>13.0</td>\n",
       "      <td>165.862429</td>\n",
       "      <td>Monday</td>\n",
       "      <td>False</td>\n",
       "      <td>-0.47</td>\n",
       "      <td>-0.470000</td>\n",
       "    </tr>\n",
       "    <tr>\n",
       "      <th>1</th>\n",
       "      <td>2024-07-02</td>\n",
       "      <td>74.914564</td>\n",
       "      <td>7741.0</td>\n",
       "      <td>58.63</td>\n",
       "      <td>7.85</td>\n",
       "      <td>66.0</td>\n",
       "      <td>660.0</td>\n",
       "      <td>Rest</td>\n",
       "      <td>0.00</td>\n",
       "      <td>0.000000</td>\n",
       "      <td>0.00</td>\n",
       "      <td>0.00</td>\n",
       "      <td>33.0</td>\n",
       "      <td>19.0</td>\n",
       "      <td>13.0</td>\n",
       "      <td>165.126681</td>\n",
       "      <td>Tuesday</td>\n",
       "      <td>False</td>\n",
       "      <td>0.35</td>\n",
       "      <td>-0.120000</td>\n",
       "    </tr>\n",
       "    <tr>\n",
       "      <th>2</th>\n",
       "      <td>2024-07-03</td>\n",
       "      <td>75.140000</td>\n",
       "      <td>8227.0</td>\n",
       "      <td>58.47</td>\n",
       "      <td>7.53</td>\n",
       "      <td>87.0</td>\n",
       "      <td>873.0</td>\n",
       "      <td>Strength Training</td>\n",
       "      <td>34.34</td>\n",
       "      <td>366.564833</td>\n",
       "      <td>138.63</td>\n",
       "      <td>163.86</td>\n",
       "      <td>43.0</td>\n",
       "      <td>26.0</td>\n",
       "      <td>17.0</td>\n",
       "      <td>165.623588</td>\n",
       "      <td>Wednesday</td>\n",
       "      <td>False</td>\n",
       "      <td>0.03</td>\n",
       "      <td>-0.090000</td>\n",
       "    </tr>\n",
       "    <tr>\n",
       "      <th>3</th>\n",
       "      <td>2024-07-04</td>\n",
       "      <td>75.200000</td>\n",
       "      <td>13262.0</td>\n",
       "      <td>72.51</td>\n",
       "      <td>4.63</td>\n",
       "      <td>111.0</td>\n",
       "      <td>1113.0</td>\n",
       "      <td>Running</td>\n",
       "      <td>62.74</td>\n",
       "      <td>662.040000</td>\n",
       "      <td>152.04</td>\n",
       "      <td>168.87</td>\n",
       "      <td>55.0</td>\n",
       "      <td>33.0</td>\n",
       "      <td>22.0</td>\n",
       "      <td>165.755840</td>\n",
       "      <td>Thursday</td>\n",
       "      <td>False</td>\n",
       "      <td>-2.87</td>\n",
       "      <td>-2.960000</td>\n",
       "    </tr>\n",
       "    <tr>\n",
       "      <th>4</th>\n",
       "      <td>2024-07-05</td>\n",
       "      <td>75.270000</td>\n",
       "      <td>9377.0</td>\n",
       "      <td>73.32</td>\n",
       "      <td>5.38</td>\n",
       "      <td>79.0</td>\n",
       "      <td>790.0</td>\n",
       "      <td>Strength Training</td>\n",
       "      <td>77.88</td>\n",
       "      <td>677.010000</td>\n",
       "      <td>144.06</td>\n",
       "      <td>167.28</td>\n",
       "      <td>39.0</td>\n",
       "      <td>23.0</td>\n",
       "      <td>15.0</td>\n",
       "      <td>165.910134</td>\n",
       "      <td>Friday</td>\n",
       "      <td>False</td>\n",
       "      <td>-2.12</td>\n",
       "      <td>-5.080000</td>\n",
       "    </tr>\n",
       "    <tr>\n",
       "      <th>...</th>\n",
       "      <td>...</td>\n",
       "      <td>...</td>\n",
       "      <td>...</td>\n",
       "      <td>...</td>\n",
       "      <td>...</td>\n",
       "      <td>...</td>\n",
       "      <td>...</td>\n",
       "      <td>...</td>\n",
       "      <td>...</td>\n",
       "      <td>...</td>\n",
       "      <td>...</td>\n",
       "      <td>...</td>\n",
       "      <td>...</td>\n",
       "      <td>...</td>\n",
       "      <td>...</td>\n",
       "      <td>...</td>\n",
       "      <td>...</td>\n",
       "      <td>...</td>\n",
       "      <td>...</td>\n",
       "      <td>...</td>\n",
       "    </tr>\n",
       "    <tr>\n",
       "      <th>180</th>\n",
       "      <td>2024-12-28</td>\n",
       "      <td>77.690000</td>\n",
       "      <td>5883.0</td>\n",
       "      <td>62.33</td>\n",
       "      <td>9.78</td>\n",
       "      <td>71.0</td>\n",
       "      <td>712.0</td>\n",
       "      <td>Strength Training</td>\n",
       "      <td>94.29</td>\n",
       "      <td>1072.200000</td>\n",
       "      <td>131.24</td>\n",
       "      <td>154.21</td>\n",
       "      <td>35.0</td>\n",
       "      <td>21.0</td>\n",
       "      <td>14.0</td>\n",
       "      <td>171.244298</td>\n",
       "      <td>Saturday</td>\n",
       "      <td>True</td>\n",
       "      <td>2.28</td>\n",
       "      <td>9.740577</td>\n",
       "    </tr>\n",
       "    <tr>\n",
       "      <th>181</th>\n",
       "      <td>2024-12-29</td>\n",
       "      <td>77.610000</td>\n",
       "      <td>8639.0</td>\n",
       "      <td>66.12</td>\n",
       "      <td>6.55</td>\n",
       "      <td>87.0</td>\n",
       "      <td>874.0</td>\n",
       "      <td>Running</td>\n",
       "      <td>41.47</td>\n",
       "      <td>419.240000</td>\n",
       "      <td>139.88</td>\n",
       "      <td>157.09</td>\n",
       "      <td>43.0</td>\n",
       "      <td>26.0</td>\n",
       "      <td>17.0</td>\n",
       "      <td>171.067962</td>\n",
       "      <td>Sunday</td>\n",
       "      <td>True</td>\n",
       "      <td>-0.95</td>\n",
       "      <td>8.790577</td>\n",
       "    </tr>\n",
       "    <tr>\n",
       "      <th>182</th>\n",
       "      <td>2024-12-30</td>\n",
       "      <td>77.490000</td>\n",
       "      <td>8587.0</td>\n",
       "      <td>61.23</td>\n",
       "      <td>8.02</td>\n",
       "      <td>87.0</td>\n",
       "      <td>874.0</td>\n",
       "      <td>Rest</td>\n",
       "      <td>0.00</td>\n",
       "      <td>0.000000</td>\n",
       "      <td>0.00</td>\n",
       "      <td>0.00</td>\n",
       "      <td>43.0</td>\n",
       "      <td>26.0</td>\n",
       "      <td>17.0</td>\n",
       "      <td>170.803458</td>\n",
       "      <td>Monday</td>\n",
       "      <td>False</td>\n",
       "      <td>0.52</td>\n",
       "      <td>9.310577</td>\n",
       "    </tr>\n",
       "    <tr>\n",
       "      <th>183</th>\n",
       "      <td>2024-12-31</td>\n",
       "      <td>77.550000</td>\n",
       "      <td>10408.0</td>\n",
       "      <td>59.33</td>\n",
       "      <td>4.57</td>\n",
       "      <td>90.0</td>\n",
       "      <td>900.0</td>\n",
       "      <td>HIIT</td>\n",
       "      <td>26.73</td>\n",
       "      <td>267.900000</td>\n",
       "      <td>133.59</td>\n",
       "      <td>146.81</td>\n",
       "      <td>45.0</td>\n",
       "      <td>27.0</td>\n",
       "      <td>18.0</td>\n",
       "      <td>170.935710</td>\n",
       "      <td>Tuesday</td>\n",
       "      <td>False</td>\n",
       "      <td>-2.93</td>\n",
       "      <td>6.380577</td>\n",
       "    </tr>\n",
       "    <tr>\n",
       "      <th>184</th>\n",
       "      <td>2025-01-01</td>\n",
       "      <td>78.170000</td>\n",
       "      <td>3257.0</td>\n",
       "      <td>63.24</td>\n",
       "      <td>3.17</td>\n",
       "      <td>78.0</td>\n",
       "      <td>784.0</td>\n",
       "      <td>Rest</td>\n",
       "      <td>0.00</td>\n",
       "      <td>0.000000</td>\n",
       "      <td>0.00</td>\n",
       "      <td>0.00</td>\n",
       "      <td>39.0</td>\n",
       "      <td>23.0</td>\n",
       "      <td>15.0</td>\n",
       "      <td>172.302314</td>\n",
       "      <td>Wednesday</td>\n",
       "      <td>False</td>\n",
       "      <td>-4.33</td>\n",
       "      <td>2.050577</td>\n",
       "    </tr>\n",
       "  </tbody>\n",
       "</table>\n",
       "<p>185 rows × 20 columns</p>\n",
       "</div>"
      ],
      "text/plain": [
       "          date  body_weight_kg    steps  resting_heart_rate  sleep_hours  \\\n",
       "0   2024-07-01       75.248357   6829.0               63.68         7.03   \n",
       "1   2024-07-02       74.914564   7741.0               58.63         7.85   \n",
       "2   2024-07-03       75.140000   8227.0               58.47         7.53   \n",
       "3   2024-07-04       75.200000  13262.0               72.51         4.63   \n",
       "4   2024-07-05       75.270000   9377.0               73.32         5.38   \n",
       "..         ...             ...      ...                 ...          ...   \n",
       "180 2024-12-28       77.690000   5883.0               62.33         9.78   \n",
       "181 2024-12-29       77.610000   8639.0               66.12         6.55   \n",
       "182 2024-12-30       77.490000   8587.0               61.23         8.02   \n",
       "183 2024-12-31       77.550000  10408.0               59.33         4.57   \n",
       "184 2025-01-01       78.170000   3257.0               63.24         3.17   \n",
       "\n",
       "     active_minutes  total_calories_burned       workout_type  \\\n",
       "0              66.0                  664.0  Strength Training   \n",
       "1              66.0                  660.0               Rest   \n",
       "2              87.0                  873.0  Strength Training   \n",
       "3             111.0                 1113.0            Running   \n",
       "4              79.0                  790.0  Strength Training   \n",
       "..              ...                    ...                ...   \n",
       "180            71.0                  712.0  Strength Training   \n",
       "181            87.0                  874.0            Running   \n",
       "182            87.0                  874.0               Rest   \n",
       "183            90.0                  900.0               HIIT   \n",
       "184            78.0                  784.0               Rest   \n",
       "\n",
       "     workout_duration  workout_calories  workout_avg_hr  workout_max_hr  \\\n",
       "0               68.28        641.120000          143.67          171.17   \n",
       "1                0.00          0.000000            0.00            0.00   \n",
       "2               34.34        366.564833          138.63          163.86   \n",
       "3               62.74        662.040000          152.04          168.87   \n",
       "4               77.88        677.010000          144.06          167.28   \n",
       "..                ...               ...             ...             ...   \n",
       "180             94.29       1072.200000          131.24          154.21   \n",
       "181             41.47        419.240000          139.88          157.09   \n",
       "182              0.00          0.000000            0.00            0.00   \n",
       "183             26.73        267.900000          133.59          146.81   \n",
       "184              0.00          0.000000            0.00            0.00   \n",
       "\n",
       "     fat_burn_minutes  cardio_minutes  peak_minutes  body_weight_lbs  \\\n",
       "0                33.0            19.0          13.0       165.862429   \n",
       "1                33.0            19.0          13.0       165.126681   \n",
       "2                43.0            26.0          17.0       165.623588   \n",
       "3                55.0            33.0          22.0       165.755840   \n",
       "4                39.0            23.0          15.0       165.910134   \n",
       "..                ...             ...           ...              ...   \n",
       "180              35.0            21.0          14.0       171.244298   \n",
       "181              43.0            26.0          17.0       171.067962   \n",
       "182              43.0            26.0          17.0       170.803458   \n",
       "183              45.0            27.0          18.0       170.935710   \n",
       "184              39.0            23.0          15.0       172.302314   \n",
       "\n",
       "    day_of_week  is_weekend  sleep_debt  cumulative_sleep_debt  \n",
       "0        Monday       False       -0.47              -0.470000  \n",
       "1       Tuesday       False        0.35              -0.120000  \n",
       "2     Wednesday       False        0.03              -0.090000  \n",
       "3      Thursday       False       -2.87              -2.960000  \n",
       "4        Friday       False       -2.12              -5.080000  \n",
       "..          ...         ...         ...                    ...  \n",
       "180    Saturday        True        2.28               9.740577  \n",
       "181      Sunday        True       -0.95               8.790577  \n",
       "182      Monday       False        0.52               9.310577  \n",
       "183     Tuesday       False       -2.93               6.380577  \n",
       "184   Wednesday       False       -4.33               2.050577  \n",
       "\n",
       "[185 rows x 20 columns]"
      ]
     },
     "execution_count": 60,
     "metadata": {},
     "output_type": "execute_result"
    }
   ],
   "source": [
    "#add a new column that calculates the difference between sleep_hours ad a target of 7.5hrs\n",
    "fitness_data['sleep_debt'] = fitness_data['sleep_hours'] - 7.5\n",
    "\n",
    "#add a cumlative column for the sleep_debt\n",
    "fitness_data['cumulative_sleep_debt'] = fitness_data['sleep_debt'].cumsum()\n",
    "\n",
    "fitness_data"
   ]
  },
  {
   "cell_type": "markdown",
   "id": "07f0a380",
   "metadata": {},
   "source": [
    "**Visualizing trend across single variables**"
   ]
  },
  {
   "cell_type": "code",
   "execution_count": 61,
   "id": "e99c0cec",
   "metadata": {},
   "outputs": [
    {
     "name": "stdout",
     "output_type": "stream",
     "text": [
      "Renderers configuration\n",
      "-----------------------\n",
      "    Default renderer: 'vscode'\n",
      "    Available renderers:\n",
      "        ['plotly_mimetype', 'jupyterlab', 'nteract', 'vscode',\n",
      "         'notebook', 'notebook_connected', 'kaggle', 'azure', 'colab',\n",
      "         'cocalc', 'databricks', 'json', 'png', 'jpeg', 'jpg', 'svg',\n",
      "         'pdf', 'browser', 'firefox', 'chrome', 'chromium', 'iframe',\n",
      "         'iframe_connected', 'sphinx_gallery', 'sphinx_gallery_png']\n",
      "\n"
     ]
    }
   ],
   "source": [
    "import plotly.io as pio\n",
    "print(pio.renderers)"
   ]
  },
  {
   "cell_type": "code",
   "execution_count": 62,
   "id": "b2f687fe",
   "metadata": {},
   "outputs": [
    {
     "data": {
      "application/vnd.plotly.v1+json": {
       "config": {
        "plotlyServerURL": "https://plot.ly"
       },
       "data": [
        {
         "bingroup": "x",
         "hovertemplate": "steps=%{x}<br>count=%{y}<extra></extra>",
         "legendgroup": "",
         "marker": {
          "color": "#636efa",
          "pattern": {
           "shape": ""
          }
         },
         "name": "",
         "orientation": "v",
         "showlegend": false,
         "type": "histogram",
         "x": {
          "bdata": "AAAAAACtukAAAAAAAD2+QAAAAACAEcBAAAAAAADnyUAAAAAAgFDCQAAAAAAARL9AAAAAAAAwskAAAAAAAGy4QAAAAAAAuMZAAAAAAADyuEAAAAAAADS0QAAAAACAqMFAAAAAAADqxEAAAAAAAO6/QAAAAAAA5LdAAAAAAABywkAAAAAAAD2+QAAAAAAAuMRAAAAAAADPs0AAAAAAgFrBQAAAAAAAyrhAAAAAAIDxwEAAAAAAANXAQAAAAAAAiLlAAAAAAAA7v0AAAAAAAP/CQAAAAAAAE8dAAAAAAAC4xEAAAAAAALLBQAAAAAAAcLNAAAAAAICewEAAAAAAAOi8QAAAAAAA0cBAAAAAAAD3yEAAAAAAgOHBQAAAAAAA779AAAAAAICOwUAAAAAAAPC0QAAAAAAAabhAAAAAAIDwwkAAAAAAABDBQAAAAAAAYbtAAAAAAACuwkAAAAAAADK+QAAAAAAA47NAAAAAAACYtUAAAAAAgF7AQAAAAAAA9r9AAAAAAADdxEAAAAAAANq2QAAAAAAAAblAAAAAAIALwkAAAAAAAPi/QAAAAAAAtr1AAAAAAABzw0AAAAAAAJa8QAAAAAAALLpAAAAAAACmvEAAAAAAANDAQAAAAAAA27tAAAAAAABGykAAAAAAgFjMQAAAAAAAqMFAAAAAAIAfwkAAAAAAAIPEQAAAAAAApL9AAAAAAADRtkAAAAAAANqzQAAAAAAAfbpAAAAAAACsukAAAAAAgLDAQAAAAACAqMFAAAAAAABAvkAAAAAAAEy1QAAAAACA68VAAAAAAAAcwUAAAAAAgPzBQAAAAACA88ZAAAAAAAC9vUAAAAAAAOi8QAAAAACAHsNAAAAAAIAbwUAAAAAAAA3GQAAAAAAA8cFAAAAAAABvu0AAAAAAAIy6QAAAAAAA7bRAAAAAAAD0xEAAAAAAAD3EQAAAAAAAib9AAAAAAAA6tEAAAAAAAMu3QAAAAACA5sJAAAAAAIDkwUAAAAAAAMjBQAAAAAAAWsFAAAAAAAC2zkAAAAAAgF7AQAAAAAAANb5AAAAAAAAJvkAAAAAAAAy5QAAAAAAADqlAAAAAAICNwEAAAAAAABK7QAAAAAAAbr9AAAAAAIARxUAAAAAAAO+5QAAAAAAAT8NAAAAAAAD4wkAAAAAAAKG8QAAAAACA2sBAAAAAAIBHwkAAAAAAALy3QAAAAACAIcBAAAAAAIBxyUAAAAAAAM68QAAAAAAAnL9AAAAAAAAhvkAAAAAAAELBQAAAAAAAwLxAAAAAAIDhxkAAAAAAAKbAQAAAAAAAWMJAAAAAAIBdzEAAAAAAAOnHQAAAAAAAArRAAAAAAACZsUAAAAAAAN66QAAAAAAAubtAAAAAAABitUAAAAAAgLPBQAAAAACAw8ZAAAAAAIAlw0AAAAAAAKi1QAAAAAAAoMJAAAAAAAD0w0AAAAAAAIuzQAAAAAAABsVAAAAAAAAmw0AAAAAAgLXCQAAAAAAAV7dAAAAAAABdxkAAAAAAAAGzQAAAAAAAbbhAAAAAAAA0wkAAAAAAAFPNQAAAAAAAw8ZAAAAAAAC9tUAAAAAAAEC2QAAAAAAA071AAAAAAAAA+H8AAAAAAAD4fwAAAAAAAPh/AAAAAIA+xEAAAAAAgAnAQAAAAACAH8JAAAAAAACiukAAAAAAAGrGQAAAAACAGMNAAAAAAABPzUAAAAAAAA3DQAAAAAAAXrRAAAAAAAB3uEAAAAAAAEnBQAAAAACABchAAAAAAABMqUAAAAAAANe5QAAAAACAc8dAAAAAAIBYwkAAAAAAAG3BQAAAAACAasFAAAAAAADuwUAAAAAAAGHGQAAAAAAAqr9AAAAAAACCwkAAAAAAAAS8QAAAAAAAAPh/AAAAAAAA+H8AAAAAAAD4fwAAAACAD8dAAAAAAAD7tkAAAAAAgN/AQAAAAACAxcBAAAAAAABUxEAAAAAAAHKpQA==",
          "dtype": "f8"
         },
         "xaxis": "x",
         "yaxis": "y"
        }
       ],
       "layout": {
        "barmode": "relative",
        "legend": {
         "tracegroupgap": 0
        },
        "template": {
         "data": {
          "bar": [
           {
            "error_x": {
             "color": "#2a3f5f"
            },
            "error_y": {
             "color": "#2a3f5f"
            },
            "marker": {
             "line": {
              "color": "#E5ECF6",
              "width": 0.5
             },
             "pattern": {
              "fillmode": "overlay",
              "size": 10,
              "solidity": 0.2
             }
            },
            "type": "bar"
           }
          ],
          "barpolar": [
           {
            "marker": {
             "line": {
              "color": "#E5ECF6",
              "width": 0.5
             },
             "pattern": {
              "fillmode": "overlay",
              "size": 10,
              "solidity": 0.2
             }
            },
            "type": "barpolar"
           }
          ],
          "carpet": [
           {
            "aaxis": {
             "endlinecolor": "#2a3f5f",
             "gridcolor": "white",
             "linecolor": "white",
             "minorgridcolor": "white",
             "startlinecolor": "#2a3f5f"
            },
            "baxis": {
             "endlinecolor": "#2a3f5f",
             "gridcolor": "white",
             "linecolor": "white",
             "minorgridcolor": "white",
             "startlinecolor": "#2a3f5f"
            },
            "type": "carpet"
           }
          ],
          "choropleth": [
           {
            "colorbar": {
             "outlinewidth": 0,
             "ticks": ""
            },
            "type": "choropleth"
           }
          ],
          "contour": [
           {
            "colorbar": {
             "outlinewidth": 0,
             "ticks": ""
            },
            "colorscale": [
             [
              0,
              "#0d0887"
             ],
             [
              0.1111111111111111,
              "#46039f"
             ],
             [
              0.2222222222222222,
              "#7201a8"
             ],
             [
              0.3333333333333333,
              "#9c179e"
             ],
             [
              0.4444444444444444,
              "#bd3786"
             ],
             [
              0.5555555555555556,
              "#d8576b"
             ],
             [
              0.6666666666666666,
              "#ed7953"
             ],
             [
              0.7777777777777778,
              "#fb9f3a"
             ],
             [
              0.8888888888888888,
              "#fdca26"
             ],
             [
              1,
              "#f0f921"
             ]
            ],
            "type": "contour"
           }
          ],
          "contourcarpet": [
           {
            "colorbar": {
             "outlinewidth": 0,
             "ticks": ""
            },
            "type": "contourcarpet"
           }
          ],
          "heatmap": [
           {
            "colorbar": {
             "outlinewidth": 0,
             "ticks": ""
            },
            "colorscale": [
             [
              0,
              "#0d0887"
             ],
             [
              0.1111111111111111,
              "#46039f"
             ],
             [
              0.2222222222222222,
              "#7201a8"
             ],
             [
              0.3333333333333333,
              "#9c179e"
             ],
             [
              0.4444444444444444,
              "#bd3786"
             ],
             [
              0.5555555555555556,
              "#d8576b"
             ],
             [
              0.6666666666666666,
              "#ed7953"
             ],
             [
              0.7777777777777778,
              "#fb9f3a"
             ],
             [
              0.8888888888888888,
              "#fdca26"
             ],
             [
              1,
              "#f0f921"
             ]
            ],
            "type": "heatmap"
           }
          ],
          "histogram": [
           {
            "marker": {
             "pattern": {
              "fillmode": "overlay",
              "size": 10,
              "solidity": 0.2
             }
            },
            "type": "histogram"
           }
          ],
          "histogram2d": [
           {
            "colorbar": {
             "outlinewidth": 0,
             "ticks": ""
            },
            "colorscale": [
             [
              0,
              "#0d0887"
             ],
             [
              0.1111111111111111,
              "#46039f"
             ],
             [
              0.2222222222222222,
              "#7201a8"
             ],
             [
              0.3333333333333333,
              "#9c179e"
             ],
             [
              0.4444444444444444,
              "#bd3786"
             ],
             [
              0.5555555555555556,
              "#d8576b"
             ],
             [
              0.6666666666666666,
              "#ed7953"
             ],
             [
              0.7777777777777778,
              "#fb9f3a"
             ],
             [
              0.8888888888888888,
              "#fdca26"
             ],
             [
              1,
              "#f0f921"
             ]
            ],
            "type": "histogram2d"
           }
          ],
          "histogram2dcontour": [
           {
            "colorbar": {
             "outlinewidth": 0,
             "ticks": ""
            },
            "colorscale": [
             [
              0,
              "#0d0887"
             ],
             [
              0.1111111111111111,
              "#46039f"
             ],
             [
              0.2222222222222222,
              "#7201a8"
             ],
             [
              0.3333333333333333,
              "#9c179e"
             ],
             [
              0.4444444444444444,
              "#bd3786"
             ],
             [
              0.5555555555555556,
              "#d8576b"
             ],
             [
              0.6666666666666666,
              "#ed7953"
             ],
             [
              0.7777777777777778,
              "#fb9f3a"
             ],
             [
              0.8888888888888888,
              "#fdca26"
             ],
             [
              1,
              "#f0f921"
             ]
            ],
            "type": "histogram2dcontour"
           }
          ],
          "mesh3d": [
           {
            "colorbar": {
             "outlinewidth": 0,
             "ticks": ""
            },
            "type": "mesh3d"
           }
          ],
          "parcoords": [
           {
            "line": {
             "colorbar": {
              "outlinewidth": 0,
              "ticks": ""
             }
            },
            "type": "parcoords"
           }
          ],
          "pie": [
           {
            "automargin": true,
            "type": "pie"
           }
          ],
          "scatter": [
           {
            "fillpattern": {
             "fillmode": "overlay",
             "size": 10,
             "solidity": 0.2
            },
            "type": "scatter"
           }
          ],
          "scatter3d": [
           {
            "line": {
             "colorbar": {
              "outlinewidth": 0,
              "ticks": ""
             }
            },
            "marker": {
             "colorbar": {
              "outlinewidth": 0,
              "ticks": ""
             }
            },
            "type": "scatter3d"
           }
          ],
          "scattercarpet": [
           {
            "marker": {
             "colorbar": {
              "outlinewidth": 0,
              "ticks": ""
             }
            },
            "type": "scattercarpet"
           }
          ],
          "scattergeo": [
           {
            "marker": {
             "colorbar": {
              "outlinewidth": 0,
              "ticks": ""
             }
            },
            "type": "scattergeo"
           }
          ],
          "scattergl": [
           {
            "marker": {
             "colorbar": {
              "outlinewidth": 0,
              "ticks": ""
             }
            },
            "type": "scattergl"
           }
          ],
          "scattermap": [
           {
            "marker": {
             "colorbar": {
              "outlinewidth": 0,
              "ticks": ""
             }
            },
            "type": "scattermap"
           }
          ],
          "scattermapbox": [
           {
            "marker": {
             "colorbar": {
              "outlinewidth": 0,
              "ticks": ""
             }
            },
            "type": "scattermapbox"
           }
          ],
          "scatterpolar": [
           {
            "marker": {
             "colorbar": {
              "outlinewidth": 0,
              "ticks": ""
             }
            },
            "type": "scatterpolar"
           }
          ],
          "scatterpolargl": [
           {
            "marker": {
             "colorbar": {
              "outlinewidth": 0,
              "ticks": ""
             }
            },
            "type": "scatterpolargl"
           }
          ],
          "scatterternary": [
           {
            "marker": {
             "colorbar": {
              "outlinewidth": 0,
              "ticks": ""
             }
            },
            "type": "scatterternary"
           }
          ],
          "surface": [
           {
            "colorbar": {
             "outlinewidth": 0,
             "ticks": ""
            },
            "colorscale": [
             [
              0,
              "#0d0887"
             ],
             [
              0.1111111111111111,
              "#46039f"
             ],
             [
              0.2222222222222222,
              "#7201a8"
             ],
             [
              0.3333333333333333,
              "#9c179e"
             ],
             [
              0.4444444444444444,
              "#bd3786"
             ],
             [
              0.5555555555555556,
              "#d8576b"
             ],
             [
              0.6666666666666666,
              "#ed7953"
             ],
             [
              0.7777777777777778,
              "#fb9f3a"
             ],
             [
              0.8888888888888888,
              "#fdca26"
             ],
             [
              1,
              "#f0f921"
             ]
            ],
            "type": "surface"
           }
          ],
          "table": [
           {
            "cells": {
             "fill": {
              "color": "#EBF0F8"
             },
             "line": {
              "color": "white"
             }
            },
            "header": {
             "fill": {
              "color": "#C8D4E3"
             },
             "line": {
              "color": "white"
             }
            },
            "type": "table"
           }
          ]
         },
         "layout": {
          "annotationdefaults": {
           "arrowcolor": "#2a3f5f",
           "arrowhead": 0,
           "arrowwidth": 1
          },
          "autotypenumbers": "strict",
          "coloraxis": {
           "colorbar": {
            "outlinewidth": 0,
            "ticks": ""
           }
          },
          "colorscale": {
           "diverging": [
            [
             0,
             "#8e0152"
            ],
            [
             0.1,
             "#c51b7d"
            ],
            [
             0.2,
             "#de77ae"
            ],
            [
             0.3,
             "#f1b6da"
            ],
            [
             0.4,
             "#fde0ef"
            ],
            [
             0.5,
             "#f7f7f7"
            ],
            [
             0.6,
             "#e6f5d0"
            ],
            [
             0.7,
             "#b8e186"
            ],
            [
             0.8,
             "#7fbc41"
            ],
            [
             0.9,
             "#4d9221"
            ],
            [
             1,
             "#276419"
            ]
           ],
           "sequential": [
            [
             0,
             "#0d0887"
            ],
            [
             0.1111111111111111,
             "#46039f"
            ],
            [
             0.2222222222222222,
             "#7201a8"
            ],
            [
             0.3333333333333333,
             "#9c179e"
            ],
            [
             0.4444444444444444,
             "#bd3786"
            ],
            [
             0.5555555555555556,
             "#d8576b"
            ],
            [
             0.6666666666666666,
             "#ed7953"
            ],
            [
             0.7777777777777778,
             "#fb9f3a"
            ],
            [
             0.8888888888888888,
             "#fdca26"
            ],
            [
             1,
             "#f0f921"
            ]
           ],
           "sequentialminus": [
            [
             0,
             "#0d0887"
            ],
            [
             0.1111111111111111,
             "#46039f"
            ],
            [
             0.2222222222222222,
             "#7201a8"
            ],
            [
             0.3333333333333333,
             "#9c179e"
            ],
            [
             0.4444444444444444,
             "#bd3786"
            ],
            [
             0.5555555555555556,
             "#d8576b"
            ],
            [
             0.6666666666666666,
             "#ed7953"
            ],
            [
             0.7777777777777778,
             "#fb9f3a"
            ],
            [
             0.8888888888888888,
             "#fdca26"
            ],
            [
             1,
             "#f0f921"
            ]
           ]
          },
          "colorway": [
           "#636efa",
           "#EF553B",
           "#00cc96",
           "#ab63fa",
           "#FFA15A",
           "#19d3f3",
           "#FF6692",
           "#B6E880",
           "#FF97FF",
           "#FECB52"
          ],
          "font": {
           "color": "#2a3f5f"
          },
          "geo": {
           "bgcolor": "white",
           "lakecolor": "white",
           "landcolor": "#E5ECF6",
           "showlakes": true,
           "showland": true,
           "subunitcolor": "white"
          },
          "hoverlabel": {
           "align": "left"
          },
          "hovermode": "closest",
          "mapbox": {
           "style": "light"
          },
          "paper_bgcolor": "white",
          "plot_bgcolor": "#E5ECF6",
          "polar": {
           "angularaxis": {
            "gridcolor": "white",
            "linecolor": "white",
            "ticks": ""
           },
           "bgcolor": "#E5ECF6",
           "radialaxis": {
            "gridcolor": "white",
            "linecolor": "white",
            "ticks": ""
           }
          },
          "scene": {
           "xaxis": {
            "backgroundcolor": "#E5ECF6",
            "gridcolor": "white",
            "gridwidth": 2,
            "linecolor": "white",
            "showbackground": true,
            "ticks": "",
            "zerolinecolor": "white"
           },
           "yaxis": {
            "backgroundcolor": "#E5ECF6",
            "gridcolor": "white",
            "gridwidth": 2,
            "linecolor": "white",
            "showbackground": true,
            "ticks": "",
            "zerolinecolor": "white"
           },
           "zaxis": {
            "backgroundcolor": "#E5ECF6",
            "gridcolor": "white",
            "gridwidth": 2,
            "linecolor": "white",
            "showbackground": true,
            "ticks": "",
            "zerolinecolor": "white"
           }
          },
          "shapedefaults": {
           "line": {
            "color": "#2a3f5f"
           }
          },
          "ternary": {
           "aaxis": {
            "gridcolor": "white",
            "linecolor": "white",
            "ticks": ""
           },
           "baxis": {
            "gridcolor": "white",
            "linecolor": "white",
            "ticks": ""
           },
           "bgcolor": "#E5ECF6",
           "caxis": {
            "gridcolor": "white",
            "linecolor": "white",
            "ticks": ""
           }
          },
          "title": {
           "x": 0.05
          },
          "xaxis": {
           "automargin": true,
           "gridcolor": "white",
           "linecolor": "white",
           "ticks": "",
           "title": {
            "standoff": 15
           },
           "zerolinecolor": "white",
           "zerolinewidth": 2
          },
          "yaxis": {
           "automargin": true,
           "gridcolor": "white",
           "linecolor": "white",
           "ticks": "",
           "title": {
            "standoff": 15
           },
           "zerolinecolor": "white",
           "zerolinewidth": 2
          }
         }
        },
        "title": {
         "text": "Distribution of Steps"
        },
        "xaxis": {
         "anchor": "y",
         "domain": [
          0,
          1
         ],
         "title": {
          "text": "steps"
         }
        },
        "yaxis": {
         "anchor": "x",
         "domain": [
          0,
          1
         ],
         "title": {
          "text": "count"
         }
        }
       }
      }
     },
     "metadata": {},
     "output_type": "display_data"
    }
   ],
   "source": [
    "#histogram of numbers of step\n",
    "fig = px.histogram(fitness_data, x='steps',title = 'Distribution of Steps')\n",
    "fig.show()"
   ]
  },
  {
   "cell_type": "code",
   "execution_count": 63,
   "id": "0fe0a53d",
   "metadata": {},
   "outputs": [
    {
     "data": {
      "application/vnd.plotly.v1+json": {
       "config": {
        "plotlyServerURL": "https://plot.ly"
       },
       "data": [
        {
         "hovertemplate": "date=%{x}<br>steps=%{y}<extra></extra>",
         "legendgroup": "",
         "line": {
          "color": "#636efa",
          "dash": "solid"
         },
         "marker": {
          "color": [
           "blue",
           "blue",
           "blue",
           "blue",
           "blue",
           "red",
           "red",
           "blue",
           "blue",
           "blue",
           "blue",
           "blue",
           "red",
           "red",
           "blue",
           "blue",
           "blue",
           "blue",
           "blue",
           "red",
           "red",
           "blue",
           "blue",
           "blue",
           "blue",
           "blue",
           "red",
           "red",
           "blue",
           "blue",
           "blue",
           "blue",
           "blue",
           "red",
           "red",
           "blue",
           "blue",
           "blue",
           "blue",
           "blue",
           "red",
           "red",
           "blue",
           "blue",
           "blue",
           "blue",
           "blue",
           "red",
           "red",
           "blue",
           "blue",
           "blue",
           "blue",
           "blue",
           "red",
           "red",
           "blue",
           "blue",
           "blue",
           "blue",
           "blue",
           "red",
           "red",
           "blue",
           "blue",
           "blue",
           "blue",
           "blue",
           "red",
           "red",
           "blue",
           "blue",
           "blue",
           "blue",
           "blue",
           "red",
           "red",
           "blue",
           "blue",
           "blue",
           "blue",
           "blue",
           "red",
           "red",
           "blue",
           "blue",
           "blue",
           "blue",
           "blue",
           "red",
           "red",
           "blue",
           "blue",
           "blue",
           "blue",
           "blue",
           "red",
           "red",
           "blue",
           "blue",
           "blue",
           "blue",
           "blue",
           "red",
           "red",
           "blue",
           "blue",
           "blue",
           "blue",
           "blue",
           "red",
           "red",
           "blue",
           "blue",
           "blue",
           "blue",
           "blue",
           "red",
           "red",
           "blue",
           "blue",
           "blue",
           "blue",
           "blue",
           "red",
           "red",
           "blue",
           "blue",
           "blue",
           "blue",
           "blue",
           "red",
           "red",
           "blue",
           "blue",
           "blue",
           "blue",
           "blue",
           "red",
           "red",
           "blue",
           "blue",
           "blue",
           "blue",
           "blue",
           "red",
           "red",
           "blue",
           "blue",
           "blue",
           "blue",
           "blue",
           "red",
           "red",
           "blue",
           "blue",
           "blue",
           "blue",
           "blue",
           "red",
           "red",
           "blue",
           "blue",
           "blue",
           "blue",
           "blue",
           "red",
           "red",
           "blue",
           "blue",
           "blue",
           "blue",
           "blue",
           "red",
           "red",
           "blue",
           "blue",
           "blue",
           "blue",
           "blue",
           "red",
           "red",
           "blue",
           "blue",
           "blue"
          ],
          "symbol": "circle"
         },
         "mode": "lines+markers",
         "name": "",
         "orientation": "v",
         "showlegend": false,
         "type": "scatter",
         "x": [
          "2024-07-01T00:00:00.000000000",
          "2024-07-02T00:00:00.000000000",
          "2024-07-03T00:00:00.000000000",
          "2024-07-04T00:00:00.000000000",
          "2024-07-05T00:00:00.000000000",
          "2024-07-06T00:00:00.000000000",
          "2024-07-07T00:00:00.000000000",
          "2024-07-08T00:00:00.000000000",
          "2024-07-09T00:00:00.000000000",
          "2024-07-10T00:00:00.000000000",
          "2024-07-11T00:00:00.000000000",
          "2024-07-12T00:00:00.000000000",
          "2024-07-13T00:00:00.000000000",
          "2024-07-14T00:00:00.000000000",
          "2024-07-15T00:00:00.000000000",
          "2024-07-16T00:00:00.000000000",
          "2024-07-17T00:00:00.000000000",
          "2024-07-18T00:00:00.000000000",
          "2024-07-19T00:00:00.000000000",
          "2024-07-20T00:00:00.000000000",
          "2024-07-21T00:00:00.000000000",
          "2024-07-22T00:00:00.000000000",
          "2024-07-23T00:00:00.000000000",
          "2024-07-24T00:00:00.000000000",
          "2024-07-25T00:00:00.000000000",
          "2024-07-26T00:00:00.000000000",
          "2024-07-27T00:00:00.000000000",
          "2024-07-28T00:00:00.000000000",
          "2024-07-29T00:00:00.000000000",
          "2024-07-30T00:00:00.000000000",
          "2024-07-31T00:00:00.000000000",
          "2024-08-01T00:00:00.000000000",
          "2024-08-02T00:00:00.000000000",
          "2024-08-03T00:00:00.000000000",
          "2024-08-04T00:00:00.000000000",
          "2024-08-05T00:00:00.000000000",
          "2024-08-06T00:00:00.000000000",
          "2024-08-07T00:00:00.000000000",
          "2024-08-08T00:00:00.000000000",
          "2024-08-09T00:00:00.000000000",
          "2024-08-10T00:00:00.000000000",
          "2024-08-11T00:00:00.000000000",
          "2024-08-12T00:00:00.000000000",
          "2024-08-13T00:00:00.000000000",
          "2024-08-14T00:00:00.000000000",
          "2024-08-15T00:00:00.000000000",
          "2024-08-16T00:00:00.000000000",
          "2024-08-17T00:00:00.000000000",
          "2024-08-18T00:00:00.000000000",
          "2024-08-19T00:00:00.000000000",
          "2024-08-20T00:00:00.000000000",
          "2024-08-21T00:00:00.000000000",
          "2024-08-22T00:00:00.000000000",
          "2024-08-23T00:00:00.000000000",
          "2024-08-24T00:00:00.000000000",
          "2024-08-25T00:00:00.000000000",
          "2024-08-26T00:00:00.000000000",
          "2024-08-27T00:00:00.000000000",
          "2024-08-28T00:00:00.000000000",
          "2024-08-29T00:00:00.000000000",
          "2024-08-30T00:00:00.000000000",
          "2024-08-31T00:00:00.000000000",
          "2024-09-01T00:00:00.000000000",
          "2024-09-02T00:00:00.000000000",
          "2024-09-03T00:00:00.000000000",
          "2024-09-04T00:00:00.000000000",
          "2024-09-05T00:00:00.000000000",
          "2024-09-06T00:00:00.000000000",
          "2024-09-07T00:00:00.000000000",
          "2024-09-08T00:00:00.000000000",
          "2024-09-09T00:00:00.000000000",
          "2024-09-10T00:00:00.000000000",
          "2024-09-11T00:00:00.000000000",
          "2024-09-12T00:00:00.000000000",
          "2024-09-13T00:00:00.000000000",
          "2024-09-14T00:00:00.000000000",
          "2024-09-15T00:00:00.000000000",
          "2024-09-16T00:00:00.000000000",
          "2024-09-17T00:00:00.000000000",
          "2024-09-18T00:00:00.000000000",
          "2024-09-19T00:00:00.000000000",
          "2024-09-20T00:00:00.000000000",
          "2024-09-21T00:00:00.000000000",
          "2024-09-22T00:00:00.000000000",
          "2024-09-23T00:00:00.000000000",
          "2024-09-24T00:00:00.000000000",
          "2024-09-25T00:00:00.000000000",
          "2024-09-26T00:00:00.000000000",
          "2024-09-27T00:00:00.000000000",
          "2024-09-28T00:00:00.000000000",
          "2024-09-29T00:00:00.000000000",
          "2024-09-30T00:00:00.000000000",
          "2024-10-01T00:00:00.000000000",
          "2024-10-02T00:00:00.000000000",
          "2024-10-03T00:00:00.000000000",
          "2024-10-04T00:00:00.000000000",
          "2024-10-05T00:00:00.000000000",
          "2024-10-06T00:00:00.000000000",
          "2024-10-07T00:00:00.000000000",
          "2024-10-08T00:00:00.000000000",
          "2024-10-09T00:00:00.000000000",
          "2024-10-10T00:00:00.000000000",
          "2024-10-11T00:00:00.000000000",
          "2024-10-12T00:00:00.000000000",
          "2024-10-13T00:00:00.000000000",
          "2024-10-14T00:00:00.000000000",
          "2024-10-15T00:00:00.000000000",
          "2024-10-16T00:00:00.000000000",
          "2024-10-17T00:00:00.000000000",
          "2024-10-18T00:00:00.000000000",
          "2024-10-19T00:00:00.000000000",
          "2024-10-20T00:00:00.000000000",
          "2024-10-21T00:00:00.000000000",
          "2024-10-22T00:00:00.000000000",
          "2024-10-23T00:00:00.000000000",
          "2024-10-24T00:00:00.000000000",
          "2024-10-25T00:00:00.000000000",
          "2024-10-26T00:00:00.000000000",
          "2024-10-27T00:00:00.000000000",
          "2024-10-28T00:00:00.000000000",
          "2024-10-29T00:00:00.000000000",
          "2024-10-30T00:00:00.000000000",
          "2024-10-31T00:00:00.000000000",
          "2024-11-01T00:00:00.000000000",
          "2024-11-02T00:00:00.000000000",
          "2024-11-03T00:00:00.000000000",
          "2024-11-04T00:00:00.000000000",
          "2024-11-05T00:00:00.000000000",
          "2024-11-06T00:00:00.000000000",
          "2024-11-07T00:00:00.000000000",
          "2024-11-08T00:00:00.000000000",
          "2024-11-09T00:00:00.000000000",
          "2024-11-10T00:00:00.000000000",
          "2024-11-11T00:00:00.000000000",
          "2024-11-12T00:00:00.000000000",
          "2024-11-13T00:00:00.000000000",
          "2024-11-14T00:00:00.000000000",
          "2024-11-15T00:00:00.000000000",
          "2024-11-16T00:00:00.000000000",
          "2024-11-17T00:00:00.000000000",
          "2024-11-18T00:00:00.000000000",
          "2024-11-19T00:00:00.000000000",
          "2024-11-20T00:00:00.000000000",
          "2024-11-21T00:00:00.000000000",
          "2024-11-22T00:00:00.000000000",
          "2024-11-23T00:00:00.000000000",
          "2024-11-24T00:00:00.000000000",
          "2024-11-25T00:00:00.000000000",
          "2024-11-26T00:00:00.000000000",
          "2024-11-27T00:00:00.000000000",
          "2024-11-28T00:00:00.000000000",
          "2024-11-29T00:00:00.000000000",
          "2024-11-30T00:00:00.000000000",
          "2024-12-01T00:00:00.000000000",
          "2024-12-02T00:00:00.000000000",
          "2024-12-03T00:00:00.000000000",
          "2024-12-04T00:00:00.000000000",
          "2024-12-05T00:00:00.000000000",
          "2024-12-06T00:00:00.000000000",
          "2024-12-07T00:00:00.000000000",
          "2024-12-08T00:00:00.000000000",
          "2024-12-09T00:00:00.000000000",
          "2024-12-10T00:00:00.000000000",
          "2024-12-11T00:00:00.000000000",
          "2024-12-12T00:00:00.000000000",
          "2024-12-13T00:00:00.000000000",
          "2024-12-14T00:00:00.000000000",
          "2024-12-15T00:00:00.000000000",
          "2024-12-16T00:00:00.000000000",
          "2024-12-17T00:00:00.000000000",
          "2024-12-18T00:00:00.000000000",
          "2024-12-19T00:00:00.000000000",
          "2024-12-20T00:00:00.000000000",
          "2024-12-21T00:00:00.000000000",
          "2024-12-22T00:00:00.000000000",
          "2024-12-23T00:00:00.000000000",
          "2024-12-24T00:00:00.000000000",
          "2024-12-25T00:00:00.000000000",
          "2024-12-26T00:00:00.000000000",
          "2024-12-27T00:00:00.000000000",
          "2024-12-28T00:00:00.000000000",
          "2024-12-29T00:00:00.000000000",
          "2024-12-30T00:00:00.000000000",
          "2024-12-31T00:00:00.000000000",
          "2025-01-01T00:00:00.000000000"
         ],
         "xaxis": "x",
         "y": {
          "bdata": "AAAAAACtukAAAAAAAD2+QAAAAACAEcBAAAAAAADnyUAAAAAAgFDCQAAAAAAARL9AAAAAAAAwskAAAAAAAGy4QAAAAAAAuMZAAAAAAADyuEAAAAAAADS0QAAAAACAqMFAAAAAAADqxEAAAAAAAO6/QAAAAAAA5LdAAAAAAABywkAAAAAAAD2+QAAAAAAAuMRAAAAAAADPs0AAAAAAgFrBQAAAAAAAyrhAAAAAAIDxwEAAAAAAANXAQAAAAAAAiLlAAAAAAAA7v0AAAAAAAP/CQAAAAAAAE8dAAAAAAAC4xEAAAAAAALLBQAAAAAAAcLNAAAAAAICewEAAAAAAAOi8QAAAAAAA0cBAAAAAAAD3yEAAAAAAgOHBQAAAAAAA779AAAAAAICOwUAAAAAAAPC0QAAAAAAAabhAAAAAAIDwwkAAAAAAABDBQAAAAAAAYbtAAAAAAACuwkAAAAAAADK+QAAAAAAA47NAAAAAAACYtUAAAAAAgF7AQAAAAAAA9r9AAAAAAADdxEAAAAAAANq2QAAAAAAAAblAAAAAAIALwkAAAAAAAPi/QAAAAAAAtr1AAAAAAABzw0AAAAAAAJa8QAAAAAAALLpAAAAAAACmvEAAAAAAANDAQAAAAAAA27tAAAAAAABGykAAAAAAgFjMQAAAAAAAqMFAAAAAAIAfwkAAAAAAAIPEQAAAAAAApL9AAAAAAADRtkAAAAAAANqzQAAAAAAAfbpAAAAAAACsukAAAAAAgLDAQAAAAACAqMFAAAAAAABAvkAAAAAAAEy1QAAAAACA68VAAAAAAAAcwUAAAAAAgPzBQAAAAACA88ZAAAAAAAC9vUAAAAAAAOi8QAAAAACAHsNAAAAAAIAbwUAAAAAAAA3GQAAAAAAA8cFAAAAAAABvu0AAAAAAAIy6QAAAAAAA7bRAAAAAAAD0xEAAAAAAAD3EQAAAAAAAib9AAAAAAAA6tEAAAAAAAMu3QAAAAACA5sJAAAAAAIDkwUAAAAAAAMjBQAAAAAAAWsFAAAAAAAC2zkAAAAAAgF7AQAAAAAAANb5AAAAAAAAJvkAAAAAAAAy5QAAAAAAADqlAAAAAAICNwEAAAAAAABK7QAAAAAAAbr9AAAAAAIARxUAAAAAAAO+5QAAAAAAAT8NAAAAAAAD4wkAAAAAAAKG8QAAAAACA2sBAAAAAAIBHwkAAAAAAALy3QAAAAACAIcBAAAAAAIBxyUAAAAAAAM68QAAAAAAAnL9AAAAAAAAhvkAAAAAAAELBQAAAAAAAwLxAAAAAAIDhxkAAAAAAAKbAQAAAAAAAWMJAAAAAAIBdzEAAAAAAAOnHQAAAAAAAArRAAAAAAACZsUAAAAAAAN66QAAAAAAAubtAAAAAAABitUAAAAAAgLPBQAAAAACAw8ZAAAAAAIAlw0AAAAAAAKi1QAAAAAAAoMJAAAAAAAD0w0AAAAAAAIuzQAAAAAAABsVAAAAAAAAmw0AAAAAAgLXCQAAAAAAAV7dAAAAAAABdxkAAAAAAAAGzQAAAAAAAbbhAAAAAAAA0wkAAAAAAAFPNQAAAAAAAw8ZAAAAAAAC9tUAAAAAAAEC2QAAAAAAA071AAAAAAAAA+H8AAAAAAAD4fwAAAAAAAPh/AAAAAIA+xEAAAAAAgAnAQAAAAACAH8JAAAAAAACiukAAAAAAAGrGQAAAAACAGMNAAAAAAABPzUAAAAAAAA3DQAAAAAAAXrRAAAAAAAB3uEAAAAAAAEnBQAAAAACABchAAAAAAABMqUAAAAAAANe5QAAAAACAc8dAAAAAAIBYwkAAAAAAAG3BQAAAAACAasFAAAAAAADuwUAAAAAAAGHGQAAAAAAAqr9AAAAAAACCwkAAAAAAAAS8QAAAAAAAAPh/AAAAAAAA+H8AAAAAAAD4fwAAAACAD8dAAAAAAAD7tkAAAAAAgN/AQAAAAACAxcBAAAAAAABUxEAAAAAAAHKpQA==",
          "dtype": "f8"
         },
         "yaxis": "y"
        }
       ],
       "layout": {
        "legend": {
         "tracegroupgap": 0
        },
        "template": {
         "data": {
          "bar": [
           {
            "error_x": {
             "color": "#2a3f5f"
            },
            "error_y": {
             "color": "#2a3f5f"
            },
            "marker": {
             "line": {
              "color": "#E5ECF6",
              "width": 0.5
             },
             "pattern": {
              "fillmode": "overlay",
              "size": 10,
              "solidity": 0.2
             }
            },
            "type": "bar"
           }
          ],
          "barpolar": [
           {
            "marker": {
             "line": {
              "color": "#E5ECF6",
              "width": 0.5
             },
             "pattern": {
              "fillmode": "overlay",
              "size": 10,
              "solidity": 0.2
             }
            },
            "type": "barpolar"
           }
          ],
          "carpet": [
           {
            "aaxis": {
             "endlinecolor": "#2a3f5f",
             "gridcolor": "white",
             "linecolor": "white",
             "minorgridcolor": "white",
             "startlinecolor": "#2a3f5f"
            },
            "baxis": {
             "endlinecolor": "#2a3f5f",
             "gridcolor": "white",
             "linecolor": "white",
             "minorgridcolor": "white",
             "startlinecolor": "#2a3f5f"
            },
            "type": "carpet"
           }
          ],
          "choropleth": [
           {
            "colorbar": {
             "outlinewidth": 0,
             "ticks": ""
            },
            "type": "choropleth"
           }
          ],
          "contour": [
           {
            "colorbar": {
             "outlinewidth": 0,
             "ticks": ""
            },
            "colorscale": [
             [
              0,
              "#0d0887"
             ],
             [
              0.1111111111111111,
              "#46039f"
             ],
             [
              0.2222222222222222,
              "#7201a8"
             ],
             [
              0.3333333333333333,
              "#9c179e"
             ],
             [
              0.4444444444444444,
              "#bd3786"
             ],
             [
              0.5555555555555556,
              "#d8576b"
             ],
             [
              0.6666666666666666,
              "#ed7953"
             ],
             [
              0.7777777777777778,
              "#fb9f3a"
             ],
             [
              0.8888888888888888,
              "#fdca26"
             ],
             [
              1,
              "#f0f921"
             ]
            ],
            "type": "contour"
           }
          ],
          "contourcarpet": [
           {
            "colorbar": {
             "outlinewidth": 0,
             "ticks": ""
            },
            "type": "contourcarpet"
           }
          ],
          "heatmap": [
           {
            "colorbar": {
             "outlinewidth": 0,
             "ticks": ""
            },
            "colorscale": [
             [
              0,
              "#0d0887"
             ],
             [
              0.1111111111111111,
              "#46039f"
             ],
             [
              0.2222222222222222,
              "#7201a8"
             ],
             [
              0.3333333333333333,
              "#9c179e"
             ],
             [
              0.4444444444444444,
              "#bd3786"
             ],
             [
              0.5555555555555556,
              "#d8576b"
             ],
             [
              0.6666666666666666,
              "#ed7953"
             ],
             [
              0.7777777777777778,
              "#fb9f3a"
             ],
             [
              0.8888888888888888,
              "#fdca26"
             ],
             [
              1,
              "#f0f921"
             ]
            ],
            "type": "heatmap"
           }
          ],
          "histogram": [
           {
            "marker": {
             "pattern": {
              "fillmode": "overlay",
              "size": 10,
              "solidity": 0.2
             }
            },
            "type": "histogram"
           }
          ],
          "histogram2d": [
           {
            "colorbar": {
             "outlinewidth": 0,
             "ticks": ""
            },
            "colorscale": [
             [
              0,
              "#0d0887"
             ],
             [
              0.1111111111111111,
              "#46039f"
             ],
             [
              0.2222222222222222,
              "#7201a8"
             ],
             [
              0.3333333333333333,
              "#9c179e"
             ],
             [
              0.4444444444444444,
              "#bd3786"
             ],
             [
              0.5555555555555556,
              "#d8576b"
             ],
             [
              0.6666666666666666,
              "#ed7953"
             ],
             [
              0.7777777777777778,
              "#fb9f3a"
             ],
             [
              0.8888888888888888,
              "#fdca26"
             ],
             [
              1,
              "#f0f921"
             ]
            ],
            "type": "histogram2d"
           }
          ],
          "histogram2dcontour": [
           {
            "colorbar": {
             "outlinewidth": 0,
             "ticks": ""
            },
            "colorscale": [
             [
              0,
              "#0d0887"
             ],
             [
              0.1111111111111111,
              "#46039f"
             ],
             [
              0.2222222222222222,
              "#7201a8"
             ],
             [
              0.3333333333333333,
              "#9c179e"
             ],
             [
              0.4444444444444444,
              "#bd3786"
             ],
             [
              0.5555555555555556,
              "#d8576b"
             ],
             [
              0.6666666666666666,
              "#ed7953"
             ],
             [
              0.7777777777777778,
              "#fb9f3a"
             ],
             [
              0.8888888888888888,
              "#fdca26"
             ],
             [
              1,
              "#f0f921"
             ]
            ],
            "type": "histogram2dcontour"
           }
          ],
          "mesh3d": [
           {
            "colorbar": {
             "outlinewidth": 0,
             "ticks": ""
            },
            "type": "mesh3d"
           }
          ],
          "parcoords": [
           {
            "line": {
             "colorbar": {
              "outlinewidth": 0,
              "ticks": ""
             }
            },
            "type": "parcoords"
           }
          ],
          "pie": [
           {
            "automargin": true,
            "type": "pie"
           }
          ],
          "scatter": [
           {
            "fillpattern": {
             "fillmode": "overlay",
             "size": 10,
             "solidity": 0.2
            },
            "type": "scatter"
           }
          ],
          "scatter3d": [
           {
            "line": {
             "colorbar": {
              "outlinewidth": 0,
              "ticks": ""
             }
            },
            "marker": {
             "colorbar": {
              "outlinewidth": 0,
              "ticks": ""
             }
            },
            "type": "scatter3d"
           }
          ],
          "scattercarpet": [
           {
            "marker": {
             "colorbar": {
              "outlinewidth": 0,
              "ticks": ""
             }
            },
            "type": "scattercarpet"
           }
          ],
          "scattergeo": [
           {
            "marker": {
             "colorbar": {
              "outlinewidth": 0,
              "ticks": ""
             }
            },
            "type": "scattergeo"
           }
          ],
          "scattergl": [
           {
            "marker": {
             "colorbar": {
              "outlinewidth": 0,
              "ticks": ""
             }
            },
            "type": "scattergl"
           }
          ],
          "scattermap": [
           {
            "marker": {
             "colorbar": {
              "outlinewidth": 0,
              "ticks": ""
             }
            },
            "type": "scattermap"
           }
          ],
          "scattermapbox": [
           {
            "marker": {
             "colorbar": {
              "outlinewidth": 0,
              "ticks": ""
             }
            },
            "type": "scattermapbox"
           }
          ],
          "scatterpolar": [
           {
            "marker": {
             "colorbar": {
              "outlinewidth": 0,
              "ticks": ""
             }
            },
            "type": "scatterpolar"
           }
          ],
          "scatterpolargl": [
           {
            "marker": {
             "colorbar": {
              "outlinewidth": 0,
              "ticks": ""
             }
            },
            "type": "scatterpolargl"
           }
          ],
          "scatterternary": [
           {
            "marker": {
             "colorbar": {
              "outlinewidth": 0,
              "ticks": ""
             }
            },
            "type": "scatterternary"
           }
          ],
          "surface": [
           {
            "colorbar": {
             "outlinewidth": 0,
             "ticks": ""
            },
            "colorscale": [
             [
              0,
              "#0d0887"
             ],
             [
              0.1111111111111111,
              "#46039f"
             ],
             [
              0.2222222222222222,
              "#7201a8"
             ],
             [
              0.3333333333333333,
              "#9c179e"
             ],
             [
              0.4444444444444444,
              "#bd3786"
             ],
             [
              0.5555555555555556,
              "#d8576b"
             ],
             [
              0.6666666666666666,
              "#ed7953"
             ],
             [
              0.7777777777777778,
              "#fb9f3a"
             ],
             [
              0.8888888888888888,
              "#fdca26"
             ],
             [
              1,
              "#f0f921"
             ]
            ],
            "type": "surface"
           }
          ],
          "table": [
           {
            "cells": {
             "fill": {
              "color": "#EBF0F8"
             },
             "line": {
              "color": "white"
             }
            },
            "header": {
             "fill": {
              "color": "#C8D4E3"
             },
             "line": {
              "color": "white"
             }
            },
            "type": "table"
           }
          ]
         },
         "layout": {
          "annotationdefaults": {
           "arrowcolor": "#2a3f5f",
           "arrowhead": 0,
           "arrowwidth": 1
          },
          "autotypenumbers": "strict",
          "coloraxis": {
           "colorbar": {
            "outlinewidth": 0,
            "ticks": ""
           }
          },
          "colorscale": {
           "diverging": [
            [
             0,
             "#8e0152"
            ],
            [
             0.1,
             "#c51b7d"
            ],
            [
             0.2,
             "#de77ae"
            ],
            [
             0.3,
             "#f1b6da"
            ],
            [
             0.4,
             "#fde0ef"
            ],
            [
             0.5,
             "#f7f7f7"
            ],
            [
             0.6,
             "#e6f5d0"
            ],
            [
             0.7,
             "#b8e186"
            ],
            [
             0.8,
             "#7fbc41"
            ],
            [
             0.9,
             "#4d9221"
            ],
            [
             1,
             "#276419"
            ]
           ],
           "sequential": [
            [
             0,
             "#0d0887"
            ],
            [
             0.1111111111111111,
             "#46039f"
            ],
            [
             0.2222222222222222,
             "#7201a8"
            ],
            [
             0.3333333333333333,
             "#9c179e"
            ],
            [
             0.4444444444444444,
             "#bd3786"
            ],
            [
             0.5555555555555556,
             "#d8576b"
            ],
            [
             0.6666666666666666,
             "#ed7953"
            ],
            [
             0.7777777777777778,
             "#fb9f3a"
            ],
            [
             0.8888888888888888,
             "#fdca26"
            ],
            [
             1,
             "#f0f921"
            ]
           ],
           "sequentialminus": [
            [
             0,
             "#0d0887"
            ],
            [
             0.1111111111111111,
             "#46039f"
            ],
            [
             0.2222222222222222,
             "#7201a8"
            ],
            [
             0.3333333333333333,
             "#9c179e"
            ],
            [
             0.4444444444444444,
             "#bd3786"
            ],
            [
             0.5555555555555556,
             "#d8576b"
            ],
            [
             0.6666666666666666,
             "#ed7953"
            ],
            [
             0.7777777777777778,
             "#fb9f3a"
            ],
            [
             0.8888888888888888,
             "#fdca26"
            ],
            [
             1,
             "#f0f921"
            ]
           ]
          },
          "colorway": [
           "#636efa",
           "#EF553B",
           "#00cc96",
           "#ab63fa",
           "#FFA15A",
           "#19d3f3",
           "#FF6692",
           "#B6E880",
           "#FF97FF",
           "#FECB52"
          ],
          "font": {
           "color": "#2a3f5f"
          },
          "geo": {
           "bgcolor": "white",
           "lakecolor": "white",
           "landcolor": "#E5ECF6",
           "showlakes": true,
           "showland": true,
           "subunitcolor": "white"
          },
          "hoverlabel": {
           "align": "left"
          },
          "hovermode": "closest",
          "mapbox": {
           "style": "light"
          },
          "paper_bgcolor": "white",
          "plot_bgcolor": "#E5ECF6",
          "polar": {
           "angularaxis": {
            "gridcolor": "white",
            "linecolor": "white",
            "ticks": ""
           },
           "bgcolor": "#E5ECF6",
           "radialaxis": {
            "gridcolor": "white",
            "linecolor": "white",
            "ticks": ""
           }
          },
          "scene": {
           "xaxis": {
            "backgroundcolor": "#E5ECF6",
            "gridcolor": "white",
            "gridwidth": 2,
            "linecolor": "white",
            "showbackground": true,
            "ticks": "",
            "zerolinecolor": "white"
           },
           "yaxis": {
            "backgroundcolor": "#E5ECF6",
            "gridcolor": "white",
            "gridwidth": 2,
            "linecolor": "white",
            "showbackground": true,
            "ticks": "",
            "zerolinecolor": "white"
           },
           "zaxis": {
            "backgroundcolor": "#E5ECF6",
            "gridcolor": "white",
            "gridwidth": 2,
            "linecolor": "white",
            "showbackground": true,
            "ticks": "",
            "zerolinecolor": "white"
           }
          },
          "shapedefaults": {
           "line": {
            "color": "#2a3f5f"
           }
          },
          "ternary": {
           "aaxis": {
            "gridcolor": "white",
            "linecolor": "white",
            "ticks": ""
           },
           "baxis": {
            "gridcolor": "white",
            "linecolor": "white",
            "ticks": ""
           },
           "bgcolor": "#E5ECF6",
           "caxis": {
            "gridcolor": "white",
            "linecolor": "white",
            "ticks": ""
           }
          },
          "title": {
           "x": 0.05
          },
          "xaxis": {
           "automargin": true,
           "gridcolor": "white",
           "linecolor": "white",
           "ticks": "",
           "title": {
            "standoff": 15
           },
           "zerolinecolor": "white",
           "zerolinewidth": 2
          },
          "yaxis": {
           "automargin": true,
           "gridcolor": "white",
           "linecolor": "white",
           "ticks": "",
           "title": {
            "standoff": 15
           },
           "zerolinecolor": "white",
           "zerolinewidth": 2
          }
         }
        },
        "title": {
         "text": "Number of stpes over time"
        },
        "xaxis": {
         "anchor": "y",
         "domain": [
          0,
          1
         ],
         "title": {
          "text": "date"
         }
        },
        "yaxis": {
         "anchor": "x",
         "domain": [
          0,
          1
         ],
         "title": {
          "text": "steps"
         }
        }
       }
      }
     },
     "metadata": {},
     "output_type": "display_data"
    }
   ],
   "source": [
    "#line chart of the number of steps over time with markers for weekends\n",
    "fig = px.line(fitness_data, x='date',y='steps',title = 'Number of stpes over time', markers = True)\n",
    "fig.update_traces(marker = dict(color=fitness_data['is_weekend'].map({True: 'red',False: 'blue'})))\n",
    "fig.show()"
   ]
  },
  {
   "cell_type": "code",
   "execution_count": 64,
   "id": "f73fe0c8",
   "metadata": {},
   "outputs": [
    {
     "data": {
      "application/vnd.plotly.v1+json": {
       "config": {
        "plotlyServerURL": "https://plot.ly"
       },
       "data": [
        {
         "bingroup": "x",
         "hovertemplate": "total_calories_burned=%{x}<br>count=%{y}<extra></extra>",
         "legendgroup": "",
         "marker": {
          "color": "#636efa",
          "pattern": {
           "shape": ""
          }
         },
         "name": "",
         "orientation": "v",
         "showlegend": false,
         "type": "histogram",
         "x": {
          "bdata": "AAAAAADAhEAAAAAAAKCEQAAAAAAASItAAAAAAABkkUAAAAAAALCIQAAAAAAA4IVAAAAAAABwf0AAAAAAAGCEQAAAAAAAsI9AAAAAAABghUAAAAAAAIiCQAAAAAAAiItAAAAAAABwjEAAAAAAAIiHQAAAAAAAgIJAAAAAAACIkUAAAAAAACCHQAAAAAAAmItAAAAAAAB4gkAAAAAAAIiLQAAAAAAAMIFAAAAAAACwiEAAAAAAANCIQAAAAAAA0IJAAAAAAABAjEAAAAAAAJCQQAAAAAAAaJBAAAAAAABojUAAAAAAALCIQAAAAAAAcHpAAAAAAACghUAAAAAAAPCGQAAAAAAA4IdAAAAAAADIkkAAAAAAABiJQAAAAAAA0IZAAAAAAAAoiEAAAAAAANiBQAAAAAAAaIRAAAAAAAAEkkAAAAAAAIiUQAAAAAAA4IpAAAAAAAAgjkAAAAAAAMCHQAAAAAAASIFAAAAAAACYgEAAAAAAABiQQAAAAAAAUI9AAAAAAAB4jUAAAAAAADCDQAAAAAAAeIdAAAAAAACAjEAAAAAAAPCGQAAAAAAAsIpAAAAAAACAjUAAAAAAAEiLQAAAAAAAaIlAAAAAAACQhkAAAAAAABB5QAAAAAAAAIVAAAAAAAA8k0AAAAAAAPiSQAAAAAAA8ItAAAAAAAAQj0AAAAAAADCNQAAAAAAA0ItAAAAAAACQgkAAAAAAABCDQAAAAAAACIpAAAAAAADogUAAAAAAAHiHQAAAAAAAEIpAAAAAAAAIiUAAAAAAAHiDQAAAAAAAUJRAAAAAAABYjkAAAAAAACiMQAAAAAAA5JBAAAAAAABAhkAAAAAAAFCJQAAAAAAAwIlAAAAAAADQiEAAAAAAADiRQAAAAAAAUItAAAAAAACQhkAAAAAAAICHQAAAAAAAoIFAAAAAAABYjkAAAAAAAAiUQAAAAAAAuI1AAAAAAAC4g0AAAAAAADiHQAAAAAAAWIpAAAAAAADghUAAAAAAAJCMQAAAAAAAeJBAAAAAAACUmEAAAAAAAGCOQAAAAAAAoItAAAAAAACAiEAAAAAAAMCEQAAAAAAA8HJAAAAAAAAQiUAAAAAAAACXQAAAAAAAPJFAAAAAAAD4j0AAAAAAAKiEQAAAAAAA8IpAAAAAAAB4jEAAAAAAAMiHQAAAAAAAQJBAAAAAAACQi0AAAAAAAECHQAAAAAAA0IhAAAAAAAA8kUAAAAAAAECGQAAAAAAAKJJAAAAAAACghkAAAAAAAPCLQAAAAAAAiIZAAAAAAAAAj0AAAAAAANiLQAAAAAAAuIhAAAAAAABwk0AAAAAAALyVQAAAAAAAMINAAAAAAACogEAAAAAAAJCKQAAAAAAA0JFAAAAAAADgf0AAAAAAAAyRQAAAAAAAlJNAAAAAAADgikAAAAAAAFCFQAAAAAAAgJFAAAAAAABokUAAAAAAAHCCQAAAAAAACI9AAAAAAAAYjUAAAAAAAPiJQAAAAAAA+IBAAAAAAADgj0AAAAAAAJiAQAAAAAAASIZAAAAAAABgk0AAAAAAANSUQAAAAAAAYI5AAAAAAADogUAAAAAAAMCCQAAAAAAAWIVAAAAAAAAA+H8AAAAAAAD4fwAAAAAAAPh/AAAAAACckEAAAAAAADiHQAAAAAAASIpAAAAAAABQiUAAAAAAAMCOQAAAAAAAYI5AAAAAAACslEAAAAAAAGiQQAAAAAAAIHxAAAAAAABghEAAAAAAADCRQAAAAAAAeJBAAAAAAADwd0AAAAAAADiGQAAAAAAAqI9AAAAAAADAiEAAAAAAAPiKQAAAAAAAIIhAAAAAAAAojUAAAAAAAHCTQAAAAAAAMItAAAAAAACYi0AAAAAAAFCEQAAAAAAAAPh/AAAAAAAA+H8AAAAAAAD4fwAAAAAAdJJAAAAAAABAhkAAAAAAAFCLQAAAAAAAUItAAAAAAAAgjEAAAAAAAICIQA==",
          "dtype": "f8"
         },
         "xaxis": "x",
         "yaxis": "y"
        }
       ],
       "layout": {
        "barmode": "relative",
        "legend": {
         "tracegroupgap": 0
        },
        "template": {
         "data": {
          "bar": [
           {
            "error_x": {
             "color": "#2a3f5f"
            },
            "error_y": {
             "color": "#2a3f5f"
            },
            "marker": {
             "line": {
              "color": "#E5ECF6",
              "width": 0.5
             },
             "pattern": {
              "fillmode": "overlay",
              "size": 10,
              "solidity": 0.2
             }
            },
            "type": "bar"
           }
          ],
          "barpolar": [
           {
            "marker": {
             "line": {
              "color": "#E5ECF6",
              "width": 0.5
             },
             "pattern": {
              "fillmode": "overlay",
              "size": 10,
              "solidity": 0.2
             }
            },
            "type": "barpolar"
           }
          ],
          "carpet": [
           {
            "aaxis": {
             "endlinecolor": "#2a3f5f",
             "gridcolor": "white",
             "linecolor": "white",
             "minorgridcolor": "white",
             "startlinecolor": "#2a3f5f"
            },
            "baxis": {
             "endlinecolor": "#2a3f5f",
             "gridcolor": "white",
             "linecolor": "white",
             "minorgridcolor": "white",
             "startlinecolor": "#2a3f5f"
            },
            "type": "carpet"
           }
          ],
          "choropleth": [
           {
            "colorbar": {
             "outlinewidth": 0,
             "ticks": ""
            },
            "type": "choropleth"
           }
          ],
          "contour": [
           {
            "colorbar": {
             "outlinewidth": 0,
             "ticks": ""
            },
            "colorscale": [
             [
              0,
              "#0d0887"
             ],
             [
              0.1111111111111111,
              "#46039f"
             ],
             [
              0.2222222222222222,
              "#7201a8"
             ],
             [
              0.3333333333333333,
              "#9c179e"
             ],
             [
              0.4444444444444444,
              "#bd3786"
             ],
             [
              0.5555555555555556,
              "#d8576b"
             ],
             [
              0.6666666666666666,
              "#ed7953"
             ],
             [
              0.7777777777777778,
              "#fb9f3a"
             ],
             [
              0.8888888888888888,
              "#fdca26"
             ],
             [
              1,
              "#f0f921"
             ]
            ],
            "type": "contour"
           }
          ],
          "contourcarpet": [
           {
            "colorbar": {
             "outlinewidth": 0,
             "ticks": ""
            },
            "type": "contourcarpet"
           }
          ],
          "heatmap": [
           {
            "colorbar": {
             "outlinewidth": 0,
             "ticks": ""
            },
            "colorscale": [
             [
              0,
              "#0d0887"
             ],
             [
              0.1111111111111111,
              "#46039f"
             ],
             [
              0.2222222222222222,
              "#7201a8"
             ],
             [
              0.3333333333333333,
              "#9c179e"
             ],
             [
              0.4444444444444444,
              "#bd3786"
             ],
             [
              0.5555555555555556,
              "#d8576b"
             ],
             [
              0.6666666666666666,
              "#ed7953"
             ],
             [
              0.7777777777777778,
              "#fb9f3a"
             ],
             [
              0.8888888888888888,
              "#fdca26"
             ],
             [
              1,
              "#f0f921"
             ]
            ],
            "type": "heatmap"
           }
          ],
          "histogram": [
           {
            "marker": {
             "pattern": {
              "fillmode": "overlay",
              "size": 10,
              "solidity": 0.2
             }
            },
            "type": "histogram"
           }
          ],
          "histogram2d": [
           {
            "colorbar": {
             "outlinewidth": 0,
             "ticks": ""
            },
            "colorscale": [
             [
              0,
              "#0d0887"
             ],
             [
              0.1111111111111111,
              "#46039f"
             ],
             [
              0.2222222222222222,
              "#7201a8"
             ],
             [
              0.3333333333333333,
              "#9c179e"
             ],
             [
              0.4444444444444444,
              "#bd3786"
             ],
             [
              0.5555555555555556,
              "#d8576b"
             ],
             [
              0.6666666666666666,
              "#ed7953"
             ],
             [
              0.7777777777777778,
              "#fb9f3a"
             ],
             [
              0.8888888888888888,
              "#fdca26"
             ],
             [
              1,
              "#f0f921"
             ]
            ],
            "type": "histogram2d"
           }
          ],
          "histogram2dcontour": [
           {
            "colorbar": {
             "outlinewidth": 0,
             "ticks": ""
            },
            "colorscale": [
             [
              0,
              "#0d0887"
             ],
             [
              0.1111111111111111,
              "#46039f"
             ],
             [
              0.2222222222222222,
              "#7201a8"
             ],
             [
              0.3333333333333333,
              "#9c179e"
             ],
             [
              0.4444444444444444,
              "#bd3786"
             ],
             [
              0.5555555555555556,
              "#d8576b"
             ],
             [
              0.6666666666666666,
              "#ed7953"
             ],
             [
              0.7777777777777778,
              "#fb9f3a"
             ],
             [
              0.8888888888888888,
              "#fdca26"
             ],
             [
              1,
              "#f0f921"
             ]
            ],
            "type": "histogram2dcontour"
           }
          ],
          "mesh3d": [
           {
            "colorbar": {
             "outlinewidth": 0,
             "ticks": ""
            },
            "type": "mesh3d"
           }
          ],
          "parcoords": [
           {
            "line": {
             "colorbar": {
              "outlinewidth": 0,
              "ticks": ""
             }
            },
            "type": "parcoords"
           }
          ],
          "pie": [
           {
            "automargin": true,
            "type": "pie"
           }
          ],
          "scatter": [
           {
            "fillpattern": {
             "fillmode": "overlay",
             "size": 10,
             "solidity": 0.2
            },
            "type": "scatter"
           }
          ],
          "scatter3d": [
           {
            "line": {
             "colorbar": {
              "outlinewidth": 0,
              "ticks": ""
             }
            },
            "marker": {
             "colorbar": {
              "outlinewidth": 0,
              "ticks": ""
             }
            },
            "type": "scatter3d"
           }
          ],
          "scattercarpet": [
           {
            "marker": {
             "colorbar": {
              "outlinewidth": 0,
              "ticks": ""
             }
            },
            "type": "scattercarpet"
           }
          ],
          "scattergeo": [
           {
            "marker": {
             "colorbar": {
              "outlinewidth": 0,
              "ticks": ""
             }
            },
            "type": "scattergeo"
           }
          ],
          "scattergl": [
           {
            "marker": {
             "colorbar": {
              "outlinewidth": 0,
              "ticks": ""
             }
            },
            "type": "scattergl"
           }
          ],
          "scattermap": [
           {
            "marker": {
             "colorbar": {
              "outlinewidth": 0,
              "ticks": ""
             }
            },
            "type": "scattermap"
           }
          ],
          "scattermapbox": [
           {
            "marker": {
             "colorbar": {
              "outlinewidth": 0,
              "ticks": ""
             }
            },
            "type": "scattermapbox"
           }
          ],
          "scatterpolar": [
           {
            "marker": {
             "colorbar": {
              "outlinewidth": 0,
              "ticks": ""
             }
            },
            "type": "scatterpolar"
           }
          ],
          "scatterpolargl": [
           {
            "marker": {
             "colorbar": {
              "outlinewidth": 0,
              "ticks": ""
             }
            },
            "type": "scatterpolargl"
           }
          ],
          "scatterternary": [
           {
            "marker": {
             "colorbar": {
              "outlinewidth": 0,
              "ticks": ""
             }
            },
            "type": "scatterternary"
           }
          ],
          "surface": [
           {
            "colorbar": {
             "outlinewidth": 0,
             "ticks": ""
            },
            "colorscale": [
             [
              0,
              "#0d0887"
             ],
             [
              0.1111111111111111,
              "#46039f"
             ],
             [
              0.2222222222222222,
              "#7201a8"
             ],
             [
              0.3333333333333333,
              "#9c179e"
             ],
             [
              0.4444444444444444,
              "#bd3786"
             ],
             [
              0.5555555555555556,
              "#d8576b"
             ],
             [
              0.6666666666666666,
              "#ed7953"
             ],
             [
              0.7777777777777778,
              "#fb9f3a"
             ],
             [
              0.8888888888888888,
              "#fdca26"
             ],
             [
              1,
              "#f0f921"
             ]
            ],
            "type": "surface"
           }
          ],
          "table": [
           {
            "cells": {
             "fill": {
              "color": "#EBF0F8"
             },
             "line": {
              "color": "white"
             }
            },
            "header": {
             "fill": {
              "color": "#C8D4E3"
             },
             "line": {
              "color": "white"
             }
            },
            "type": "table"
           }
          ]
         },
         "layout": {
          "annotationdefaults": {
           "arrowcolor": "#2a3f5f",
           "arrowhead": 0,
           "arrowwidth": 1
          },
          "autotypenumbers": "strict",
          "coloraxis": {
           "colorbar": {
            "outlinewidth": 0,
            "ticks": ""
           }
          },
          "colorscale": {
           "diverging": [
            [
             0,
             "#8e0152"
            ],
            [
             0.1,
             "#c51b7d"
            ],
            [
             0.2,
             "#de77ae"
            ],
            [
             0.3,
             "#f1b6da"
            ],
            [
             0.4,
             "#fde0ef"
            ],
            [
             0.5,
             "#f7f7f7"
            ],
            [
             0.6,
             "#e6f5d0"
            ],
            [
             0.7,
             "#b8e186"
            ],
            [
             0.8,
             "#7fbc41"
            ],
            [
             0.9,
             "#4d9221"
            ],
            [
             1,
             "#276419"
            ]
           ],
           "sequential": [
            [
             0,
             "#0d0887"
            ],
            [
             0.1111111111111111,
             "#46039f"
            ],
            [
             0.2222222222222222,
             "#7201a8"
            ],
            [
             0.3333333333333333,
             "#9c179e"
            ],
            [
             0.4444444444444444,
             "#bd3786"
            ],
            [
             0.5555555555555556,
             "#d8576b"
            ],
            [
             0.6666666666666666,
             "#ed7953"
            ],
            [
             0.7777777777777778,
             "#fb9f3a"
            ],
            [
             0.8888888888888888,
             "#fdca26"
            ],
            [
             1,
             "#f0f921"
            ]
           ],
           "sequentialminus": [
            [
             0,
             "#0d0887"
            ],
            [
             0.1111111111111111,
             "#46039f"
            ],
            [
             0.2222222222222222,
             "#7201a8"
            ],
            [
             0.3333333333333333,
             "#9c179e"
            ],
            [
             0.4444444444444444,
             "#bd3786"
            ],
            [
             0.5555555555555556,
             "#d8576b"
            ],
            [
             0.6666666666666666,
             "#ed7953"
            ],
            [
             0.7777777777777778,
             "#fb9f3a"
            ],
            [
             0.8888888888888888,
             "#fdca26"
            ],
            [
             1,
             "#f0f921"
            ]
           ]
          },
          "colorway": [
           "#636efa",
           "#EF553B",
           "#00cc96",
           "#ab63fa",
           "#FFA15A",
           "#19d3f3",
           "#FF6692",
           "#B6E880",
           "#FF97FF",
           "#FECB52"
          ],
          "font": {
           "color": "#2a3f5f"
          },
          "geo": {
           "bgcolor": "white",
           "lakecolor": "white",
           "landcolor": "#E5ECF6",
           "showlakes": true,
           "showland": true,
           "subunitcolor": "white"
          },
          "hoverlabel": {
           "align": "left"
          },
          "hovermode": "closest",
          "mapbox": {
           "style": "light"
          },
          "paper_bgcolor": "white",
          "plot_bgcolor": "#E5ECF6",
          "polar": {
           "angularaxis": {
            "gridcolor": "white",
            "linecolor": "white",
            "ticks": ""
           },
           "bgcolor": "#E5ECF6",
           "radialaxis": {
            "gridcolor": "white",
            "linecolor": "white",
            "ticks": ""
           }
          },
          "scene": {
           "xaxis": {
            "backgroundcolor": "#E5ECF6",
            "gridcolor": "white",
            "gridwidth": 2,
            "linecolor": "white",
            "showbackground": true,
            "ticks": "",
            "zerolinecolor": "white"
           },
           "yaxis": {
            "backgroundcolor": "#E5ECF6",
            "gridcolor": "white",
            "gridwidth": 2,
            "linecolor": "white",
            "showbackground": true,
            "ticks": "",
            "zerolinecolor": "white"
           },
           "zaxis": {
            "backgroundcolor": "#E5ECF6",
            "gridcolor": "white",
            "gridwidth": 2,
            "linecolor": "white",
            "showbackground": true,
            "ticks": "",
            "zerolinecolor": "white"
           }
          },
          "shapedefaults": {
           "line": {
            "color": "#2a3f5f"
           }
          },
          "ternary": {
           "aaxis": {
            "gridcolor": "white",
            "linecolor": "white",
            "ticks": ""
           },
           "baxis": {
            "gridcolor": "white",
            "linecolor": "white",
            "ticks": ""
           },
           "bgcolor": "#E5ECF6",
           "caxis": {
            "gridcolor": "white",
            "linecolor": "white",
            "ticks": ""
           }
          },
          "title": {
           "x": 0.05
          },
          "xaxis": {
           "automargin": true,
           "gridcolor": "white",
           "linecolor": "white",
           "ticks": "",
           "title": {
            "standoff": 15
           },
           "zerolinecolor": "white",
           "zerolinewidth": 2
          },
          "yaxis": {
           "automargin": true,
           "gridcolor": "white",
           "linecolor": "white",
           "ticks": "",
           "title": {
            "standoff": 15
           },
           "zerolinecolor": "white",
           "zerolinewidth": 2
          }
         }
        },
        "title": {
         "text": "distribution of total calories burned"
        },
        "xaxis": {
         "anchor": "y",
         "domain": [
          0,
          1
         ],
         "title": {
          "text": "total_calories_burned"
         }
        },
        "yaxis": {
         "anchor": "x",
         "domain": [
          0,
          1
         ],
         "title": {
          "text": "count"
         }
        }
       }
      }
     },
     "metadata": {},
     "output_type": "display_data"
    }
   ],
   "source": [
    "#histogram of the total calories burns\n",
    "\n",
    "fig = px.histogram(fitness_data, x = 'total_calories_burned' , title = 'distribution of total calories burned')\n",
    "fig.show()"
   ]
  },
  {
   "cell_type": "code",
   "execution_count": 65,
   "id": "bc26b98c",
   "metadata": {},
   "outputs": [
    {
     "data": {
      "application/vnd.plotly.v1+json": {
       "config": {
        "plotlyServerURL": "https://plot.ly"
       },
       "data": [
        {
         "hovertemplate": "date=%{x}<br>total_calories_burned=%{y}<extra></extra>",
         "legendgroup": "",
         "line": {
          "color": "#636efa",
          "dash": "solid"
         },
         "marker": {
          "symbol": "circle"
         },
         "mode": "lines+markers",
         "name": "",
         "orientation": "v",
         "showlegend": false,
         "type": "scatter",
         "x": [
          "2024-07-01T00:00:00.000000000",
          "2024-07-02T00:00:00.000000000",
          "2024-07-03T00:00:00.000000000",
          "2024-07-04T00:00:00.000000000",
          "2024-07-05T00:00:00.000000000",
          "2024-07-06T00:00:00.000000000",
          "2024-07-07T00:00:00.000000000",
          "2024-07-08T00:00:00.000000000",
          "2024-07-09T00:00:00.000000000",
          "2024-07-10T00:00:00.000000000",
          "2024-07-11T00:00:00.000000000",
          "2024-07-12T00:00:00.000000000",
          "2024-07-13T00:00:00.000000000",
          "2024-07-14T00:00:00.000000000",
          "2024-07-15T00:00:00.000000000",
          "2024-07-16T00:00:00.000000000",
          "2024-07-17T00:00:00.000000000",
          "2024-07-18T00:00:00.000000000",
          "2024-07-19T00:00:00.000000000",
          "2024-07-20T00:00:00.000000000",
          "2024-07-21T00:00:00.000000000",
          "2024-07-22T00:00:00.000000000",
          "2024-07-23T00:00:00.000000000",
          "2024-07-24T00:00:00.000000000",
          "2024-07-25T00:00:00.000000000",
          "2024-07-26T00:00:00.000000000",
          "2024-07-27T00:00:00.000000000",
          "2024-07-28T00:00:00.000000000",
          "2024-07-29T00:00:00.000000000",
          "2024-07-30T00:00:00.000000000",
          "2024-07-31T00:00:00.000000000",
          "2024-08-01T00:00:00.000000000",
          "2024-08-02T00:00:00.000000000",
          "2024-08-03T00:00:00.000000000",
          "2024-08-04T00:00:00.000000000",
          "2024-08-05T00:00:00.000000000",
          "2024-08-06T00:00:00.000000000",
          "2024-08-07T00:00:00.000000000",
          "2024-08-08T00:00:00.000000000",
          "2024-08-09T00:00:00.000000000",
          "2024-08-10T00:00:00.000000000",
          "2024-08-11T00:00:00.000000000",
          "2024-08-12T00:00:00.000000000",
          "2024-08-13T00:00:00.000000000",
          "2024-08-14T00:00:00.000000000",
          "2024-08-15T00:00:00.000000000",
          "2024-08-16T00:00:00.000000000",
          "2024-08-17T00:00:00.000000000",
          "2024-08-18T00:00:00.000000000",
          "2024-08-19T00:00:00.000000000",
          "2024-08-20T00:00:00.000000000",
          "2024-08-21T00:00:00.000000000",
          "2024-08-22T00:00:00.000000000",
          "2024-08-23T00:00:00.000000000",
          "2024-08-24T00:00:00.000000000",
          "2024-08-25T00:00:00.000000000",
          "2024-08-26T00:00:00.000000000",
          "2024-08-27T00:00:00.000000000",
          "2024-08-28T00:00:00.000000000",
          "2024-08-29T00:00:00.000000000",
          "2024-08-30T00:00:00.000000000",
          "2024-08-31T00:00:00.000000000",
          "2024-09-01T00:00:00.000000000",
          "2024-09-02T00:00:00.000000000",
          "2024-09-03T00:00:00.000000000",
          "2024-09-04T00:00:00.000000000",
          "2024-09-05T00:00:00.000000000",
          "2024-09-06T00:00:00.000000000",
          "2024-09-07T00:00:00.000000000",
          "2024-09-08T00:00:00.000000000",
          "2024-09-09T00:00:00.000000000",
          "2024-09-10T00:00:00.000000000",
          "2024-09-11T00:00:00.000000000",
          "2024-09-12T00:00:00.000000000",
          "2024-09-13T00:00:00.000000000",
          "2024-09-14T00:00:00.000000000",
          "2024-09-15T00:00:00.000000000",
          "2024-09-16T00:00:00.000000000",
          "2024-09-17T00:00:00.000000000",
          "2024-09-18T00:00:00.000000000",
          "2024-09-19T00:00:00.000000000",
          "2024-09-20T00:00:00.000000000",
          "2024-09-21T00:00:00.000000000",
          "2024-09-22T00:00:00.000000000",
          "2024-09-23T00:00:00.000000000",
          "2024-09-24T00:00:00.000000000",
          "2024-09-25T00:00:00.000000000",
          "2024-09-26T00:00:00.000000000",
          "2024-09-27T00:00:00.000000000",
          "2024-09-28T00:00:00.000000000",
          "2024-09-29T00:00:00.000000000",
          "2024-09-30T00:00:00.000000000",
          "2024-10-01T00:00:00.000000000",
          "2024-10-02T00:00:00.000000000",
          "2024-10-03T00:00:00.000000000",
          "2024-10-04T00:00:00.000000000",
          "2024-10-05T00:00:00.000000000",
          "2024-10-06T00:00:00.000000000",
          "2024-10-07T00:00:00.000000000",
          "2024-10-08T00:00:00.000000000",
          "2024-10-09T00:00:00.000000000",
          "2024-10-10T00:00:00.000000000",
          "2024-10-11T00:00:00.000000000",
          "2024-10-12T00:00:00.000000000",
          "2024-10-13T00:00:00.000000000",
          "2024-10-14T00:00:00.000000000",
          "2024-10-15T00:00:00.000000000",
          "2024-10-16T00:00:00.000000000",
          "2024-10-17T00:00:00.000000000",
          "2024-10-18T00:00:00.000000000",
          "2024-10-19T00:00:00.000000000",
          "2024-10-20T00:00:00.000000000",
          "2024-10-21T00:00:00.000000000",
          "2024-10-22T00:00:00.000000000",
          "2024-10-23T00:00:00.000000000",
          "2024-10-24T00:00:00.000000000",
          "2024-10-25T00:00:00.000000000",
          "2024-10-26T00:00:00.000000000",
          "2024-10-27T00:00:00.000000000",
          "2024-10-28T00:00:00.000000000",
          "2024-10-29T00:00:00.000000000",
          "2024-10-30T00:00:00.000000000",
          "2024-10-31T00:00:00.000000000",
          "2024-11-01T00:00:00.000000000",
          "2024-11-02T00:00:00.000000000",
          "2024-11-03T00:00:00.000000000",
          "2024-11-04T00:00:00.000000000",
          "2024-11-05T00:00:00.000000000",
          "2024-11-06T00:00:00.000000000",
          "2024-11-07T00:00:00.000000000",
          "2024-11-08T00:00:00.000000000",
          "2024-11-09T00:00:00.000000000",
          "2024-11-10T00:00:00.000000000",
          "2024-11-11T00:00:00.000000000",
          "2024-11-12T00:00:00.000000000",
          "2024-11-13T00:00:00.000000000",
          "2024-11-14T00:00:00.000000000",
          "2024-11-15T00:00:00.000000000",
          "2024-11-16T00:00:00.000000000",
          "2024-11-17T00:00:00.000000000",
          "2024-11-18T00:00:00.000000000",
          "2024-11-19T00:00:00.000000000",
          "2024-11-20T00:00:00.000000000",
          "2024-11-21T00:00:00.000000000",
          "2024-11-22T00:00:00.000000000",
          "2024-11-23T00:00:00.000000000",
          "2024-11-24T00:00:00.000000000",
          "2024-11-25T00:00:00.000000000",
          "2024-11-26T00:00:00.000000000",
          "2024-11-27T00:00:00.000000000",
          "2024-11-28T00:00:00.000000000",
          "2024-11-29T00:00:00.000000000",
          "2024-11-30T00:00:00.000000000",
          "2024-12-01T00:00:00.000000000",
          "2024-12-02T00:00:00.000000000",
          "2024-12-03T00:00:00.000000000",
          "2024-12-04T00:00:00.000000000",
          "2024-12-05T00:00:00.000000000",
          "2024-12-06T00:00:00.000000000",
          "2024-12-07T00:00:00.000000000",
          "2024-12-08T00:00:00.000000000",
          "2024-12-09T00:00:00.000000000",
          "2024-12-10T00:00:00.000000000",
          "2024-12-11T00:00:00.000000000",
          "2024-12-12T00:00:00.000000000",
          "2024-12-13T00:00:00.000000000",
          "2024-12-14T00:00:00.000000000",
          "2024-12-15T00:00:00.000000000",
          "2024-12-16T00:00:00.000000000",
          "2024-12-17T00:00:00.000000000",
          "2024-12-18T00:00:00.000000000",
          "2024-12-19T00:00:00.000000000",
          "2024-12-20T00:00:00.000000000",
          "2024-12-21T00:00:00.000000000",
          "2024-12-22T00:00:00.000000000",
          "2024-12-23T00:00:00.000000000",
          "2024-12-24T00:00:00.000000000",
          "2024-12-25T00:00:00.000000000",
          "2024-12-26T00:00:00.000000000",
          "2024-12-27T00:00:00.000000000",
          "2024-12-28T00:00:00.000000000",
          "2024-12-29T00:00:00.000000000",
          "2024-12-30T00:00:00.000000000",
          "2024-12-31T00:00:00.000000000",
          "2025-01-01T00:00:00.000000000"
         ],
         "xaxis": "x",
         "y": {
          "bdata": "AAAAAADAhEAAAAAAAKCEQAAAAAAASItAAAAAAABkkUAAAAAAALCIQAAAAAAA4IVAAAAAAABwf0AAAAAAAGCEQAAAAAAAsI9AAAAAAABghUAAAAAAAIiCQAAAAAAAiItAAAAAAABwjEAAAAAAAIiHQAAAAAAAgIJAAAAAAACIkUAAAAAAACCHQAAAAAAAmItAAAAAAAB4gkAAAAAAAIiLQAAAAAAAMIFAAAAAAACwiEAAAAAAANCIQAAAAAAA0IJAAAAAAABAjEAAAAAAAJCQQAAAAAAAaJBAAAAAAABojUAAAAAAALCIQAAAAAAAcHpAAAAAAACghUAAAAAAAPCGQAAAAAAA4IdAAAAAAADIkkAAAAAAABiJQAAAAAAA0IZAAAAAAAAoiEAAAAAAANiBQAAAAAAAaIRAAAAAAAAEkkAAAAAAAIiUQAAAAAAA4IpAAAAAAAAgjkAAAAAAAMCHQAAAAAAASIFAAAAAAACYgEAAAAAAABiQQAAAAAAAUI9AAAAAAAB4jUAAAAAAADCDQAAAAAAAeIdAAAAAAACAjEAAAAAAAPCGQAAAAAAAsIpAAAAAAACAjUAAAAAAAEiLQAAAAAAAaIlAAAAAAACQhkAAAAAAABB5QAAAAAAAAIVAAAAAAAA8k0AAAAAAAPiSQAAAAAAA8ItAAAAAAAAQj0AAAAAAADCNQAAAAAAA0ItAAAAAAACQgkAAAAAAABCDQAAAAAAACIpAAAAAAADogUAAAAAAAHiHQAAAAAAAEIpAAAAAAAAIiUAAAAAAAHiDQAAAAAAAUJRAAAAAAABYjkAAAAAAACiMQAAAAAAA5JBAAAAAAABAhkAAAAAAAFCJQAAAAAAAwIlAAAAAAADQiEAAAAAAADiRQAAAAAAAUItAAAAAAACQhkAAAAAAAICHQAAAAAAAoIFAAAAAAABYjkAAAAAAAAiUQAAAAAAAuI1AAAAAAAC4g0AAAAAAADiHQAAAAAAAWIpAAAAAAADghUAAAAAAAJCMQAAAAAAAeJBAAAAAAACUmEAAAAAAAGCOQAAAAAAAoItAAAAAAACAiEAAAAAAAMCEQAAAAAAA8HJAAAAAAAAQiUAAAAAAAACXQAAAAAAAPJFAAAAAAAD4j0AAAAAAAKiEQAAAAAAA8IpAAAAAAAB4jEAAAAAAAMiHQAAAAAAAQJBAAAAAAACQi0AAAAAAAECHQAAAAAAA0IhAAAAAAAA8kUAAAAAAAECGQAAAAAAAKJJAAAAAAACghkAAAAAAAPCLQAAAAAAAiIZAAAAAAAAAj0AAAAAAANiLQAAAAAAAuIhAAAAAAABwk0AAAAAAALyVQAAAAAAAMINAAAAAAACogEAAAAAAAJCKQAAAAAAA0JFAAAAAAADgf0AAAAAAAAyRQAAAAAAAlJNAAAAAAADgikAAAAAAAFCFQAAAAAAAgJFAAAAAAABokUAAAAAAAHCCQAAAAAAACI9AAAAAAAAYjUAAAAAAAPiJQAAAAAAA+IBAAAAAAADgj0AAAAAAAJiAQAAAAAAASIZAAAAAAABgk0AAAAAAANSUQAAAAAAAYI5AAAAAAADogUAAAAAAAMCCQAAAAAAAWIVAAAAAAAAA+H8AAAAAAAD4fwAAAAAAAPh/AAAAAACckEAAAAAAADiHQAAAAAAASIpAAAAAAABQiUAAAAAAAMCOQAAAAAAAYI5AAAAAAACslEAAAAAAAGiQQAAAAAAAIHxAAAAAAABghEAAAAAAADCRQAAAAAAAeJBAAAAAAADwd0AAAAAAADiGQAAAAAAAqI9AAAAAAADAiEAAAAAAAPiKQAAAAAAAIIhAAAAAAAAojUAAAAAAAHCTQAAAAAAAMItAAAAAAACYi0AAAAAAAFCEQAAAAAAAAPh/AAAAAAAA+H8AAAAAAAD4fwAAAAAAdJJAAAAAAABAhkAAAAAAAFCLQAAAAAAAUItAAAAAAAAgjEAAAAAAAICIQA==",
          "dtype": "f8"
         },
         "yaxis": "y"
        }
       ],
       "layout": {
        "legend": {
         "tracegroupgap": 0
        },
        "template": {
         "data": {
          "bar": [
           {
            "error_x": {
             "color": "#2a3f5f"
            },
            "error_y": {
             "color": "#2a3f5f"
            },
            "marker": {
             "line": {
              "color": "#E5ECF6",
              "width": 0.5
             },
             "pattern": {
              "fillmode": "overlay",
              "size": 10,
              "solidity": 0.2
             }
            },
            "type": "bar"
           }
          ],
          "barpolar": [
           {
            "marker": {
             "line": {
              "color": "#E5ECF6",
              "width": 0.5
             },
             "pattern": {
              "fillmode": "overlay",
              "size": 10,
              "solidity": 0.2
             }
            },
            "type": "barpolar"
           }
          ],
          "carpet": [
           {
            "aaxis": {
             "endlinecolor": "#2a3f5f",
             "gridcolor": "white",
             "linecolor": "white",
             "minorgridcolor": "white",
             "startlinecolor": "#2a3f5f"
            },
            "baxis": {
             "endlinecolor": "#2a3f5f",
             "gridcolor": "white",
             "linecolor": "white",
             "minorgridcolor": "white",
             "startlinecolor": "#2a3f5f"
            },
            "type": "carpet"
           }
          ],
          "choropleth": [
           {
            "colorbar": {
             "outlinewidth": 0,
             "ticks": ""
            },
            "type": "choropleth"
           }
          ],
          "contour": [
           {
            "colorbar": {
             "outlinewidth": 0,
             "ticks": ""
            },
            "colorscale": [
             [
              0,
              "#0d0887"
             ],
             [
              0.1111111111111111,
              "#46039f"
             ],
             [
              0.2222222222222222,
              "#7201a8"
             ],
             [
              0.3333333333333333,
              "#9c179e"
             ],
             [
              0.4444444444444444,
              "#bd3786"
             ],
             [
              0.5555555555555556,
              "#d8576b"
             ],
             [
              0.6666666666666666,
              "#ed7953"
             ],
             [
              0.7777777777777778,
              "#fb9f3a"
             ],
             [
              0.8888888888888888,
              "#fdca26"
             ],
             [
              1,
              "#f0f921"
             ]
            ],
            "type": "contour"
           }
          ],
          "contourcarpet": [
           {
            "colorbar": {
             "outlinewidth": 0,
             "ticks": ""
            },
            "type": "contourcarpet"
           }
          ],
          "heatmap": [
           {
            "colorbar": {
             "outlinewidth": 0,
             "ticks": ""
            },
            "colorscale": [
             [
              0,
              "#0d0887"
             ],
             [
              0.1111111111111111,
              "#46039f"
             ],
             [
              0.2222222222222222,
              "#7201a8"
             ],
             [
              0.3333333333333333,
              "#9c179e"
             ],
             [
              0.4444444444444444,
              "#bd3786"
             ],
             [
              0.5555555555555556,
              "#d8576b"
             ],
             [
              0.6666666666666666,
              "#ed7953"
             ],
             [
              0.7777777777777778,
              "#fb9f3a"
             ],
             [
              0.8888888888888888,
              "#fdca26"
             ],
             [
              1,
              "#f0f921"
             ]
            ],
            "type": "heatmap"
           }
          ],
          "histogram": [
           {
            "marker": {
             "pattern": {
              "fillmode": "overlay",
              "size": 10,
              "solidity": 0.2
             }
            },
            "type": "histogram"
           }
          ],
          "histogram2d": [
           {
            "colorbar": {
             "outlinewidth": 0,
             "ticks": ""
            },
            "colorscale": [
             [
              0,
              "#0d0887"
             ],
             [
              0.1111111111111111,
              "#46039f"
             ],
             [
              0.2222222222222222,
              "#7201a8"
             ],
             [
              0.3333333333333333,
              "#9c179e"
             ],
             [
              0.4444444444444444,
              "#bd3786"
             ],
             [
              0.5555555555555556,
              "#d8576b"
             ],
             [
              0.6666666666666666,
              "#ed7953"
             ],
             [
              0.7777777777777778,
              "#fb9f3a"
             ],
             [
              0.8888888888888888,
              "#fdca26"
             ],
             [
              1,
              "#f0f921"
             ]
            ],
            "type": "histogram2d"
           }
          ],
          "histogram2dcontour": [
           {
            "colorbar": {
             "outlinewidth": 0,
             "ticks": ""
            },
            "colorscale": [
             [
              0,
              "#0d0887"
             ],
             [
              0.1111111111111111,
              "#46039f"
             ],
             [
              0.2222222222222222,
              "#7201a8"
             ],
             [
              0.3333333333333333,
              "#9c179e"
             ],
             [
              0.4444444444444444,
              "#bd3786"
             ],
             [
              0.5555555555555556,
              "#d8576b"
             ],
             [
              0.6666666666666666,
              "#ed7953"
             ],
             [
              0.7777777777777778,
              "#fb9f3a"
             ],
             [
              0.8888888888888888,
              "#fdca26"
             ],
             [
              1,
              "#f0f921"
             ]
            ],
            "type": "histogram2dcontour"
           }
          ],
          "mesh3d": [
           {
            "colorbar": {
             "outlinewidth": 0,
             "ticks": ""
            },
            "type": "mesh3d"
           }
          ],
          "parcoords": [
           {
            "line": {
             "colorbar": {
              "outlinewidth": 0,
              "ticks": ""
             }
            },
            "type": "parcoords"
           }
          ],
          "pie": [
           {
            "automargin": true,
            "type": "pie"
           }
          ],
          "scatter": [
           {
            "fillpattern": {
             "fillmode": "overlay",
             "size": 10,
             "solidity": 0.2
            },
            "type": "scatter"
           }
          ],
          "scatter3d": [
           {
            "line": {
             "colorbar": {
              "outlinewidth": 0,
              "ticks": ""
             }
            },
            "marker": {
             "colorbar": {
              "outlinewidth": 0,
              "ticks": ""
             }
            },
            "type": "scatter3d"
           }
          ],
          "scattercarpet": [
           {
            "marker": {
             "colorbar": {
              "outlinewidth": 0,
              "ticks": ""
             }
            },
            "type": "scattercarpet"
           }
          ],
          "scattergeo": [
           {
            "marker": {
             "colorbar": {
              "outlinewidth": 0,
              "ticks": ""
             }
            },
            "type": "scattergeo"
           }
          ],
          "scattergl": [
           {
            "marker": {
             "colorbar": {
              "outlinewidth": 0,
              "ticks": ""
             }
            },
            "type": "scattergl"
           }
          ],
          "scattermap": [
           {
            "marker": {
             "colorbar": {
              "outlinewidth": 0,
              "ticks": ""
             }
            },
            "type": "scattermap"
           }
          ],
          "scattermapbox": [
           {
            "marker": {
             "colorbar": {
              "outlinewidth": 0,
              "ticks": ""
             }
            },
            "type": "scattermapbox"
           }
          ],
          "scatterpolar": [
           {
            "marker": {
             "colorbar": {
              "outlinewidth": 0,
              "ticks": ""
             }
            },
            "type": "scatterpolar"
           }
          ],
          "scatterpolargl": [
           {
            "marker": {
             "colorbar": {
              "outlinewidth": 0,
              "ticks": ""
             }
            },
            "type": "scatterpolargl"
           }
          ],
          "scatterternary": [
           {
            "marker": {
             "colorbar": {
              "outlinewidth": 0,
              "ticks": ""
             }
            },
            "type": "scatterternary"
           }
          ],
          "surface": [
           {
            "colorbar": {
             "outlinewidth": 0,
             "ticks": ""
            },
            "colorscale": [
             [
              0,
              "#0d0887"
             ],
             [
              0.1111111111111111,
              "#46039f"
             ],
             [
              0.2222222222222222,
              "#7201a8"
             ],
             [
              0.3333333333333333,
              "#9c179e"
             ],
             [
              0.4444444444444444,
              "#bd3786"
             ],
             [
              0.5555555555555556,
              "#d8576b"
             ],
             [
              0.6666666666666666,
              "#ed7953"
             ],
             [
              0.7777777777777778,
              "#fb9f3a"
             ],
             [
              0.8888888888888888,
              "#fdca26"
             ],
             [
              1,
              "#f0f921"
             ]
            ],
            "type": "surface"
           }
          ],
          "table": [
           {
            "cells": {
             "fill": {
              "color": "#EBF0F8"
             },
             "line": {
              "color": "white"
             }
            },
            "header": {
             "fill": {
              "color": "#C8D4E3"
             },
             "line": {
              "color": "white"
             }
            },
            "type": "table"
           }
          ]
         },
         "layout": {
          "annotationdefaults": {
           "arrowcolor": "#2a3f5f",
           "arrowhead": 0,
           "arrowwidth": 1
          },
          "autotypenumbers": "strict",
          "coloraxis": {
           "colorbar": {
            "outlinewidth": 0,
            "ticks": ""
           }
          },
          "colorscale": {
           "diverging": [
            [
             0,
             "#8e0152"
            ],
            [
             0.1,
             "#c51b7d"
            ],
            [
             0.2,
             "#de77ae"
            ],
            [
             0.3,
             "#f1b6da"
            ],
            [
             0.4,
             "#fde0ef"
            ],
            [
             0.5,
             "#f7f7f7"
            ],
            [
             0.6,
             "#e6f5d0"
            ],
            [
             0.7,
             "#b8e186"
            ],
            [
             0.8,
             "#7fbc41"
            ],
            [
             0.9,
             "#4d9221"
            ],
            [
             1,
             "#276419"
            ]
           ],
           "sequential": [
            [
             0,
             "#0d0887"
            ],
            [
             0.1111111111111111,
             "#46039f"
            ],
            [
             0.2222222222222222,
             "#7201a8"
            ],
            [
             0.3333333333333333,
             "#9c179e"
            ],
            [
             0.4444444444444444,
             "#bd3786"
            ],
            [
             0.5555555555555556,
             "#d8576b"
            ],
            [
             0.6666666666666666,
             "#ed7953"
            ],
            [
             0.7777777777777778,
             "#fb9f3a"
            ],
            [
             0.8888888888888888,
             "#fdca26"
            ],
            [
             1,
             "#f0f921"
            ]
           ],
           "sequentialminus": [
            [
             0,
             "#0d0887"
            ],
            [
             0.1111111111111111,
             "#46039f"
            ],
            [
             0.2222222222222222,
             "#7201a8"
            ],
            [
             0.3333333333333333,
             "#9c179e"
            ],
            [
             0.4444444444444444,
             "#bd3786"
            ],
            [
             0.5555555555555556,
             "#d8576b"
            ],
            [
             0.6666666666666666,
             "#ed7953"
            ],
            [
             0.7777777777777778,
             "#fb9f3a"
            ],
            [
             0.8888888888888888,
             "#fdca26"
            ],
            [
             1,
             "#f0f921"
            ]
           ]
          },
          "colorway": [
           "#636efa",
           "#EF553B",
           "#00cc96",
           "#ab63fa",
           "#FFA15A",
           "#19d3f3",
           "#FF6692",
           "#B6E880",
           "#FF97FF",
           "#FECB52"
          ],
          "font": {
           "color": "#2a3f5f"
          },
          "geo": {
           "bgcolor": "white",
           "lakecolor": "white",
           "landcolor": "#E5ECF6",
           "showlakes": true,
           "showland": true,
           "subunitcolor": "white"
          },
          "hoverlabel": {
           "align": "left"
          },
          "hovermode": "closest",
          "mapbox": {
           "style": "light"
          },
          "paper_bgcolor": "white",
          "plot_bgcolor": "#E5ECF6",
          "polar": {
           "angularaxis": {
            "gridcolor": "white",
            "linecolor": "white",
            "ticks": ""
           },
           "bgcolor": "#E5ECF6",
           "radialaxis": {
            "gridcolor": "white",
            "linecolor": "white",
            "ticks": ""
           }
          },
          "scene": {
           "xaxis": {
            "backgroundcolor": "#E5ECF6",
            "gridcolor": "white",
            "gridwidth": 2,
            "linecolor": "white",
            "showbackground": true,
            "ticks": "",
            "zerolinecolor": "white"
           },
           "yaxis": {
            "backgroundcolor": "#E5ECF6",
            "gridcolor": "white",
            "gridwidth": 2,
            "linecolor": "white",
            "showbackground": true,
            "ticks": "",
            "zerolinecolor": "white"
           },
           "zaxis": {
            "backgroundcolor": "#E5ECF6",
            "gridcolor": "white",
            "gridwidth": 2,
            "linecolor": "white",
            "showbackground": true,
            "ticks": "",
            "zerolinecolor": "white"
           }
          },
          "shapedefaults": {
           "line": {
            "color": "#2a3f5f"
           }
          },
          "ternary": {
           "aaxis": {
            "gridcolor": "white",
            "linecolor": "white",
            "ticks": ""
           },
           "baxis": {
            "gridcolor": "white",
            "linecolor": "white",
            "ticks": ""
           },
           "bgcolor": "#E5ECF6",
           "caxis": {
            "gridcolor": "white",
            "linecolor": "white",
            "ticks": ""
           }
          },
          "title": {
           "x": 0.05
          },
          "xaxis": {
           "automargin": true,
           "gridcolor": "white",
           "linecolor": "white",
           "ticks": "",
           "title": {
            "standoff": 15
           },
           "zerolinecolor": "white",
           "zerolinewidth": 2
          },
          "yaxis": {
           "automargin": true,
           "gridcolor": "white",
           "linecolor": "white",
           "ticks": "",
           "title": {
            "standoff": 15
           },
           "zerolinecolor": "white",
           "zerolinewidth": 2
          }
         }
        },
        "title": {
         "text": "Total calories burned over time"
        },
        "xaxis": {
         "anchor": "y",
         "domain": [
          0,
          1
         ],
         "title": {
          "text": "date"
         }
        },
        "yaxis": {
         "anchor": "x",
         "domain": [
          0,
          1
         ],
         "title": {
          "text": "Total calories burned (kcal)"
         }
        }
       }
      }
     },
     "metadata": {},
     "output_type": "display_data"
    }
   ],
   "source": [
    "#line chart of calories burnt overtime\n",
    "fig = px.line(fitness_data, x= 'date', y = 'total_calories_burned', title = 'Total calories burned over time', markers=True)\n",
    "fig.update_layout(yaxis_title = 'Total calories burned (kcal)')\n",
    "fig.show()"
   ]
  },
  {
   "cell_type": "code",
   "execution_count": 66,
   "id": "8952c8e0",
   "metadata": {},
   "outputs": [
    {
     "data": {
      "application/vnd.plotly.v1+json": {
       "config": {
        "plotlyServerURL": "https://plot.ly"
       },
       "data": [
        {
         "hovertemplate": "date=%{x}<br>body_weight_kg=%{y}<extra></extra>",
         "legendgroup": "",
         "line": {
          "color": "#636efa",
          "dash": "solid"
         },
         "marker": {
          "symbol": "circle"
         },
         "mode": "lines",
         "name": "",
         "orientation": "v",
         "showlegend": false,
         "type": "scatter",
         "x": [
          "2024-07-01T00:00:00.000000000",
          "2024-07-02T00:00:00.000000000",
          "2024-07-03T00:00:00.000000000",
          "2024-07-04T00:00:00.000000000",
          "2024-07-05T00:00:00.000000000",
          "2024-07-06T00:00:00.000000000",
          "2024-07-07T00:00:00.000000000",
          "2024-07-08T00:00:00.000000000",
          "2024-07-09T00:00:00.000000000",
          "2024-07-10T00:00:00.000000000",
          "2024-07-11T00:00:00.000000000",
          "2024-07-12T00:00:00.000000000",
          "2024-07-13T00:00:00.000000000",
          "2024-07-14T00:00:00.000000000",
          "2024-07-15T00:00:00.000000000",
          "2024-07-16T00:00:00.000000000",
          "2024-07-17T00:00:00.000000000",
          "2024-07-18T00:00:00.000000000",
          "2024-07-19T00:00:00.000000000",
          "2024-07-20T00:00:00.000000000",
          "2024-07-21T00:00:00.000000000",
          "2024-07-22T00:00:00.000000000",
          "2024-07-23T00:00:00.000000000",
          "2024-07-24T00:00:00.000000000",
          "2024-07-25T00:00:00.000000000",
          "2024-07-26T00:00:00.000000000",
          "2024-07-27T00:00:00.000000000",
          "2024-07-28T00:00:00.000000000",
          "2024-07-29T00:00:00.000000000",
          "2024-07-30T00:00:00.000000000",
          "2024-07-31T00:00:00.000000000",
          "2024-08-01T00:00:00.000000000",
          "2024-08-02T00:00:00.000000000",
          "2024-08-03T00:00:00.000000000",
          "2024-08-04T00:00:00.000000000",
          "2024-08-05T00:00:00.000000000",
          "2024-08-06T00:00:00.000000000",
          "2024-08-07T00:00:00.000000000",
          "2024-08-08T00:00:00.000000000",
          "2024-08-09T00:00:00.000000000",
          "2024-08-10T00:00:00.000000000",
          "2024-08-11T00:00:00.000000000",
          "2024-08-12T00:00:00.000000000",
          "2024-08-13T00:00:00.000000000",
          "2024-08-14T00:00:00.000000000",
          "2024-08-15T00:00:00.000000000",
          "2024-08-16T00:00:00.000000000",
          "2024-08-17T00:00:00.000000000",
          "2024-08-18T00:00:00.000000000",
          "2024-08-19T00:00:00.000000000",
          "2024-08-20T00:00:00.000000000",
          "2024-08-21T00:00:00.000000000",
          "2024-08-22T00:00:00.000000000",
          "2024-08-23T00:00:00.000000000",
          "2024-08-24T00:00:00.000000000",
          "2024-08-25T00:00:00.000000000",
          "2024-08-26T00:00:00.000000000",
          "2024-08-27T00:00:00.000000000",
          "2024-08-28T00:00:00.000000000",
          "2024-08-29T00:00:00.000000000",
          "2024-08-30T00:00:00.000000000",
          "2024-08-31T00:00:00.000000000",
          "2024-09-01T00:00:00.000000000",
          "2024-09-02T00:00:00.000000000",
          "2024-09-03T00:00:00.000000000",
          "2024-09-04T00:00:00.000000000",
          "2024-09-05T00:00:00.000000000",
          "2024-09-06T00:00:00.000000000",
          "2024-09-07T00:00:00.000000000",
          "2024-09-08T00:00:00.000000000",
          "2024-09-09T00:00:00.000000000",
          "2024-09-10T00:00:00.000000000",
          "2024-09-11T00:00:00.000000000",
          "2024-09-12T00:00:00.000000000",
          "2024-09-13T00:00:00.000000000",
          "2024-09-14T00:00:00.000000000",
          "2024-09-15T00:00:00.000000000",
          "2024-09-16T00:00:00.000000000",
          "2024-09-17T00:00:00.000000000",
          "2024-09-18T00:00:00.000000000",
          "2024-09-19T00:00:00.000000000",
          "2024-09-20T00:00:00.000000000",
          "2024-09-21T00:00:00.000000000",
          "2024-09-22T00:00:00.000000000",
          "2024-09-23T00:00:00.000000000",
          "2024-09-24T00:00:00.000000000",
          "2024-09-25T00:00:00.000000000",
          "2024-09-26T00:00:00.000000000",
          "2024-09-27T00:00:00.000000000",
          "2024-09-28T00:00:00.000000000",
          "2024-09-29T00:00:00.000000000",
          "2024-09-30T00:00:00.000000000",
          "2024-10-01T00:00:00.000000000",
          "2024-10-02T00:00:00.000000000",
          "2024-10-03T00:00:00.000000000",
          "2024-10-04T00:00:00.000000000",
          "2024-10-05T00:00:00.000000000",
          "2024-10-06T00:00:00.000000000",
          "2024-10-07T00:00:00.000000000",
          "2024-10-08T00:00:00.000000000",
          "2024-10-09T00:00:00.000000000",
          "2024-10-10T00:00:00.000000000",
          "2024-10-11T00:00:00.000000000",
          "2024-10-12T00:00:00.000000000",
          "2024-10-13T00:00:00.000000000",
          "2024-10-14T00:00:00.000000000",
          "2024-10-15T00:00:00.000000000",
          "2024-10-16T00:00:00.000000000",
          "2024-10-17T00:00:00.000000000",
          "2024-10-18T00:00:00.000000000",
          "2024-10-19T00:00:00.000000000",
          "2024-10-20T00:00:00.000000000",
          "2024-10-21T00:00:00.000000000",
          "2024-10-22T00:00:00.000000000",
          "2024-10-23T00:00:00.000000000",
          "2024-10-24T00:00:00.000000000",
          "2024-10-25T00:00:00.000000000",
          "2024-10-26T00:00:00.000000000",
          "2024-10-27T00:00:00.000000000",
          "2024-10-28T00:00:00.000000000",
          "2024-10-29T00:00:00.000000000",
          "2024-10-30T00:00:00.000000000",
          "2024-10-31T00:00:00.000000000",
          "2024-11-01T00:00:00.000000000",
          "2024-11-02T00:00:00.000000000",
          "2024-11-03T00:00:00.000000000",
          "2024-11-04T00:00:00.000000000",
          "2024-11-05T00:00:00.000000000",
          "2024-11-06T00:00:00.000000000",
          "2024-11-07T00:00:00.000000000",
          "2024-11-08T00:00:00.000000000",
          "2024-11-09T00:00:00.000000000",
          "2024-11-10T00:00:00.000000000",
          "2024-11-11T00:00:00.000000000",
          "2024-11-12T00:00:00.000000000",
          "2024-11-13T00:00:00.000000000",
          "2024-11-14T00:00:00.000000000",
          "2024-11-15T00:00:00.000000000",
          "2024-11-16T00:00:00.000000000",
          "2024-11-17T00:00:00.000000000",
          "2024-11-18T00:00:00.000000000",
          "2024-11-19T00:00:00.000000000",
          "2024-11-20T00:00:00.000000000",
          "2024-11-21T00:00:00.000000000",
          "2024-11-22T00:00:00.000000000",
          "2024-11-23T00:00:00.000000000",
          "2024-11-24T00:00:00.000000000",
          "2024-11-25T00:00:00.000000000",
          "2024-11-26T00:00:00.000000000",
          "2024-11-27T00:00:00.000000000",
          "2024-11-28T00:00:00.000000000",
          "2024-11-29T00:00:00.000000000",
          "2024-11-30T00:00:00.000000000",
          "2024-12-01T00:00:00.000000000",
          "2024-12-02T00:00:00.000000000",
          "2024-12-03T00:00:00.000000000",
          "2024-12-04T00:00:00.000000000",
          "2024-12-05T00:00:00.000000000",
          "2024-12-06T00:00:00.000000000",
          "2024-12-07T00:00:00.000000000",
          "2024-12-08T00:00:00.000000000",
          "2024-12-09T00:00:00.000000000",
          "2024-12-10T00:00:00.000000000",
          "2024-12-11T00:00:00.000000000",
          "2024-12-12T00:00:00.000000000",
          "2024-12-13T00:00:00.000000000",
          "2024-12-14T00:00:00.000000000",
          "2024-12-15T00:00:00.000000000",
          "2024-12-16T00:00:00.000000000",
          "2024-12-17T00:00:00.000000000",
          "2024-12-18T00:00:00.000000000",
          "2024-12-19T00:00:00.000000000",
          "2024-12-20T00:00:00.000000000",
          "2024-12-21T00:00:00.000000000",
          "2024-12-22T00:00:00.000000000",
          "2024-12-23T00:00:00.000000000",
          "2024-12-24T00:00:00.000000000",
          "2024-12-25T00:00:00.000000000",
          "2024-12-26T00:00:00.000000000",
          "2024-12-27T00:00:00.000000000",
          "2024-12-28T00:00:00.000000000",
          "2024-12-29T00:00:00.000000000",
          "2024-12-30T00:00:00.000000000",
          "2024-12-31T00:00:00.000000000",
          "2025-01-01T00:00:00.000000000"
         ],
         "xaxis": "x",
         "y": {
          "bdata": "mFQUFeXPUkD5W1o1iLpSQClcj8L1yFJAzczMzMzMUkDhehSuR9FSQPYoXI/C1VJACtejcD3aUkAxuYnpQNFSQATfuAWhqFJA16NwPQrnUkB7FK5H4epSQB+F61G47lJAe1H3lji7UkDXo3A9CvdSQHsUrkfh+lJAH4XrUbj+UkDD9ShcjwJTQGZmZmZmBlNAmpmZmZkJU0A9CtejcA1TQHE9CtejEFNApHA9CtcTU0BI4XoUrhdTQArXo3A9GlNAPQrXo3AdU0BxPQrXoyBTQDMzMzMzI1NA9ihcj8IlU0C4HoXrUShTQHsUrkfhKlNAPQrXo3AtU0CPwvUoXC9TQHsUrkfhKlNApHA9CtczU0AzMzMzMzNTQNejcD0KN1NAuB6F61E4U0AK16NwPTpTQOxRuB6FO1NAXI/C9Sg8U0BI4XoUrjdTQK5H4XoUPlNAH4XrUbg+U0CkcD0K10NTQFK4HoXrQVNAFK5H4XpEU0D2KFyPwkVTQDMzMzMzQ1NASOF6FK5HU0CPwvUoXD9TQHE9CtejQFNArkfhehQ+U0DhehSuRzFTQFyPwvUoPFNA7FG4HoU7U0AK16NwPTpTQEjhehSuN1NA7FG4HoU7U0CF61G4HjVTQEjhehSuN1NAUrgehesxU0CPwvUoXC9TQHE9CtejAFNAhetRuB71UkDNzMzMzNxSQDMzMzMz01JAMzMzMzPzUkCamZmZmclSQEjhehSut1JAZmZmZmaWUkB7FK5H4YpSQM3MzMzMbFJAexSuR+FqUkB7FK5H4VpSQMP1KFyPUlJAZmZmZmZWUkDsUbgehUtSQK5H4XoUTlJACtejcD1aUkBmZmZmZlZSQOxRuB6FS1JAFK5H4XokUkBSuB6F6zFSQIXrUbgeVVJAexSuR+FKUkDD9Shcj2JSQNejcD0KR1JA7FG4HoU7UkCPwvUoXC9SQDMzMzMzI1JA7FG4HoUbUkDhehSuRxFSQM3MzMzMHFJA4XoUrkcxUkDNzMzMzCxSQGZmZmZmNlJACtejcD06UkCuR+F6FP5RQDMzMzMzA1JAXI/C9Sj8UUBI4XoUrvdRQNejcD0KB1JAFK5H4XoUUkAK16NwPRpSQHsUrkfhKlJAPQrXo3AtUkBmZmZmZjZSQOxRuB6FO1JAFK5H4XpEUkBI4XoUrkdSQHsUrkfhSlJAw/UoXI9CUkB7FK5H4SpSQBSuR+F6JFJAuB6F61FoUkBcj8L1KGxSQMP1KFyPYlJAFK5H4XpkUkDNzMzMzFxSQI/C9ShcX1JASOF6FK5XUkAzMzMzM2NSQMP1KFyPUlJA7FG4HoVrUkCuR+F6FE5SQFyPwvUoTFJAexSuR+FKUkApXI/C9UhSQEjhehSuR1JAexSuR+FKUkCuR+F6FE5SQPYoXI/CVVJAw/UoXI9CUkBSuB6F60FSQOF6FK5HQVJAcT0K16NAUkCuR+F6FD5SQBSuR+F6RFJAexSuR+FKUkAzMzMzM0NSQNejcD0Kx1FAMzMzMzMDUkB7FK5H4QpSQIXrUbgeFVJAj8L1KFwPUkBcj8L1KAxSQOF6FK5HMVJAhetRuB5FUkD2KFyPwlVSQB+F61G4XlJAAAAAAAAA+H8AAAAAAAD4fwAAAAAAAPh/4XoUrkfxUkDXo3A9CvdSQClcj8L16FJAcT0K16MAU0CamZmZmQlTQPYoXI/CBVNAFK5H4XoEU0CamZmZmQlTQFyPwvUoDFNAH4XrUbgOU0D2KFyPwhVTQM3MzMzMHFNAcT0K16MgU0CPwvUoXA9TQIXrUbgeFVNAexSuR+EKU0CPwvUoXB9TQIXrUbgeFVNA4XoUrkcRU0AfhetRuC5TQKRwPQrXM1NA7FG4HoUrU0CPwvUoXB9TQAAAAAAAAPh/AAAAAAAA+H8AAAAAAAD4f3E9CtejgFNAXI/C9ShsU0DXo3A9CmdTQI/C9ShcX1NAMzMzMzNjU0B7FK5H4YpTQA==",
          "dtype": "f8"
         },
         "yaxis": "y"
        }
       ],
       "layout": {
        "legend": {
         "tracegroupgap": 0
        },
        "template": {
         "data": {
          "bar": [
           {
            "error_x": {
             "color": "#2a3f5f"
            },
            "error_y": {
             "color": "#2a3f5f"
            },
            "marker": {
             "line": {
              "color": "#E5ECF6",
              "width": 0.5
             },
             "pattern": {
              "fillmode": "overlay",
              "size": 10,
              "solidity": 0.2
             }
            },
            "type": "bar"
           }
          ],
          "barpolar": [
           {
            "marker": {
             "line": {
              "color": "#E5ECF6",
              "width": 0.5
             },
             "pattern": {
              "fillmode": "overlay",
              "size": 10,
              "solidity": 0.2
             }
            },
            "type": "barpolar"
           }
          ],
          "carpet": [
           {
            "aaxis": {
             "endlinecolor": "#2a3f5f",
             "gridcolor": "white",
             "linecolor": "white",
             "minorgridcolor": "white",
             "startlinecolor": "#2a3f5f"
            },
            "baxis": {
             "endlinecolor": "#2a3f5f",
             "gridcolor": "white",
             "linecolor": "white",
             "minorgridcolor": "white",
             "startlinecolor": "#2a3f5f"
            },
            "type": "carpet"
           }
          ],
          "choropleth": [
           {
            "colorbar": {
             "outlinewidth": 0,
             "ticks": ""
            },
            "type": "choropleth"
           }
          ],
          "contour": [
           {
            "colorbar": {
             "outlinewidth": 0,
             "ticks": ""
            },
            "colorscale": [
             [
              0,
              "#0d0887"
             ],
             [
              0.1111111111111111,
              "#46039f"
             ],
             [
              0.2222222222222222,
              "#7201a8"
             ],
             [
              0.3333333333333333,
              "#9c179e"
             ],
             [
              0.4444444444444444,
              "#bd3786"
             ],
             [
              0.5555555555555556,
              "#d8576b"
             ],
             [
              0.6666666666666666,
              "#ed7953"
             ],
             [
              0.7777777777777778,
              "#fb9f3a"
             ],
             [
              0.8888888888888888,
              "#fdca26"
             ],
             [
              1,
              "#f0f921"
             ]
            ],
            "type": "contour"
           }
          ],
          "contourcarpet": [
           {
            "colorbar": {
             "outlinewidth": 0,
             "ticks": ""
            },
            "type": "contourcarpet"
           }
          ],
          "heatmap": [
           {
            "colorbar": {
             "outlinewidth": 0,
             "ticks": ""
            },
            "colorscale": [
             [
              0,
              "#0d0887"
             ],
             [
              0.1111111111111111,
              "#46039f"
             ],
             [
              0.2222222222222222,
              "#7201a8"
             ],
             [
              0.3333333333333333,
              "#9c179e"
             ],
             [
              0.4444444444444444,
              "#bd3786"
             ],
             [
              0.5555555555555556,
              "#d8576b"
             ],
             [
              0.6666666666666666,
              "#ed7953"
             ],
             [
              0.7777777777777778,
              "#fb9f3a"
             ],
             [
              0.8888888888888888,
              "#fdca26"
             ],
             [
              1,
              "#f0f921"
             ]
            ],
            "type": "heatmap"
           }
          ],
          "histogram": [
           {
            "marker": {
             "pattern": {
              "fillmode": "overlay",
              "size": 10,
              "solidity": 0.2
             }
            },
            "type": "histogram"
           }
          ],
          "histogram2d": [
           {
            "colorbar": {
             "outlinewidth": 0,
             "ticks": ""
            },
            "colorscale": [
             [
              0,
              "#0d0887"
             ],
             [
              0.1111111111111111,
              "#46039f"
             ],
             [
              0.2222222222222222,
              "#7201a8"
             ],
             [
              0.3333333333333333,
              "#9c179e"
             ],
             [
              0.4444444444444444,
              "#bd3786"
             ],
             [
              0.5555555555555556,
              "#d8576b"
             ],
             [
              0.6666666666666666,
              "#ed7953"
             ],
             [
              0.7777777777777778,
              "#fb9f3a"
             ],
             [
              0.8888888888888888,
              "#fdca26"
             ],
             [
              1,
              "#f0f921"
             ]
            ],
            "type": "histogram2d"
           }
          ],
          "histogram2dcontour": [
           {
            "colorbar": {
             "outlinewidth": 0,
             "ticks": ""
            },
            "colorscale": [
             [
              0,
              "#0d0887"
             ],
             [
              0.1111111111111111,
              "#46039f"
             ],
             [
              0.2222222222222222,
              "#7201a8"
             ],
             [
              0.3333333333333333,
              "#9c179e"
             ],
             [
              0.4444444444444444,
              "#bd3786"
             ],
             [
              0.5555555555555556,
              "#d8576b"
             ],
             [
              0.6666666666666666,
              "#ed7953"
             ],
             [
              0.7777777777777778,
              "#fb9f3a"
             ],
             [
              0.8888888888888888,
              "#fdca26"
             ],
             [
              1,
              "#f0f921"
             ]
            ],
            "type": "histogram2dcontour"
           }
          ],
          "mesh3d": [
           {
            "colorbar": {
             "outlinewidth": 0,
             "ticks": ""
            },
            "type": "mesh3d"
           }
          ],
          "parcoords": [
           {
            "line": {
             "colorbar": {
              "outlinewidth": 0,
              "ticks": ""
             }
            },
            "type": "parcoords"
           }
          ],
          "pie": [
           {
            "automargin": true,
            "type": "pie"
           }
          ],
          "scatter": [
           {
            "fillpattern": {
             "fillmode": "overlay",
             "size": 10,
             "solidity": 0.2
            },
            "type": "scatter"
           }
          ],
          "scatter3d": [
           {
            "line": {
             "colorbar": {
              "outlinewidth": 0,
              "ticks": ""
             }
            },
            "marker": {
             "colorbar": {
              "outlinewidth": 0,
              "ticks": ""
             }
            },
            "type": "scatter3d"
           }
          ],
          "scattercarpet": [
           {
            "marker": {
             "colorbar": {
              "outlinewidth": 0,
              "ticks": ""
             }
            },
            "type": "scattercarpet"
           }
          ],
          "scattergeo": [
           {
            "marker": {
             "colorbar": {
              "outlinewidth": 0,
              "ticks": ""
             }
            },
            "type": "scattergeo"
           }
          ],
          "scattergl": [
           {
            "marker": {
             "colorbar": {
              "outlinewidth": 0,
              "ticks": ""
             }
            },
            "type": "scattergl"
           }
          ],
          "scattermap": [
           {
            "marker": {
             "colorbar": {
              "outlinewidth": 0,
              "ticks": ""
             }
            },
            "type": "scattermap"
           }
          ],
          "scattermapbox": [
           {
            "marker": {
             "colorbar": {
              "outlinewidth": 0,
              "ticks": ""
             }
            },
            "type": "scattermapbox"
           }
          ],
          "scatterpolar": [
           {
            "marker": {
             "colorbar": {
              "outlinewidth": 0,
              "ticks": ""
             }
            },
            "type": "scatterpolar"
           }
          ],
          "scatterpolargl": [
           {
            "marker": {
             "colorbar": {
              "outlinewidth": 0,
              "ticks": ""
             }
            },
            "type": "scatterpolargl"
           }
          ],
          "scatterternary": [
           {
            "marker": {
             "colorbar": {
              "outlinewidth": 0,
              "ticks": ""
             }
            },
            "type": "scatterternary"
           }
          ],
          "surface": [
           {
            "colorbar": {
             "outlinewidth": 0,
             "ticks": ""
            },
            "colorscale": [
             [
              0,
              "#0d0887"
             ],
             [
              0.1111111111111111,
              "#46039f"
             ],
             [
              0.2222222222222222,
              "#7201a8"
             ],
             [
              0.3333333333333333,
              "#9c179e"
             ],
             [
              0.4444444444444444,
              "#bd3786"
             ],
             [
              0.5555555555555556,
              "#d8576b"
             ],
             [
              0.6666666666666666,
              "#ed7953"
             ],
             [
              0.7777777777777778,
              "#fb9f3a"
             ],
             [
              0.8888888888888888,
              "#fdca26"
             ],
             [
              1,
              "#f0f921"
             ]
            ],
            "type": "surface"
           }
          ],
          "table": [
           {
            "cells": {
             "fill": {
              "color": "#EBF0F8"
             },
             "line": {
              "color": "white"
             }
            },
            "header": {
             "fill": {
              "color": "#C8D4E3"
             },
             "line": {
              "color": "white"
             }
            },
            "type": "table"
           }
          ]
         },
         "layout": {
          "annotationdefaults": {
           "arrowcolor": "#2a3f5f",
           "arrowhead": 0,
           "arrowwidth": 1
          },
          "autotypenumbers": "strict",
          "coloraxis": {
           "colorbar": {
            "outlinewidth": 0,
            "ticks": ""
           }
          },
          "colorscale": {
           "diverging": [
            [
             0,
             "#8e0152"
            ],
            [
             0.1,
             "#c51b7d"
            ],
            [
             0.2,
             "#de77ae"
            ],
            [
             0.3,
             "#f1b6da"
            ],
            [
             0.4,
             "#fde0ef"
            ],
            [
             0.5,
             "#f7f7f7"
            ],
            [
             0.6,
             "#e6f5d0"
            ],
            [
             0.7,
             "#b8e186"
            ],
            [
             0.8,
             "#7fbc41"
            ],
            [
             0.9,
             "#4d9221"
            ],
            [
             1,
             "#276419"
            ]
           ],
           "sequential": [
            [
             0,
             "#0d0887"
            ],
            [
             0.1111111111111111,
             "#46039f"
            ],
            [
             0.2222222222222222,
             "#7201a8"
            ],
            [
             0.3333333333333333,
             "#9c179e"
            ],
            [
             0.4444444444444444,
             "#bd3786"
            ],
            [
             0.5555555555555556,
             "#d8576b"
            ],
            [
             0.6666666666666666,
             "#ed7953"
            ],
            [
             0.7777777777777778,
             "#fb9f3a"
            ],
            [
             0.8888888888888888,
             "#fdca26"
            ],
            [
             1,
             "#f0f921"
            ]
           ],
           "sequentialminus": [
            [
             0,
             "#0d0887"
            ],
            [
             0.1111111111111111,
             "#46039f"
            ],
            [
             0.2222222222222222,
             "#7201a8"
            ],
            [
             0.3333333333333333,
             "#9c179e"
            ],
            [
             0.4444444444444444,
             "#bd3786"
            ],
            [
             0.5555555555555556,
             "#d8576b"
            ],
            [
             0.6666666666666666,
             "#ed7953"
            ],
            [
             0.7777777777777778,
             "#fb9f3a"
            ],
            [
             0.8888888888888888,
             "#fdca26"
            ],
            [
             1,
             "#f0f921"
            ]
           ]
          },
          "colorway": [
           "#636efa",
           "#EF553B",
           "#00cc96",
           "#ab63fa",
           "#FFA15A",
           "#19d3f3",
           "#FF6692",
           "#B6E880",
           "#FF97FF",
           "#FECB52"
          ],
          "font": {
           "color": "#2a3f5f"
          },
          "geo": {
           "bgcolor": "white",
           "lakecolor": "white",
           "landcolor": "#E5ECF6",
           "showlakes": true,
           "showland": true,
           "subunitcolor": "white"
          },
          "hoverlabel": {
           "align": "left"
          },
          "hovermode": "closest",
          "mapbox": {
           "style": "light"
          },
          "paper_bgcolor": "white",
          "plot_bgcolor": "#E5ECF6",
          "polar": {
           "angularaxis": {
            "gridcolor": "white",
            "linecolor": "white",
            "ticks": ""
           },
           "bgcolor": "#E5ECF6",
           "radialaxis": {
            "gridcolor": "white",
            "linecolor": "white",
            "ticks": ""
           }
          },
          "scene": {
           "xaxis": {
            "backgroundcolor": "#E5ECF6",
            "gridcolor": "white",
            "gridwidth": 2,
            "linecolor": "white",
            "showbackground": true,
            "ticks": "",
            "zerolinecolor": "white"
           },
           "yaxis": {
            "backgroundcolor": "#E5ECF6",
            "gridcolor": "white",
            "gridwidth": 2,
            "linecolor": "white",
            "showbackground": true,
            "ticks": "",
            "zerolinecolor": "white"
           },
           "zaxis": {
            "backgroundcolor": "#E5ECF6",
            "gridcolor": "white",
            "gridwidth": 2,
            "linecolor": "white",
            "showbackground": true,
            "ticks": "",
            "zerolinecolor": "white"
           }
          },
          "shapedefaults": {
           "line": {
            "color": "#2a3f5f"
           }
          },
          "ternary": {
           "aaxis": {
            "gridcolor": "white",
            "linecolor": "white",
            "ticks": ""
           },
           "baxis": {
            "gridcolor": "white",
            "linecolor": "white",
            "ticks": ""
           },
           "bgcolor": "#E5ECF6",
           "caxis": {
            "gridcolor": "white",
            "linecolor": "white",
            "ticks": ""
           }
          },
          "title": {
           "x": 0.05
          },
          "xaxis": {
           "automargin": true,
           "gridcolor": "white",
           "linecolor": "white",
           "ticks": "",
           "title": {
            "standoff": 15
           },
           "zerolinecolor": "white",
           "zerolinewidth": 2
          },
          "yaxis": {
           "automargin": true,
           "gridcolor": "white",
           "linecolor": "white",
           "ticks": "",
           "title": {
            "standoff": 15
           },
           "zerolinecolor": "white",
           "zerolinewidth": 2
          }
         }
        },
        "title": {
         "text": "Body Weight Over Time"
        },
        "xaxis": {
         "anchor": "y",
         "domain": [
          0,
          1
         ],
         "title": {
          "text": "Date"
         }
        },
        "yaxis": {
         "anchor": "x",
         "domain": [
          0,
          1
         ],
         "title": {
          "text": "Body Weight (Kg)"
         }
        }
       }
      }
     },
     "metadata": {},
     "output_type": "display_data"
    }
   ],
   "source": [
    "#line chart for the weight column with nice axis labels\n",
    "\n",
    "fig = px.line(fitness_data, x = 'date', y = 'body_weight_kg', title = 'Body Weight Over Time')\n",
    "fig.update_layout(\n",
    "    xaxis_title = 'Date',\n",
    "    yaxis_title = 'Body Weight (Kg)'\n",
    ")\n",
    "\n",
    "fig.show()"
   ]
  },
  {
   "cell_type": "markdown",
   "id": "563c173a",
   "metadata": {},
   "source": [
    "**Visualizing trends across multiple variables**"
   ]
  },
  {
   "cell_type": "code",
   "execution_count": 71,
   "id": "18ffd166",
   "metadata": {},
   "outputs": [
    {
     "data": {
      "application/vnd.plotly.v1+json": {
       "config": {
        "plotlyServerURL": "https://plot.ly"
       },
       "data": [
        {
         "hovertemplate": "variable=sleep_hours<br>date=%{x}<br>value=%{y}<extra></extra>",
         "legendgroup": "sleep_hours",
         "line": {
          "color": "#636efa",
          "dash": "solid"
         },
         "marker": {
          "symbol": "circle"
         },
         "mode": "lines",
         "name": "sleep_hours",
         "orientation": "v",
         "showlegend": true,
         "type": "scatter",
         "x": [
          "2024-07-01T00:00:00.000000000",
          "2024-07-02T00:00:00.000000000",
          "2024-07-03T00:00:00.000000000",
          "2024-07-04T00:00:00.000000000",
          "2024-07-05T00:00:00.000000000",
          "2024-07-06T00:00:00.000000000",
          "2024-07-07T00:00:00.000000000",
          "2024-07-08T00:00:00.000000000",
          "2024-07-09T00:00:00.000000000",
          "2024-07-10T00:00:00.000000000",
          "2024-07-11T00:00:00.000000000",
          "2024-07-12T00:00:00.000000000",
          "2024-07-13T00:00:00.000000000",
          "2024-07-14T00:00:00.000000000",
          "2024-07-15T00:00:00.000000000",
          "2024-07-16T00:00:00.000000000",
          "2024-07-17T00:00:00.000000000",
          "2024-07-18T00:00:00.000000000",
          "2024-07-19T00:00:00.000000000",
          "2024-07-20T00:00:00.000000000",
          "2024-07-21T00:00:00.000000000",
          "2024-07-22T00:00:00.000000000",
          "2024-07-23T00:00:00.000000000",
          "2024-07-24T00:00:00.000000000",
          "2024-07-25T00:00:00.000000000",
          "2024-07-26T00:00:00.000000000",
          "2024-07-27T00:00:00.000000000",
          "2024-07-28T00:00:00.000000000",
          "2024-07-29T00:00:00.000000000",
          "2024-07-30T00:00:00.000000000",
          "2024-07-31T00:00:00.000000000",
          "2024-08-01T00:00:00.000000000",
          "2024-08-02T00:00:00.000000000",
          "2024-08-03T00:00:00.000000000",
          "2024-08-04T00:00:00.000000000",
          "2024-08-05T00:00:00.000000000",
          "2024-08-06T00:00:00.000000000",
          "2024-08-07T00:00:00.000000000",
          "2024-08-08T00:00:00.000000000",
          "2024-08-09T00:00:00.000000000",
          "2024-08-10T00:00:00.000000000",
          "2024-08-11T00:00:00.000000000",
          "2024-08-12T00:00:00.000000000",
          "2024-08-13T00:00:00.000000000",
          "2024-08-14T00:00:00.000000000",
          "2024-08-15T00:00:00.000000000",
          "2024-08-16T00:00:00.000000000",
          "2024-08-17T00:00:00.000000000",
          "2024-08-18T00:00:00.000000000",
          "2024-08-19T00:00:00.000000000",
          "2024-08-20T00:00:00.000000000",
          "2024-08-21T00:00:00.000000000",
          "2024-08-22T00:00:00.000000000",
          "2024-08-23T00:00:00.000000000",
          "2024-08-24T00:00:00.000000000",
          "2024-08-25T00:00:00.000000000",
          "2024-08-26T00:00:00.000000000",
          "2024-08-27T00:00:00.000000000",
          "2024-08-28T00:00:00.000000000",
          "2024-08-29T00:00:00.000000000",
          "2024-08-30T00:00:00.000000000",
          "2024-08-31T00:00:00.000000000",
          "2024-09-01T00:00:00.000000000",
          "2024-09-02T00:00:00.000000000",
          "2024-09-03T00:00:00.000000000",
          "2024-09-04T00:00:00.000000000",
          "2024-09-05T00:00:00.000000000",
          "2024-09-06T00:00:00.000000000",
          "2024-09-07T00:00:00.000000000",
          "2024-09-08T00:00:00.000000000",
          "2024-09-09T00:00:00.000000000",
          "2024-09-10T00:00:00.000000000",
          "2024-09-11T00:00:00.000000000",
          "2024-09-12T00:00:00.000000000",
          "2024-09-13T00:00:00.000000000",
          "2024-09-14T00:00:00.000000000",
          "2024-09-15T00:00:00.000000000",
          "2024-09-16T00:00:00.000000000",
          "2024-09-17T00:00:00.000000000",
          "2024-09-18T00:00:00.000000000",
          "2024-09-19T00:00:00.000000000",
          "2024-09-20T00:00:00.000000000",
          "2024-09-21T00:00:00.000000000",
          "2024-09-22T00:00:00.000000000",
          "2024-09-23T00:00:00.000000000",
          "2024-09-24T00:00:00.000000000",
          "2024-09-25T00:00:00.000000000",
          "2024-09-26T00:00:00.000000000",
          "2024-09-27T00:00:00.000000000",
          "2024-09-28T00:00:00.000000000",
          "2024-09-29T00:00:00.000000000",
          "2024-09-30T00:00:00.000000000",
          "2024-10-01T00:00:00.000000000",
          "2024-10-02T00:00:00.000000000",
          "2024-10-03T00:00:00.000000000",
          "2024-10-04T00:00:00.000000000",
          "2024-10-05T00:00:00.000000000",
          "2024-10-06T00:00:00.000000000",
          "2024-10-07T00:00:00.000000000",
          "2024-10-08T00:00:00.000000000",
          "2024-10-09T00:00:00.000000000",
          "2024-10-10T00:00:00.000000000",
          "2024-10-11T00:00:00.000000000",
          "2024-10-12T00:00:00.000000000",
          "2024-10-13T00:00:00.000000000",
          "2024-10-14T00:00:00.000000000",
          "2024-10-15T00:00:00.000000000",
          "2024-10-16T00:00:00.000000000",
          "2024-10-17T00:00:00.000000000",
          "2024-10-18T00:00:00.000000000",
          "2024-10-19T00:00:00.000000000",
          "2024-10-20T00:00:00.000000000",
          "2024-10-21T00:00:00.000000000",
          "2024-10-22T00:00:00.000000000",
          "2024-10-23T00:00:00.000000000",
          "2024-10-24T00:00:00.000000000",
          "2024-10-25T00:00:00.000000000",
          "2024-10-26T00:00:00.000000000",
          "2024-10-27T00:00:00.000000000",
          "2024-10-28T00:00:00.000000000",
          "2024-10-29T00:00:00.000000000",
          "2024-10-30T00:00:00.000000000",
          "2024-10-31T00:00:00.000000000",
          "2024-11-01T00:00:00.000000000",
          "2024-11-02T00:00:00.000000000",
          "2024-11-03T00:00:00.000000000",
          "2024-11-04T00:00:00.000000000",
          "2024-11-05T00:00:00.000000000",
          "2024-11-06T00:00:00.000000000",
          "2024-11-07T00:00:00.000000000",
          "2024-11-08T00:00:00.000000000",
          "2024-11-09T00:00:00.000000000",
          "2024-11-10T00:00:00.000000000",
          "2024-11-11T00:00:00.000000000",
          "2024-11-12T00:00:00.000000000",
          "2024-11-13T00:00:00.000000000",
          "2024-11-14T00:00:00.000000000",
          "2024-11-15T00:00:00.000000000",
          "2024-11-16T00:00:00.000000000",
          "2024-11-17T00:00:00.000000000",
          "2024-11-18T00:00:00.000000000",
          "2024-11-19T00:00:00.000000000",
          "2024-11-20T00:00:00.000000000",
          "2024-11-21T00:00:00.000000000",
          "2024-11-22T00:00:00.000000000",
          "2024-11-23T00:00:00.000000000",
          "2024-11-24T00:00:00.000000000",
          "2024-11-25T00:00:00.000000000",
          "2024-11-26T00:00:00.000000000",
          "2024-11-27T00:00:00.000000000",
          "2024-11-28T00:00:00.000000000",
          "2024-11-29T00:00:00.000000000",
          "2024-11-30T00:00:00.000000000",
          "2024-12-01T00:00:00.000000000",
          "2024-12-02T00:00:00.000000000",
          "2024-12-03T00:00:00.000000000",
          "2024-12-04T00:00:00.000000000",
          "2024-12-05T00:00:00.000000000",
          "2024-12-06T00:00:00.000000000",
          "2024-12-07T00:00:00.000000000",
          "2024-12-08T00:00:00.000000000",
          "2024-12-09T00:00:00.000000000",
          "2024-12-10T00:00:00.000000000",
          "2024-12-11T00:00:00.000000000",
          "2024-12-12T00:00:00.000000000",
          "2024-12-13T00:00:00.000000000",
          "2024-12-14T00:00:00.000000000",
          "2024-12-15T00:00:00.000000000",
          "2024-12-16T00:00:00.000000000",
          "2024-12-17T00:00:00.000000000",
          "2024-12-18T00:00:00.000000000",
          "2024-12-19T00:00:00.000000000",
          "2024-12-20T00:00:00.000000000",
          "2024-12-21T00:00:00.000000000",
          "2024-12-22T00:00:00.000000000",
          "2024-12-23T00:00:00.000000000",
          "2024-12-24T00:00:00.000000000",
          "2024-12-25T00:00:00.000000000",
          "2024-12-26T00:00:00.000000000",
          "2024-12-27T00:00:00.000000000",
          "2024-12-28T00:00:00.000000000",
          "2024-12-29T00:00:00.000000000",
          "2024-12-30T00:00:00.000000000",
          "2024-12-31T00:00:00.000000000",
          "2025-01-01T00:00:00.000000000"
         ],
         "xaxis": "x",
         "y": {
          "bdata": "H4XrUbgeHEBmZmZmZmYfQB+F61G4Hh5AhetRuB6FEkCF61G4HoUVQBSuR+F6FCBA4XoUrkfhIkBcj8L1KFwaQArXo3A9CiBAPQrXo3C9IUAK55Xe/JMfQOF6FK5H4RhApHA9CtejHEC4HoXrUbghQHE9Ctej8CBASOF6FK7HIUBI4XoUrkceQBSuR+F6FB5AKVyPwvUoGEDsUbgehesdQJqZmZmZGSBA8npwmHnBG0DXo3A9CtcfQJqZmZmZGSBAhetRuB4FIEDNzMzMzMwXQKRwPQrXox9APQrXo3A9IkDhehSuR+EdQNejcD0K1x9Aw/UoXI/CHEDXo3A9CtcfQM4PWvlN9BlAAAAAAAAAH0BI4XoUrsciQD0K16NwPSBAYFKYpEFNG0BI4XoUrkcfQBSuR+F6FBpACtejcD0KGECkcD0K16MaQPYoXI/C9SFAuB6F61G4HkBSuB6F61EfQFK4HoXrUR5ASOF6FK5HH0DNzMzMzMwVQIXrUbgehRtAuB6F61E4I0CamZmZmZkbQAAAAAAAAB1AKVyPwvUoIUAUrkfhehQdQG8y1eCg+BpAH4XrUbgeGkAzMzMzM7MhQB+F61G4Hh9ArkfhehSuHUD2KFyPwvUgQEjhehSuRxxA9ihcj8L1GEDsUbgehescQEjhehSuRyFApHA9CtejHkDD9Shcj8IZQFK4HoXrUR1AzczMzMzMHkApXI/C9SgUQLgehetRuB5ArkfhehQuIEBcj8L1KFwfQFspnI4UlSBA9ihcj8L1HkCddjfkYXYeQKRwPQrXoxZAFLIfGaJIHkAzMzMzMzMgQJqZmZmZmR9AmpmZmZmZHECkcD0K16MfQHE9CtejcBxAKVyPwvUoFUBcj8L1KFweQFK4HoXrUSFAhetRuB6FH0AUrkfhehQhQKRwPQrXox9AcT0K16NwH0A9CtejcD0ZQKRwPQrXoxtAS/4jjGsAHkDNzMzMzMwfQLgehetRuBxA4XoUrkfhHkDNzMzMzMwcQIXrUbgehRlACtejcD0KHkB7FK5H4XohQJqZmZmZmSBAmpmZmZmZHUCF61G4HoUaQIXrUbgehR1AMzMzMzMzF0BSuB6F61EdQHsUrkfh+iBAZmZmZmZmHEAayzP7+7UfQJqZmZmZmRpA7FG4HoXrHkAK16NwPQoVQFyPwvUoXCBASOF6FK7HIkDXo3A9CtcfQM3MzMzMzBxAd4ZXSDWGHECtrZieQAIgQD0K16NwPRdA16NwPQrXG0Bcj8L1KFwiQClcj8L1KB9AmpmZmZmZHECF61G4HoUfQM3MzMzMzBpAMzMzMzMzGUDD9Shcj8IfQK5H4XoULiNAH4XrUbgeH0DNzMzMzMwdQK5H4XoUrh5Aj8L1KFyPHUDsH1fcKpggQArXo3A9CiFAKVyPwvWoIUApXI/C9SgdQBSuR+F6FB5ASOF6FK5HHUAzMzMzMzMbQM3MzMzMzBVA9SG9xsEmIEAUrkfhepQiQArXo3A9iiBAXI/C9ShcH0C4HoXrUTghQMP1KFyPwh1AhetRuB6FF0DhehSuR+EfQLq5MRqOsyBAH4XrUbgeIECPwvUoXI8cQK/k2+dKoCBAAAAAAAAA+H8AAAAAAAD4fwAAAAAAAPh/CtejcD0KIkA9CtejcD0dQIXrUbgehR9AFK5H4XoUIEBSuB6F69EgQK5H4XoUrhlAj8L1KFyPG0A9CtejcD0jQM3MzMzMzCBAexSuR+F6HUAfhetRuB4dQLgehetRuB1AAAAAAAAAFkBI4XoUrkcdQHsUrkfheiFAzczMzMzMG0CkcD0K16MdQDnbKJa9kRxASOF6FK5HG0CamZmZmZkVQJqZmZmZmR1ASOF6FK5HIUB7FK5H4fogQAAAAAAAAPh/AAAAAAAA+H8AAAAAAAD4f2ZmZmZm5iJAj8L1KFyPI0AzMzMzMzMaQArXo3A9CiBASOF6FK5HEkBcj8L1KFwJQA==",
          "dtype": "f8"
         },
         "yaxis": "y"
        },
        {
         "hovertemplate": "variable=sleep_debt<br>date=%{x}<br>value=%{y}<extra></extra>",
         "legendgroup": "sleep_debt",
         "line": {
          "color": "#EF553B",
          "dash": "solid"
         },
         "marker": {
          "symbol": "circle"
         },
         "mode": "lines",
         "name": "sleep_debt",
         "orientation": "v",
         "showlegend": true,
         "type": "scatter",
         "x": [
          "2024-07-01T00:00:00.000000000",
          "2024-07-02T00:00:00.000000000",
          "2024-07-03T00:00:00.000000000",
          "2024-07-04T00:00:00.000000000",
          "2024-07-05T00:00:00.000000000",
          "2024-07-06T00:00:00.000000000",
          "2024-07-07T00:00:00.000000000",
          "2024-07-08T00:00:00.000000000",
          "2024-07-09T00:00:00.000000000",
          "2024-07-10T00:00:00.000000000",
          "2024-07-11T00:00:00.000000000",
          "2024-07-12T00:00:00.000000000",
          "2024-07-13T00:00:00.000000000",
          "2024-07-14T00:00:00.000000000",
          "2024-07-15T00:00:00.000000000",
          "2024-07-16T00:00:00.000000000",
          "2024-07-17T00:00:00.000000000",
          "2024-07-18T00:00:00.000000000",
          "2024-07-19T00:00:00.000000000",
          "2024-07-20T00:00:00.000000000",
          "2024-07-21T00:00:00.000000000",
          "2024-07-22T00:00:00.000000000",
          "2024-07-23T00:00:00.000000000",
          "2024-07-24T00:00:00.000000000",
          "2024-07-25T00:00:00.000000000",
          "2024-07-26T00:00:00.000000000",
          "2024-07-27T00:00:00.000000000",
          "2024-07-28T00:00:00.000000000",
          "2024-07-29T00:00:00.000000000",
          "2024-07-30T00:00:00.000000000",
          "2024-07-31T00:00:00.000000000",
          "2024-08-01T00:00:00.000000000",
          "2024-08-02T00:00:00.000000000",
          "2024-08-03T00:00:00.000000000",
          "2024-08-04T00:00:00.000000000",
          "2024-08-05T00:00:00.000000000",
          "2024-08-06T00:00:00.000000000",
          "2024-08-07T00:00:00.000000000",
          "2024-08-08T00:00:00.000000000",
          "2024-08-09T00:00:00.000000000",
          "2024-08-10T00:00:00.000000000",
          "2024-08-11T00:00:00.000000000",
          "2024-08-12T00:00:00.000000000",
          "2024-08-13T00:00:00.000000000",
          "2024-08-14T00:00:00.000000000",
          "2024-08-15T00:00:00.000000000",
          "2024-08-16T00:00:00.000000000",
          "2024-08-17T00:00:00.000000000",
          "2024-08-18T00:00:00.000000000",
          "2024-08-19T00:00:00.000000000",
          "2024-08-20T00:00:00.000000000",
          "2024-08-21T00:00:00.000000000",
          "2024-08-22T00:00:00.000000000",
          "2024-08-23T00:00:00.000000000",
          "2024-08-24T00:00:00.000000000",
          "2024-08-25T00:00:00.000000000",
          "2024-08-26T00:00:00.000000000",
          "2024-08-27T00:00:00.000000000",
          "2024-08-28T00:00:00.000000000",
          "2024-08-29T00:00:00.000000000",
          "2024-08-30T00:00:00.000000000",
          "2024-08-31T00:00:00.000000000",
          "2024-09-01T00:00:00.000000000",
          "2024-09-02T00:00:00.000000000",
          "2024-09-03T00:00:00.000000000",
          "2024-09-04T00:00:00.000000000",
          "2024-09-05T00:00:00.000000000",
          "2024-09-06T00:00:00.000000000",
          "2024-09-07T00:00:00.000000000",
          "2024-09-08T00:00:00.000000000",
          "2024-09-09T00:00:00.000000000",
          "2024-09-10T00:00:00.000000000",
          "2024-09-11T00:00:00.000000000",
          "2024-09-12T00:00:00.000000000",
          "2024-09-13T00:00:00.000000000",
          "2024-09-14T00:00:00.000000000",
          "2024-09-15T00:00:00.000000000",
          "2024-09-16T00:00:00.000000000",
          "2024-09-17T00:00:00.000000000",
          "2024-09-18T00:00:00.000000000",
          "2024-09-19T00:00:00.000000000",
          "2024-09-20T00:00:00.000000000",
          "2024-09-21T00:00:00.000000000",
          "2024-09-22T00:00:00.000000000",
          "2024-09-23T00:00:00.000000000",
          "2024-09-24T00:00:00.000000000",
          "2024-09-25T00:00:00.000000000",
          "2024-09-26T00:00:00.000000000",
          "2024-09-27T00:00:00.000000000",
          "2024-09-28T00:00:00.000000000",
          "2024-09-29T00:00:00.000000000",
          "2024-09-30T00:00:00.000000000",
          "2024-10-01T00:00:00.000000000",
          "2024-10-02T00:00:00.000000000",
          "2024-10-03T00:00:00.000000000",
          "2024-10-04T00:00:00.000000000",
          "2024-10-05T00:00:00.000000000",
          "2024-10-06T00:00:00.000000000",
          "2024-10-07T00:00:00.000000000",
          "2024-10-08T00:00:00.000000000",
          "2024-10-09T00:00:00.000000000",
          "2024-10-10T00:00:00.000000000",
          "2024-10-11T00:00:00.000000000",
          "2024-10-12T00:00:00.000000000",
          "2024-10-13T00:00:00.000000000",
          "2024-10-14T00:00:00.000000000",
          "2024-10-15T00:00:00.000000000",
          "2024-10-16T00:00:00.000000000",
          "2024-10-17T00:00:00.000000000",
          "2024-10-18T00:00:00.000000000",
          "2024-10-19T00:00:00.000000000",
          "2024-10-20T00:00:00.000000000",
          "2024-10-21T00:00:00.000000000",
          "2024-10-22T00:00:00.000000000",
          "2024-10-23T00:00:00.000000000",
          "2024-10-24T00:00:00.000000000",
          "2024-10-25T00:00:00.000000000",
          "2024-10-26T00:00:00.000000000",
          "2024-10-27T00:00:00.000000000",
          "2024-10-28T00:00:00.000000000",
          "2024-10-29T00:00:00.000000000",
          "2024-10-30T00:00:00.000000000",
          "2024-10-31T00:00:00.000000000",
          "2024-11-01T00:00:00.000000000",
          "2024-11-02T00:00:00.000000000",
          "2024-11-03T00:00:00.000000000",
          "2024-11-04T00:00:00.000000000",
          "2024-11-05T00:00:00.000000000",
          "2024-11-06T00:00:00.000000000",
          "2024-11-07T00:00:00.000000000",
          "2024-11-08T00:00:00.000000000",
          "2024-11-09T00:00:00.000000000",
          "2024-11-10T00:00:00.000000000",
          "2024-11-11T00:00:00.000000000",
          "2024-11-12T00:00:00.000000000",
          "2024-11-13T00:00:00.000000000",
          "2024-11-14T00:00:00.000000000",
          "2024-11-15T00:00:00.000000000",
          "2024-11-16T00:00:00.000000000",
          "2024-11-17T00:00:00.000000000",
          "2024-11-18T00:00:00.000000000",
          "2024-11-19T00:00:00.000000000",
          "2024-11-20T00:00:00.000000000",
          "2024-11-21T00:00:00.000000000",
          "2024-11-22T00:00:00.000000000",
          "2024-11-23T00:00:00.000000000",
          "2024-11-24T00:00:00.000000000",
          "2024-11-25T00:00:00.000000000",
          "2024-11-26T00:00:00.000000000",
          "2024-11-27T00:00:00.000000000",
          "2024-11-28T00:00:00.000000000",
          "2024-11-29T00:00:00.000000000",
          "2024-11-30T00:00:00.000000000",
          "2024-12-01T00:00:00.000000000",
          "2024-12-02T00:00:00.000000000",
          "2024-12-03T00:00:00.000000000",
          "2024-12-04T00:00:00.000000000",
          "2024-12-05T00:00:00.000000000",
          "2024-12-06T00:00:00.000000000",
          "2024-12-07T00:00:00.000000000",
          "2024-12-08T00:00:00.000000000",
          "2024-12-09T00:00:00.000000000",
          "2024-12-10T00:00:00.000000000",
          "2024-12-11T00:00:00.000000000",
          "2024-12-12T00:00:00.000000000",
          "2024-12-13T00:00:00.000000000",
          "2024-12-14T00:00:00.000000000",
          "2024-12-15T00:00:00.000000000",
          "2024-12-16T00:00:00.000000000",
          "2024-12-17T00:00:00.000000000",
          "2024-12-18T00:00:00.000000000",
          "2024-12-19T00:00:00.000000000",
          "2024-12-20T00:00:00.000000000",
          "2024-12-21T00:00:00.000000000",
          "2024-12-22T00:00:00.000000000",
          "2024-12-23T00:00:00.000000000",
          "2024-12-24T00:00:00.000000000",
          "2024-12-25T00:00:00.000000000",
          "2024-12-26T00:00:00.000000000",
          "2024-12-27T00:00:00.000000000",
          "2024-12-28T00:00:00.000000000",
          "2024-12-29T00:00:00.000000000",
          "2024-12-30T00:00:00.000000000",
          "2024-12-31T00:00:00.000000000",
          "2025-01-01T00:00:00.000000000"
         ],
         "xaxis": "x",
         "y": {
          "bdata": "EK5H4XoU3r9gZmZmZmbWPwAfhetRuJ4/9ihcj8L1BsD2KFyPwvUAwEDhehSuR+E/CNejcD0K/z8ghetRuB7tv6BwPQrXo+A/6FG4HoXr9T+gcF7pzT/ZP3wUrkfhevS/wPUoXI/C1b/A9Shcj8L1PxDXo3A9Cu8/QArXo3A99j8AUrgeheuxPwAUrkfhepQ/XI/C9Shc978AFK5H4XqUv6CZmZmZmeE/cCh8PDP04b9wPQrXo3DdP6CZmZmZmeE/ULgehetR4D/MzMzMzMz4v0AK16NwPdo/6FG4HoXr+T8AH4XrUbiev3A9CtejcN0/0KNwPQrX079wPQrXo3DdP8jAlxrILvC/AAAAAAAA0D9ACtejcD3+P9CjcD0K1+M/AG092/KV5b+AFK5H4XrUP2CPwvUoXO+/2KNwPQrX97/gehSuR+Hqv7BH4XoUrvc/ANejcD0Kxz8ghetRuB7VP4AUrkfherQ/gBSuR+F61D9mZmZmZmYAwNijcD0K1+O/4HoUrkfhAEAwMzMzMzPjvwAAAAAAANC/SOF6FK5H8T+APQrXo3DNv4hsVvn4Oui/CNejcD0K77+YmZmZmZn1P/BRuB6F69E/gBSuR+F6tL9gj8L1KFzvP4DrUbgehdu/KFyPwvUo9L9A4XoUrkfRv0AK16NwPfI/gBSuR+F6xD/0KFyPwvXwv8D1KFyPwsW/oJmZmZmZyT+uR+F6FK4DwADXo3A9Csc/4HoUrkfh4j/A9Shcj8LVP7CVwulIUek/wB6F61G4zj9Ap90NeZi9P3A9CtejcP2/AIXsR4Yosj8wMzMzMzPjP6CZmZmZmdk/YGZmZmZm1r9ACtejcD3aP/AoXI/C9di/rkfhehSuAcAA16NwPQq3P5DC9Shcj/I/ULgehetR2D+gcD0K16PwP0AK16NwPdo/ENejcD0K1z8M16NwPQrzv+B6FK5H4eK/AMCS/wjjOj/QzMzMzMzcP4AUrkfhetS/IFyPwvUozD8wMzMzMzPTv+xRuB6F6/G/ABSuR+F6hD/Yo3A9CtfzP6CZmZmZmek/gJmZmZmZub/Yo3A9Ctfrv8AehetRuL6/NDMzMzMz+7/A9Shcj8LFv7BH4XoUru8/oJmZmZmZ2b+gsTyzv1/bPzAzMzMzM+u/gD0K16NwzT/sUbgehesBwMD1KFyPwuU/QArXo3A9/j9wPQrXo3DdPzAzMzMzM9O/kJiHequc17/Q2orpCSTgPwzXo3A9Cvu/SOF6FK5H4b/gehSuR+H6P5DC9Shcj9I/YGZmZmZm1r9QuB6F61HYP5iZmZmZmem/NDMzMzMz878wXI/C9SjcP7gehetRuABA8FG4HoXr0T+AmZmZmZmpv8D1KFyPwsU/QFyPwvUovL/A/nHFrYLpP1C4HoXrUfA/SOF6FK5H9T/gehSuR+HKvwAUrkfhepQ/ANejcD0Kx79oZmZmZmbmv2ZmZmZmZgDAUB/Saxxs4j+gcD0K16P8P6BwPQrXo+g/wPUoXI/C1T/A9Shcj8LxP4AehetRuK6/7FG4HoXr+b8QrkfhehTeP6CbG6PhOOs/8FG4HoXr4T8Q16NwPQrXv/BKvn2uBOo/AAAAAAAA+H8AAAAAAAD4fwAAAAAAAPh/ULgehetR+D9guB6F61HIv1C4HoXrUdg/QOF6FK5H4T8ghetRuB7tP0jhehSuR/G/iOtRuB6F47/0KFyPwvUAQNDMzMzMzOw/oHA9CtejwL8gXI/C9SjMvwBSuB6F67G/AAAAAAAAAMAA16NwPQrHv9ijcD0K1/M/mJmZmZmZ4b8A16NwPQq3v3BMcp0m5Na/wPUoXI/C5b/MzMzMzMwAwICZmZmZmbm/QArXo3A98j+wR+F6FK7vPwAAAAAAAPh/AAAAAAAA+H8AAAAAAAD4fzAzMzMzM/8/PArXo3A9AkBoZmZmZmbuv6BwPQrXo+A/cD0K16NwB8BSuB6F61ERwA==",
          "dtype": "f8"
         },
         "yaxis": "y"
        },
        {
         "hovertemplate": "variable=cumulative_sleep_debt<br>date=%{x}<br>value=%{y}<extra></extra>",
         "legendgroup": "cumulative_sleep_debt",
         "line": {
          "color": "#00cc96",
          "dash": "solid"
         },
         "marker": {
          "symbol": "circle"
         },
         "mode": "lines",
         "name": "cumulative_sleep_debt",
         "orientation": "v",
         "showlegend": true,
         "type": "scatter",
         "x": [
          "2024-07-01T00:00:00.000000000",
          "2024-07-02T00:00:00.000000000",
          "2024-07-03T00:00:00.000000000",
          "2024-07-04T00:00:00.000000000",
          "2024-07-05T00:00:00.000000000",
          "2024-07-06T00:00:00.000000000",
          "2024-07-07T00:00:00.000000000",
          "2024-07-08T00:00:00.000000000",
          "2024-07-09T00:00:00.000000000",
          "2024-07-10T00:00:00.000000000",
          "2024-07-11T00:00:00.000000000",
          "2024-07-12T00:00:00.000000000",
          "2024-07-13T00:00:00.000000000",
          "2024-07-14T00:00:00.000000000",
          "2024-07-15T00:00:00.000000000",
          "2024-07-16T00:00:00.000000000",
          "2024-07-17T00:00:00.000000000",
          "2024-07-18T00:00:00.000000000",
          "2024-07-19T00:00:00.000000000",
          "2024-07-20T00:00:00.000000000",
          "2024-07-21T00:00:00.000000000",
          "2024-07-22T00:00:00.000000000",
          "2024-07-23T00:00:00.000000000",
          "2024-07-24T00:00:00.000000000",
          "2024-07-25T00:00:00.000000000",
          "2024-07-26T00:00:00.000000000",
          "2024-07-27T00:00:00.000000000",
          "2024-07-28T00:00:00.000000000",
          "2024-07-29T00:00:00.000000000",
          "2024-07-30T00:00:00.000000000",
          "2024-07-31T00:00:00.000000000",
          "2024-08-01T00:00:00.000000000",
          "2024-08-02T00:00:00.000000000",
          "2024-08-03T00:00:00.000000000",
          "2024-08-04T00:00:00.000000000",
          "2024-08-05T00:00:00.000000000",
          "2024-08-06T00:00:00.000000000",
          "2024-08-07T00:00:00.000000000",
          "2024-08-08T00:00:00.000000000",
          "2024-08-09T00:00:00.000000000",
          "2024-08-10T00:00:00.000000000",
          "2024-08-11T00:00:00.000000000",
          "2024-08-12T00:00:00.000000000",
          "2024-08-13T00:00:00.000000000",
          "2024-08-14T00:00:00.000000000",
          "2024-08-15T00:00:00.000000000",
          "2024-08-16T00:00:00.000000000",
          "2024-08-17T00:00:00.000000000",
          "2024-08-18T00:00:00.000000000",
          "2024-08-19T00:00:00.000000000",
          "2024-08-20T00:00:00.000000000",
          "2024-08-21T00:00:00.000000000",
          "2024-08-22T00:00:00.000000000",
          "2024-08-23T00:00:00.000000000",
          "2024-08-24T00:00:00.000000000",
          "2024-08-25T00:00:00.000000000",
          "2024-08-26T00:00:00.000000000",
          "2024-08-27T00:00:00.000000000",
          "2024-08-28T00:00:00.000000000",
          "2024-08-29T00:00:00.000000000",
          "2024-08-30T00:00:00.000000000",
          "2024-08-31T00:00:00.000000000",
          "2024-09-01T00:00:00.000000000",
          "2024-09-02T00:00:00.000000000",
          "2024-09-03T00:00:00.000000000",
          "2024-09-04T00:00:00.000000000",
          "2024-09-05T00:00:00.000000000",
          "2024-09-06T00:00:00.000000000",
          "2024-09-07T00:00:00.000000000",
          "2024-09-08T00:00:00.000000000",
          "2024-09-09T00:00:00.000000000",
          "2024-09-10T00:00:00.000000000",
          "2024-09-11T00:00:00.000000000",
          "2024-09-12T00:00:00.000000000",
          "2024-09-13T00:00:00.000000000",
          "2024-09-14T00:00:00.000000000",
          "2024-09-15T00:00:00.000000000",
          "2024-09-16T00:00:00.000000000",
          "2024-09-17T00:00:00.000000000",
          "2024-09-18T00:00:00.000000000",
          "2024-09-19T00:00:00.000000000",
          "2024-09-20T00:00:00.000000000",
          "2024-09-21T00:00:00.000000000",
          "2024-09-22T00:00:00.000000000",
          "2024-09-23T00:00:00.000000000",
          "2024-09-24T00:00:00.000000000",
          "2024-09-25T00:00:00.000000000",
          "2024-09-26T00:00:00.000000000",
          "2024-09-27T00:00:00.000000000",
          "2024-09-28T00:00:00.000000000",
          "2024-09-29T00:00:00.000000000",
          "2024-09-30T00:00:00.000000000",
          "2024-10-01T00:00:00.000000000",
          "2024-10-02T00:00:00.000000000",
          "2024-10-03T00:00:00.000000000",
          "2024-10-04T00:00:00.000000000",
          "2024-10-05T00:00:00.000000000",
          "2024-10-06T00:00:00.000000000",
          "2024-10-07T00:00:00.000000000",
          "2024-10-08T00:00:00.000000000",
          "2024-10-09T00:00:00.000000000",
          "2024-10-10T00:00:00.000000000",
          "2024-10-11T00:00:00.000000000",
          "2024-10-12T00:00:00.000000000",
          "2024-10-13T00:00:00.000000000",
          "2024-10-14T00:00:00.000000000",
          "2024-10-15T00:00:00.000000000",
          "2024-10-16T00:00:00.000000000",
          "2024-10-17T00:00:00.000000000",
          "2024-10-18T00:00:00.000000000",
          "2024-10-19T00:00:00.000000000",
          "2024-10-20T00:00:00.000000000",
          "2024-10-21T00:00:00.000000000",
          "2024-10-22T00:00:00.000000000",
          "2024-10-23T00:00:00.000000000",
          "2024-10-24T00:00:00.000000000",
          "2024-10-25T00:00:00.000000000",
          "2024-10-26T00:00:00.000000000",
          "2024-10-27T00:00:00.000000000",
          "2024-10-28T00:00:00.000000000",
          "2024-10-29T00:00:00.000000000",
          "2024-10-30T00:00:00.000000000",
          "2024-10-31T00:00:00.000000000",
          "2024-11-01T00:00:00.000000000",
          "2024-11-02T00:00:00.000000000",
          "2024-11-03T00:00:00.000000000",
          "2024-11-04T00:00:00.000000000",
          "2024-11-05T00:00:00.000000000",
          "2024-11-06T00:00:00.000000000",
          "2024-11-07T00:00:00.000000000",
          "2024-11-08T00:00:00.000000000",
          "2024-11-09T00:00:00.000000000",
          "2024-11-10T00:00:00.000000000",
          "2024-11-11T00:00:00.000000000",
          "2024-11-12T00:00:00.000000000",
          "2024-11-13T00:00:00.000000000",
          "2024-11-14T00:00:00.000000000",
          "2024-11-15T00:00:00.000000000",
          "2024-11-16T00:00:00.000000000",
          "2024-11-17T00:00:00.000000000",
          "2024-11-18T00:00:00.000000000",
          "2024-11-19T00:00:00.000000000",
          "2024-11-20T00:00:00.000000000",
          "2024-11-21T00:00:00.000000000",
          "2024-11-22T00:00:00.000000000",
          "2024-11-23T00:00:00.000000000",
          "2024-11-24T00:00:00.000000000",
          "2024-11-25T00:00:00.000000000",
          "2024-11-26T00:00:00.000000000",
          "2024-11-27T00:00:00.000000000",
          "2024-11-28T00:00:00.000000000",
          "2024-11-29T00:00:00.000000000",
          "2024-11-30T00:00:00.000000000",
          "2024-12-01T00:00:00.000000000",
          "2024-12-02T00:00:00.000000000",
          "2024-12-03T00:00:00.000000000",
          "2024-12-04T00:00:00.000000000",
          "2024-12-05T00:00:00.000000000",
          "2024-12-06T00:00:00.000000000",
          "2024-12-07T00:00:00.000000000",
          "2024-12-08T00:00:00.000000000",
          "2024-12-09T00:00:00.000000000",
          "2024-12-10T00:00:00.000000000",
          "2024-12-11T00:00:00.000000000",
          "2024-12-12T00:00:00.000000000",
          "2024-12-13T00:00:00.000000000",
          "2024-12-14T00:00:00.000000000",
          "2024-12-15T00:00:00.000000000",
          "2024-12-16T00:00:00.000000000",
          "2024-12-17T00:00:00.000000000",
          "2024-12-18T00:00:00.000000000",
          "2024-12-19T00:00:00.000000000",
          "2024-12-20T00:00:00.000000000",
          "2024-12-21T00:00:00.000000000",
          "2024-12-22T00:00:00.000000000",
          "2024-12-23T00:00:00.000000000",
          "2024-12-24T00:00:00.000000000",
          "2024-12-25T00:00:00.000000000",
          "2024-12-26T00:00:00.000000000",
          "2024-12-27T00:00:00.000000000",
          "2024-12-28T00:00:00.000000000",
          "2024-12-29T00:00:00.000000000",
          "2024-12-30T00:00:00.000000000",
          "2024-12-31T00:00:00.000000000",
          "2025-01-01T00:00:00.000000000"
         ],
         "xaxis": "x",
         "y": {
          "bdata": "EK5H4XoU3r/AHoXrUbi+vwDXo3A9Cre/rkfhehSuB8BSuB6F61EUwCpcj8L1KBLA0MzMzMzMBMAYrkfhehQMwPBRuB6F6wfA+FG4HoXr+b/QtWCkkZvzvyZlB3Y5CwTA3oOMYYvDBsD8EfBmh8T3v+hMPF3RfuC/mMdx6g/86z/Y0UiOgDnuP3hChphX3e4/gLj9pfS137/gTDxd0X7gvwDM1MWDrKE/sNseAGvZ4L/A582kyAixv1C5/wkB8d4/+JQeCmzK7z+gBHuPLc/hvwD+PfbUwcK/KJLwf0qT9z+sfUI4aRj3PwgNBS6SdP4/FOSons9++T+4uTVKfG0AQKiy03kwrPA/qLLTeTCs9D90XtWO0HQJQGiHMR6Tag5AKCxiZxYFCUC47leQcpQLQOBK51JovQNA0OO70IxH7z/Ao52KFJnBPyj8NAw34fk/CHdJun7C/D8oLGJnFgUBQMycn3HtqAFAXF+Vmkk4BECwx3ehGY/ePwAA07L1PcK/wJXOpdB6/z8o/DQMN+H1Pyj8NAw34fE/uO5XkHKUAUDAlc6l0Hr/P3xfIylUXfM/wJ+LhqvBzj+QDWsKz3H5PwwiGVKw7P0/xECePQKl/D86xD9ciykGQMqGNYXnuAJAbLHbR9lI8T848nmF2+3pP1wDlGZeNP8/9uLER93hAED4nC0A+M3wP4D8UClMK+w/dLHbR9lI8T/o3eatTxP2vwhj0v8HMvO/MEuQUciC47+goPdGAUPRv2DFRkbIr+A/EA0owdxd6D/4wePi6xDsP+i4MMtb0O6/SCgzAkuL7L8w6v+dL7DSv8C9Zu6npbs/4G2Z1fj5zr+gphRy6IDFP0Cro6ycasy/YoKrRb50A8CqYyZabLwCwMQEV4t86fK/YK0eVAOq6b+Az3ABq3bOPwC5RxJjvOQ/RNJM5cAg8D9AJrha5EvHv3CEwsRAtOi/GJKiY+Sw6L9gV3j6+5TUv/A1E6Huh+S/0L3eYGL72r+A+AjKShfnvyzOvIMqd/2/BHItwTRO/b9YnHkHVe7ivyD1f0gSrco/wFBm94rAuz/A2YPe+F7ov5h99BsDNuy/ALmWYBqnBMBcSFlWQwMGwODsQW98L/y/pCnUavFKAcDgJtno8r37vzxgOUHGqwTAZLzIA7zUAsAoh0CRIGASwODQdkudTw/AwEuL+eQwAMAkCFT9oAX5v/DUIMpt0v2/il1hVMzcAcCsTf2zk6f7v1ySUJLoWAvArkpvF9SqD8A+DWVAMDoCwNipjHaJ0P+/uCETiBG1AsBcld4uqFX/vxSx1X06EQbArkpvF9SqD8AoXx1ftSUMwOCAMOfG2va/ZGyCn+Vf8r8wOU9ssizzv3gayoBgdPC/PBDz3O828r9wQ+joY9bVv+hOyRWluOU/XsSvTwASAEBg+Zyp18f8P7Cxuy7DGf0/0DangHs4+j84B+iakAruPzDJWH+Ex/G/EHPfkuwi4b8Yt83AYBL0P7Q39iImMgBAbFZ7DnjqAkBM0Y+8v8sLQNK84XTeUAtAuCcLyze2/D+eia5Bqx0CQIZwdarj6whAAoUj8sRmDUAgCg9EfYUKQG5Ov3FUgxBAAAAAAAAA+H8AAAAAAAD4fwAAAAAAAPh/gvwGU8+XFkC/Bt72P9UVQETyL69eWhdAbE6/cVSDGUAQv/x7KycdQL4G3vY/1RhATcnTH5xkFkDH3YFnfd8eQLC7jYCLPCFA7sVkJPz5IEB+iFpNWIkgQNoXHUOBZSBAtC86hgLLGED8ELWasBIYQPI5ESpzCB1Avwbe9j/VGkBjdxsBF3kaQJxSRJfUChlA5DO/q4JSFkD8mrGKONgLQDDO5L1rCwtAqCnoBxIVEkCeUkSX1AoWQAAAAAAAAPh/AAAAAAAA+H8AAAAAAAD4f2ofEWSh1x1ARFL+2ix7I0De65d0xpQhQOjCO+UDnyJAGGfy3rWFGUCMXaezlGcAQA==",
          "dtype": "f8"
         },
         "yaxis": "y"
        }
       ],
       "layout": {
        "legend": {
         "title": {
          "text": "Sleep Metrics"
         },
         "tracegroupgap": 0
        },
        "template": {
         "data": {
          "bar": [
           {
            "error_x": {
             "color": "#2a3f5f"
            },
            "error_y": {
             "color": "#2a3f5f"
            },
            "marker": {
             "line": {
              "color": "#E5ECF6",
              "width": 0.5
             },
             "pattern": {
              "fillmode": "overlay",
              "size": 10,
              "solidity": 0.2
             }
            },
            "type": "bar"
           }
          ],
          "barpolar": [
           {
            "marker": {
             "line": {
              "color": "#E5ECF6",
              "width": 0.5
             },
             "pattern": {
              "fillmode": "overlay",
              "size": 10,
              "solidity": 0.2
             }
            },
            "type": "barpolar"
           }
          ],
          "carpet": [
           {
            "aaxis": {
             "endlinecolor": "#2a3f5f",
             "gridcolor": "white",
             "linecolor": "white",
             "minorgridcolor": "white",
             "startlinecolor": "#2a3f5f"
            },
            "baxis": {
             "endlinecolor": "#2a3f5f",
             "gridcolor": "white",
             "linecolor": "white",
             "minorgridcolor": "white",
             "startlinecolor": "#2a3f5f"
            },
            "type": "carpet"
           }
          ],
          "choropleth": [
           {
            "colorbar": {
             "outlinewidth": 0,
             "ticks": ""
            },
            "type": "choropleth"
           }
          ],
          "contour": [
           {
            "colorbar": {
             "outlinewidth": 0,
             "ticks": ""
            },
            "colorscale": [
             [
              0,
              "#0d0887"
             ],
             [
              0.1111111111111111,
              "#46039f"
             ],
             [
              0.2222222222222222,
              "#7201a8"
             ],
             [
              0.3333333333333333,
              "#9c179e"
             ],
             [
              0.4444444444444444,
              "#bd3786"
             ],
             [
              0.5555555555555556,
              "#d8576b"
             ],
             [
              0.6666666666666666,
              "#ed7953"
             ],
             [
              0.7777777777777778,
              "#fb9f3a"
             ],
             [
              0.8888888888888888,
              "#fdca26"
             ],
             [
              1,
              "#f0f921"
             ]
            ],
            "type": "contour"
           }
          ],
          "contourcarpet": [
           {
            "colorbar": {
             "outlinewidth": 0,
             "ticks": ""
            },
            "type": "contourcarpet"
           }
          ],
          "heatmap": [
           {
            "colorbar": {
             "outlinewidth": 0,
             "ticks": ""
            },
            "colorscale": [
             [
              0,
              "#0d0887"
             ],
             [
              0.1111111111111111,
              "#46039f"
             ],
             [
              0.2222222222222222,
              "#7201a8"
             ],
             [
              0.3333333333333333,
              "#9c179e"
             ],
             [
              0.4444444444444444,
              "#bd3786"
             ],
             [
              0.5555555555555556,
              "#d8576b"
             ],
             [
              0.6666666666666666,
              "#ed7953"
             ],
             [
              0.7777777777777778,
              "#fb9f3a"
             ],
             [
              0.8888888888888888,
              "#fdca26"
             ],
             [
              1,
              "#f0f921"
             ]
            ],
            "type": "heatmap"
           }
          ],
          "histogram": [
           {
            "marker": {
             "pattern": {
              "fillmode": "overlay",
              "size": 10,
              "solidity": 0.2
             }
            },
            "type": "histogram"
           }
          ],
          "histogram2d": [
           {
            "colorbar": {
             "outlinewidth": 0,
             "ticks": ""
            },
            "colorscale": [
             [
              0,
              "#0d0887"
             ],
             [
              0.1111111111111111,
              "#46039f"
             ],
             [
              0.2222222222222222,
              "#7201a8"
             ],
             [
              0.3333333333333333,
              "#9c179e"
             ],
             [
              0.4444444444444444,
              "#bd3786"
             ],
             [
              0.5555555555555556,
              "#d8576b"
             ],
             [
              0.6666666666666666,
              "#ed7953"
             ],
             [
              0.7777777777777778,
              "#fb9f3a"
             ],
             [
              0.8888888888888888,
              "#fdca26"
             ],
             [
              1,
              "#f0f921"
             ]
            ],
            "type": "histogram2d"
           }
          ],
          "histogram2dcontour": [
           {
            "colorbar": {
             "outlinewidth": 0,
             "ticks": ""
            },
            "colorscale": [
             [
              0,
              "#0d0887"
             ],
             [
              0.1111111111111111,
              "#46039f"
             ],
             [
              0.2222222222222222,
              "#7201a8"
             ],
             [
              0.3333333333333333,
              "#9c179e"
             ],
             [
              0.4444444444444444,
              "#bd3786"
             ],
             [
              0.5555555555555556,
              "#d8576b"
             ],
             [
              0.6666666666666666,
              "#ed7953"
             ],
             [
              0.7777777777777778,
              "#fb9f3a"
             ],
             [
              0.8888888888888888,
              "#fdca26"
             ],
             [
              1,
              "#f0f921"
             ]
            ],
            "type": "histogram2dcontour"
           }
          ],
          "mesh3d": [
           {
            "colorbar": {
             "outlinewidth": 0,
             "ticks": ""
            },
            "type": "mesh3d"
           }
          ],
          "parcoords": [
           {
            "line": {
             "colorbar": {
              "outlinewidth": 0,
              "ticks": ""
             }
            },
            "type": "parcoords"
           }
          ],
          "pie": [
           {
            "automargin": true,
            "type": "pie"
           }
          ],
          "scatter": [
           {
            "fillpattern": {
             "fillmode": "overlay",
             "size": 10,
             "solidity": 0.2
            },
            "type": "scatter"
           }
          ],
          "scatter3d": [
           {
            "line": {
             "colorbar": {
              "outlinewidth": 0,
              "ticks": ""
             }
            },
            "marker": {
             "colorbar": {
              "outlinewidth": 0,
              "ticks": ""
             }
            },
            "type": "scatter3d"
           }
          ],
          "scattercarpet": [
           {
            "marker": {
             "colorbar": {
              "outlinewidth": 0,
              "ticks": ""
             }
            },
            "type": "scattercarpet"
           }
          ],
          "scattergeo": [
           {
            "marker": {
             "colorbar": {
              "outlinewidth": 0,
              "ticks": ""
             }
            },
            "type": "scattergeo"
           }
          ],
          "scattergl": [
           {
            "marker": {
             "colorbar": {
              "outlinewidth": 0,
              "ticks": ""
             }
            },
            "type": "scattergl"
           }
          ],
          "scattermap": [
           {
            "marker": {
             "colorbar": {
              "outlinewidth": 0,
              "ticks": ""
             }
            },
            "type": "scattermap"
           }
          ],
          "scattermapbox": [
           {
            "marker": {
             "colorbar": {
              "outlinewidth": 0,
              "ticks": ""
             }
            },
            "type": "scattermapbox"
           }
          ],
          "scatterpolar": [
           {
            "marker": {
             "colorbar": {
              "outlinewidth": 0,
              "ticks": ""
             }
            },
            "type": "scatterpolar"
           }
          ],
          "scatterpolargl": [
           {
            "marker": {
             "colorbar": {
              "outlinewidth": 0,
              "ticks": ""
             }
            },
            "type": "scatterpolargl"
           }
          ],
          "scatterternary": [
           {
            "marker": {
             "colorbar": {
              "outlinewidth": 0,
              "ticks": ""
             }
            },
            "type": "scatterternary"
           }
          ],
          "surface": [
           {
            "colorbar": {
             "outlinewidth": 0,
             "ticks": ""
            },
            "colorscale": [
             [
              0,
              "#0d0887"
             ],
             [
              0.1111111111111111,
              "#46039f"
             ],
             [
              0.2222222222222222,
              "#7201a8"
             ],
             [
              0.3333333333333333,
              "#9c179e"
             ],
             [
              0.4444444444444444,
              "#bd3786"
             ],
             [
              0.5555555555555556,
              "#d8576b"
             ],
             [
              0.6666666666666666,
              "#ed7953"
             ],
             [
              0.7777777777777778,
              "#fb9f3a"
             ],
             [
              0.8888888888888888,
              "#fdca26"
             ],
             [
              1,
              "#f0f921"
             ]
            ],
            "type": "surface"
           }
          ],
          "table": [
           {
            "cells": {
             "fill": {
              "color": "#EBF0F8"
             },
             "line": {
              "color": "white"
             }
            },
            "header": {
             "fill": {
              "color": "#C8D4E3"
             },
             "line": {
              "color": "white"
             }
            },
            "type": "table"
           }
          ]
         },
         "layout": {
          "annotationdefaults": {
           "arrowcolor": "#2a3f5f",
           "arrowhead": 0,
           "arrowwidth": 1
          },
          "autotypenumbers": "strict",
          "coloraxis": {
           "colorbar": {
            "outlinewidth": 0,
            "ticks": ""
           }
          },
          "colorscale": {
           "diverging": [
            [
             0,
             "#8e0152"
            ],
            [
             0.1,
             "#c51b7d"
            ],
            [
             0.2,
             "#de77ae"
            ],
            [
             0.3,
             "#f1b6da"
            ],
            [
             0.4,
             "#fde0ef"
            ],
            [
             0.5,
             "#f7f7f7"
            ],
            [
             0.6,
             "#e6f5d0"
            ],
            [
             0.7,
             "#b8e186"
            ],
            [
             0.8,
             "#7fbc41"
            ],
            [
             0.9,
             "#4d9221"
            ],
            [
             1,
             "#276419"
            ]
           ],
           "sequential": [
            [
             0,
             "#0d0887"
            ],
            [
             0.1111111111111111,
             "#46039f"
            ],
            [
             0.2222222222222222,
             "#7201a8"
            ],
            [
             0.3333333333333333,
             "#9c179e"
            ],
            [
             0.4444444444444444,
             "#bd3786"
            ],
            [
             0.5555555555555556,
             "#d8576b"
            ],
            [
             0.6666666666666666,
             "#ed7953"
            ],
            [
             0.7777777777777778,
             "#fb9f3a"
            ],
            [
             0.8888888888888888,
             "#fdca26"
            ],
            [
             1,
             "#f0f921"
            ]
           ],
           "sequentialminus": [
            [
             0,
             "#0d0887"
            ],
            [
             0.1111111111111111,
             "#46039f"
            ],
            [
             0.2222222222222222,
             "#7201a8"
            ],
            [
             0.3333333333333333,
             "#9c179e"
            ],
            [
             0.4444444444444444,
             "#bd3786"
            ],
            [
             0.5555555555555556,
             "#d8576b"
            ],
            [
             0.6666666666666666,
             "#ed7953"
            ],
            [
             0.7777777777777778,
             "#fb9f3a"
            ],
            [
             0.8888888888888888,
             "#fdca26"
            ],
            [
             1,
             "#f0f921"
            ]
           ]
          },
          "colorway": [
           "#636efa",
           "#EF553B",
           "#00cc96",
           "#ab63fa",
           "#FFA15A",
           "#19d3f3",
           "#FF6692",
           "#B6E880",
           "#FF97FF",
           "#FECB52"
          ],
          "font": {
           "color": "#2a3f5f"
          },
          "geo": {
           "bgcolor": "white",
           "lakecolor": "white",
           "landcolor": "#E5ECF6",
           "showlakes": true,
           "showland": true,
           "subunitcolor": "white"
          },
          "hoverlabel": {
           "align": "left"
          },
          "hovermode": "closest",
          "mapbox": {
           "style": "light"
          },
          "paper_bgcolor": "white",
          "plot_bgcolor": "#E5ECF6",
          "polar": {
           "angularaxis": {
            "gridcolor": "white",
            "linecolor": "white",
            "ticks": ""
           },
           "bgcolor": "#E5ECF6",
           "radialaxis": {
            "gridcolor": "white",
            "linecolor": "white",
            "ticks": ""
           }
          },
          "scene": {
           "xaxis": {
            "backgroundcolor": "#E5ECF6",
            "gridcolor": "white",
            "gridwidth": 2,
            "linecolor": "white",
            "showbackground": true,
            "ticks": "",
            "zerolinecolor": "white"
           },
           "yaxis": {
            "backgroundcolor": "#E5ECF6",
            "gridcolor": "white",
            "gridwidth": 2,
            "linecolor": "white",
            "showbackground": true,
            "ticks": "",
            "zerolinecolor": "white"
           },
           "zaxis": {
            "backgroundcolor": "#E5ECF6",
            "gridcolor": "white",
            "gridwidth": 2,
            "linecolor": "white",
            "showbackground": true,
            "ticks": "",
            "zerolinecolor": "white"
           }
          },
          "shapedefaults": {
           "line": {
            "color": "#2a3f5f"
           }
          },
          "ternary": {
           "aaxis": {
            "gridcolor": "white",
            "linecolor": "white",
            "ticks": ""
           },
           "baxis": {
            "gridcolor": "white",
            "linecolor": "white",
            "ticks": ""
           },
           "bgcolor": "#E5ECF6",
           "caxis": {
            "gridcolor": "white",
            "linecolor": "white",
            "ticks": ""
           }
          },
          "title": {
           "x": 0.05
          },
          "xaxis": {
           "automargin": true,
           "gridcolor": "white",
           "linecolor": "white",
           "ticks": "",
           "title": {
            "standoff": 15
           },
           "zerolinecolor": "white",
           "zerolinewidth": 2
          },
          "yaxis": {
           "automargin": true,
           "gridcolor": "white",
           "linecolor": "white",
           "ticks": "",
           "title": {
            "standoff": 15
           },
           "zerolinecolor": "white",
           "zerolinewidth": 2
          }
         }
        },
        "title": {
         "text": "Sleep Metrics Over time"
        },
        "xaxis": {
         "anchor": "y",
         "domain": [
          0,
          1
         ],
         "title": {
          "text": "Date"
         }
        },
        "yaxis": {
         "anchor": "x",
         "domain": [
          0,
          1
         ],
         "title": {
          "text": "Hours"
         }
        }
       }
      }
     },
     "metadata": {},
     "output_type": "display_data"
    }
   ],
   "source": [
    "fig = px.line(fitness_data , x='date', y = ['sleep_hours', 'sleep_debt', 'cumulative_sleep_debt'], title = 'Sleep Metrics Over time')\n",
    "fig.update_layout(\n",
    "    xaxis_title = 'Date',\n",
    "    yaxis_title = 'Hours',\n",
    "    legend_title = 'Sleep Metrics'\n",
    ")\n",
    "\n",
    "fig.show()"
   ]
  },
  {
   "cell_type": "code",
   "execution_count": 74,
   "id": "ef4bb2bd",
   "metadata": {},
   "outputs": [
    {
     "data": {
      "application/vnd.plotly.v1+json": {
       "config": {
        "plotlyServerURL": "https://plot.ly"
       },
       "data": [
        {
         "alignmentgroup": "True",
         "hovertemplate": "is_weekend=%{x}<br>Sleep Hours=%{y}<extra></extra>",
         "legendgroup": "False",
         "marker": {
          "color": "#636efa"
         },
         "name": "False",
         "notched": false,
         "offsetgroup": "False",
         "orientation": "v",
         "showlegend": true,
         "type": "box",
         "x": [
          false,
          false,
          false,
          false,
          false,
          false,
          false,
          false,
          false,
          false,
          false,
          false,
          false,
          false,
          false,
          false,
          false,
          false,
          false,
          false,
          false,
          false,
          false,
          false,
          false,
          false,
          false,
          false,
          false,
          false,
          false,
          false,
          false,
          false,
          false,
          false,
          false,
          false,
          false,
          false,
          false,
          false,
          false,
          false,
          false,
          false,
          false,
          false,
          false,
          false,
          false,
          false,
          false,
          false,
          false,
          false,
          false,
          false,
          false,
          false,
          false,
          false,
          false,
          false,
          false,
          false,
          false,
          false,
          false,
          false,
          false,
          false,
          false,
          false,
          false,
          false,
          false,
          false,
          false,
          false,
          false,
          false,
          false,
          false,
          false,
          false,
          false,
          false,
          false,
          false,
          false,
          false,
          false,
          false,
          false,
          false,
          false,
          false,
          false,
          false,
          false,
          false,
          false,
          false,
          false,
          false,
          false,
          false,
          false,
          false,
          false,
          false,
          false,
          false,
          false,
          false,
          false,
          false,
          false,
          false,
          false,
          false,
          false,
          false,
          false,
          false,
          false,
          false,
          false,
          false,
          false,
          false,
          false
         ],
         "x0": " ",
         "xaxis": "x",
         "y": {
          "bdata": "H4XrUbgeHEBmZmZmZmYfQB+F61G4Hh5AhetRuB6FEkCF61G4HoUVQFyPwvUoXBpACtejcD0KIEA9CtejcL0hQArnld78kx9A4XoUrkfhGEBxPQrXo/AgQEjhehSuxyFASOF6FK5HHkAUrkfhehQeQClcj8L1KBhA8npwmHnBG0DXo3A9CtcfQJqZmZmZGSBAhetRuB4FIEDNzMzMzMwXQOF6FK5H4R1A16NwPQrXH0DD9Shcj8IcQNejcD0K1x9Azg9a+U30GUA9CtejcD0gQGBSmKRBTRtASOF6FK5HH0AUrkfhehQaQArXo3A9ChhAuB6F61G4HkBSuB6F61EfQFK4HoXrUR5ASOF6FK5HH0DNzMzMzMwVQJqZmZmZmRtAAAAAAAAAHUApXI/C9SghQBSuR+F6FB1AbzLV4KD4GkAfhetRuB4fQK5H4XoUrh1A9ihcj8L1IEBI4XoUrkccQPYoXI/C9RhApHA9CtejHkDD9Shcj8IZQFK4HoXrUR1AzczMzMzMHkApXI/C9SgUQFyPwvUoXB9AWymcjhSVIED2KFyPwvUeQJ12N+Rhdh5ApHA9CtejFkCamZmZmZkfQJqZmZmZmRxApHA9CtejH0BxPQrXo3AcQClcj8L1KBVAhetRuB6FH0AUrkfhehQhQKRwPQrXox9AcT0K16NwH0A9CtejcD0ZQM3MzMzMzB9AuB6F61G4HEDhehSuR+EeQM3MzMzMzBxAhetRuB6FGUCamZmZmZkgQJqZmZmZmR1AhetRuB6FGkCF61G4HoUdQDMzMzMzMxdAZmZmZmZmHEAayzP7+7UfQJqZmZmZmRpA7FG4HoXrHkAK16NwPQoVQNejcD0K1x9AzczMzMzMHEB3hldINYYcQK2tmJ5AAiBAPQrXo3A9F0ApXI/C9SgfQJqZmZmZmRxAhetRuB6FH0DNzMzMzMwaQDMzMzMzMxlAH4XrUbgeH0DNzMzMzMwdQK5H4XoUrh5Aj8L1KFyPHUDsH1fcKpggQClcj8L1KB1AFK5H4XoUHkBI4XoUrkcdQDMzMzMzMxtAzczMzMzMFUAK16NwPYogQFyPwvUoXB9AuB6F61E4IUDD9Shcj8IdQIXrUbgehRdAH4XrUbgeIECPwvUoXI8cQK/k2+dKoCBAAAAAAAAA+H8AAAAAAAD4fz0K16NwPR1AhetRuB6FH0AUrkfhehQgQFK4HoXr0SBArkfhehSuGUDNzMzMzMwgQHsUrkfheh1AH4XrUbgeHUC4HoXrUbgdQAAAAAAAABZAzczMzMzMG0CkcD0K16MdQDnbKJa9kRxASOF6FK5HG0CamZmZmZkVQHsUrkfh+iBAAAAAAAAA+H8AAAAAAAD4fwAAAAAAAPh/ZmZmZmbmIkAK16NwPQogQEjhehSuRxJAXI/C9ShcCUA=",
          "dtype": "f8"
         },
         "y0": " ",
         "yaxis": "y"
        },
        {
         "alignmentgroup": "True",
         "hovertemplate": "is_weekend=%{x}<br>Sleep Hours=%{y}<extra></extra>",
         "legendgroup": "True",
         "marker": {
          "color": "#EF553B"
         },
         "name": "True",
         "notched": false,
         "offsetgroup": "True",
         "orientation": "v",
         "showlegend": true,
         "type": "box",
         "x": [
          true,
          true,
          true,
          true,
          true,
          true,
          true,
          true,
          true,
          true,
          true,
          true,
          true,
          true,
          true,
          true,
          true,
          true,
          true,
          true,
          true,
          true,
          true,
          true,
          true,
          true,
          true,
          true,
          true,
          true,
          true,
          true,
          true,
          true,
          true,
          true,
          true,
          true,
          true,
          true,
          true,
          true,
          true,
          true,
          true,
          true,
          true,
          true,
          true,
          true,
          true,
          true
         ],
         "x0": " ",
         "xaxis": "x",
         "y": {
          "bdata": "FK5H4XoUIEDhehSuR+EiQKRwPQrXoxxAuB6F61G4IUDsUbgehesdQJqZmZmZGSBApHA9CtejH0A9CtejcD0iQAAAAAAAAB9ASOF6FK7HIkCkcD0K16MaQPYoXI/C9SFAhetRuB6FG0C4HoXrUTgjQB+F61G4HhpAMzMzMzOzIUDsUbgehescQEjhehSuRyFAuB6F61G4HkCuR+F6FC4gQBSyHxmiSB5AMzMzMzMzIEBcj8L1KFweQFK4HoXrUSFApHA9CtejG0BL/iOMawAeQArXo3A9Ch5AexSuR+F6IUBSuB6F61EdQHsUrkfh+iBAXI/C9ShcIEBI4XoUrsciQNejcD0K1xtAXI/C9ShcIkDD9Shcj8IfQK5H4XoULiNACtejcD0KIUApXI/C9aghQPUhvcbBJiBAFK5H4XqUIkDhehSuR+EfQLq5MRqOsyBAAAAAAAAA+H8K16NwPQoiQI/C9ShcjxtAPQrXo3A9I0BI4XoUrkcdQHsUrkfheiFAmpmZmZmZHUBI4XoUrkchQI/C9ShcjyNAMzMzMzMzGkA=",
          "dtype": "f8"
         },
         "y0": " ",
         "yaxis": "y"
        }
       ],
       "layout": {
        "boxmode": "overlay",
        "legend": {
         "title": {
          "text": "is_weekend"
         },
         "tracegroupgap": 0
        },
        "template": {
         "data": {
          "bar": [
           {
            "error_x": {
             "color": "#2a3f5f"
            },
            "error_y": {
             "color": "#2a3f5f"
            },
            "marker": {
             "line": {
              "color": "white",
              "width": 0.5
             },
             "pattern": {
              "fillmode": "overlay",
              "size": 10,
              "solidity": 0.2
             }
            },
            "type": "bar"
           }
          ],
          "barpolar": [
           {
            "marker": {
             "line": {
              "color": "white",
              "width": 0.5
             },
             "pattern": {
              "fillmode": "overlay",
              "size": 10,
              "solidity": 0.2
             }
            },
            "type": "barpolar"
           }
          ],
          "carpet": [
           {
            "aaxis": {
             "endlinecolor": "#2a3f5f",
             "gridcolor": "#C8D4E3",
             "linecolor": "#C8D4E3",
             "minorgridcolor": "#C8D4E3",
             "startlinecolor": "#2a3f5f"
            },
            "baxis": {
             "endlinecolor": "#2a3f5f",
             "gridcolor": "#C8D4E3",
             "linecolor": "#C8D4E3",
             "minorgridcolor": "#C8D4E3",
             "startlinecolor": "#2a3f5f"
            },
            "type": "carpet"
           }
          ],
          "choropleth": [
           {
            "colorbar": {
             "outlinewidth": 0,
             "ticks": ""
            },
            "type": "choropleth"
           }
          ],
          "contour": [
           {
            "colorbar": {
             "outlinewidth": 0,
             "ticks": ""
            },
            "colorscale": [
             [
              0,
              "#0d0887"
             ],
             [
              0.1111111111111111,
              "#46039f"
             ],
             [
              0.2222222222222222,
              "#7201a8"
             ],
             [
              0.3333333333333333,
              "#9c179e"
             ],
             [
              0.4444444444444444,
              "#bd3786"
             ],
             [
              0.5555555555555556,
              "#d8576b"
             ],
             [
              0.6666666666666666,
              "#ed7953"
             ],
             [
              0.7777777777777778,
              "#fb9f3a"
             ],
             [
              0.8888888888888888,
              "#fdca26"
             ],
             [
              1,
              "#f0f921"
             ]
            ],
            "type": "contour"
           }
          ],
          "contourcarpet": [
           {
            "colorbar": {
             "outlinewidth": 0,
             "ticks": ""
            },
            "type": "contourcarpet"
           }
          ],
          "heatmap": [
           {
            "colorbar": {
             "outlinewidth": 0,
             "ticks": ""
            },
            "colorscale": [
             [
              0,
              "#0d0887"
             ],
             [
              0.1111111111111111,
              "#46039f"
             ],
             [
              0.2222222222222222,
              "#7201a8"
             ],
             [
              0.3333333333333333,
              "#9c179e"
             ],
             [
              0.4444444444444444,
              "#bd3786"
             ],
             [
              0.5555555555555556,
              "#d8576b"
             ],
             [
              0.6666666666666666,
              "#ed7953"
             ],
             [
              0.7777777777777778,
              "#fb9f3a"
             ],
             [
              0.8888888888888888,
              "#fdca26"
             ],
             [
              1,
              "#f0f921"
             ]
            ],
            "type": "heatmap"
           }
          ],
          "histogram": [
           {
            "marker": {
             "pattern": {
              "fillmode": "overlay",
              "size": 10,
              "solidity": 0.2
             }
            },
            "type": "histogram"
           }
          ],
          "histogram2d": [
           {
            "colorbar": {
             "outlinewidth": 0,
             "ticks": ""
            },
            "colorscale": [
             [
              0,
              "#0d0887"
             ],
             [
              0.1111111111111111,
              "#46039f"
             ],
             [
              0.2222222222222222,
              "#7201a8"
             ],
             [
              0.3333333333333333,
              "#9c179e"
             ],
             [
              0.4444444444444444,
              "#bd3786"
             ],
             [
              0.5555555555555556,
              "#d8576b"
             ],
             [
              0.6666666666666666,
              "#ed7953"
             ],
             [
              0.7777777777777778,
              "#fb9f3a"
             ],
             [
              0.8888888888888888,
              "#fdca26"
             ],
             [
              1,
              "#f0f921"
             ]
            ],
            "type": "histogram2d"
           }
          ],
          "histogram2dcontour": [
           {
            "colorbar": {
             "outlinewidth": 0,
             "ticks": ""
            },
            "colorscale": [
             [
              0,
              "#0d0887"
             ],
             [
              0.1111111111111111,
              "#46039f"
             ],
             [
              0.2222222222222222,
              "#7201a8"
             ],
             [
              0.3333333333333333,
              "#9c179e"
             ],
             [
              0.4444444444444444,
              "#bd3786"
             ],
             [
              0.5555555555555556,
              "#d8576b"
             ],
             [
              0.6666666666666666,
              "#ed7953"
             ],
             [
              0.7777777777777778,
              "#fb9f3a"
             ],
             [
              0.8888888888888888,
              "#fdca26"
             ],
             [
              1,
              "#f0f921"
             ]
            ],
            "type": "histogram2dcontour"
           }
          ],
          "mesh3d": [
           {
            "colorbar": {
             "outlinewidth": 0,
             "ticks": ""
            },
            "type": "mesh3d"
           }
          ],
          "parcoords": [
           {
            "line": {
             "colorbar": {
              "outlinewidth": 0,
              "ticks": ""
             }
            },
            "type": "parcoords"
           }
          ],
          "pie": [
           {
            "automargin": true,
            "type": "pie"
           }
          ],
          "scatter": [
           {
            "fillpattern": {
             "fillmode": "overlay",
             "size": 10,
             "solidity": 0.2
            },
            "type": "scatter"
           }
          ],
          "scatter3d": [
           {
            "line": {
             "colorbar": {
              "outlinewidth": 0,
              "ticks": ""
             }
            },
            "marker": {
             "colorbar": {
              "outlinewidth": 0,
              "ticks": ""
             }
            },
            "type": "scatter3d"
           }
          ],
          "scattercarpet": [
           {
            "marker": {
             "colorbar": {
              "outlinewidth": 0,
              "ticks": ""
             }
            },
            "type": "scattercarpet"
           }
          ],
          "scattergeo": [
           {
            "marker": {
             "colorbar": {
              "outlinewidth": 0,
              "ticks": ""
             }
            },
            "type": "scattergeo"
           }
          ],
          "scattergl": [
           {
            "marker": {
             "colorbar": {
              "outlinewidth": 0,
              "ticks": ""
             }
            },
            "type": "scattergl"
           }
          ],
          "scattermap": [
           {
            "marker": {
             "colorbar": {
              "outlinewidth": 0,
              "ticks": ""
             }
            },
            "type": "scattermap"
           }
          ],
          "scattermapbox": [
           {
            "marker": {
             "colorbar": {
              "outlinewidth": 0,
              "ticks": ""
             }
            },
            "type": "scattermapbox"
           }
          ],
          "scatterpolar": [
           {
            "marker": {
             "colorbar": {
              "outlinewidth": 0,
              "ticks": ""
             }
            },
            "type": "scatterpolar"
           }
          ],
          "scatterpolargl": [
           {
            "marker": {
             "colorbar": {
              "outlinewidth": 0,
              "ticks": ""
             }
            },
            "type": "scatterpolargl"
           }
          ],
          "scatterternary": [
           {
            "marker": {
             "colorbar": {
              "outlinewidth": 0,
              "ticks": ""
             }
            },
            "type": "scatterternary"
           }
          ],
          "surface": [
           {
            "colorbar": {
             "outlinewidth": 0,
             "ticks": ""
            },
            "colorscale": [
             [
              0,
              "#0d0887"
             ],
             [
              0.1111111111111111,
              "#46039f"
             ],
             [
              0.2222222222222222,
              "#7201a8"
             ],
             [
              0.3333333333333333,
              "#9c179e"
             ],
             [
              0.4444444444444444,
              "#bd3786"
             ],
             [
              0.5555555555555556,
              "#d8576b"
             ],
             [
              0.6666666666666666,
              "#ed7953"
             ],
             [
              0.7777777777777778,
              "#fb9f3a"
             ],
             [
              0.8888888888888888,
              "#fdca26"
             ],
             [
              1,
              "#f0f921"
             ]
            ],
            "type": "surface"
           }
          ],
          "table": [
           {
            "cells": {
             "fill": {
              "color": "#EBF0F8"
             },
             "line": {
              "color": "white"
             }
            },
            "header": {
             "fill": {
              "color": "#C8D4E3"
             },
             "line": {
              "color": "white"
             }
            },
            "type": "table"
           }
          ]
         },
         "layout": {
          "annotationdefaults": {
           "arrowcolor": "#2a3f5f",
           "arrowhead": 0,
           "arrowwidth": 1
          },
          "autotypenumbers": "strict",
          "coloraxis": {
           "colorbar": {
            "outlinewidth": 0,
            "ticks": ""
           }
          },
          "colorscale": {
           "diverging": [
            [
             0,
             "#8e0152"
            ],
            [
             0.1,
             "#c51b7d"
            ],
            [
             0.2,
             "#de77ae"
            ],
            [
             0.3,
             "#f1b6da"
            ],
            [
             0.4,
             "#fde0ef"
            ],
            [
             0.5,
             "#f7f7f7"
            ],
            [
             0.6,
             "#e6f5d0"
            ],
            [
             0.7,
             "#b8e186"
            ],
            [
             0.8,
             "#7fbc41"
            ],
            [
             0.9,
             "#4d9221"
            ],
            [
             1,
             "#276419"
            ]
           ],
           "sequential": [
            [
             0,
             "#0d0887"
            ],
            [
             0.1111111111111111,
             "#46039f"
            ],
            [
             0.2222222222222222,
             "#7201a8"
            ],
            [
             0.3333333333333333,
             "#9c179e"
            ],
            [
             0.4444444444444444,
             "#bd3786"
            ],
            [
             0.5555555555555556,
             "#d8576b"
            ],
            [
             0.6666666666666666,
             "#ed7953"
            ],
            [
             0.7777777777777778,
             "#fb9f3a"
            ],
            [
             0.8888888888888888,
             "#fdca26"
            ],
            [
             1,
             "#f0f921"
            ]
           ],
           "sequentialminus": [
            [
             0,
             "#0d0887"
            ],
            [
             0.1111111111111111,
             "#46039f"
            ],
            [
             0.2222222222222222,
             "#7201a8"
            ],
            [
             0.3333333333333333,
             "#9c179e"
            ],
            [
             0.4444444444444444,
             "#bd3786"
            ],
            [
             0.5555555555555556,
             "#d8576b"
            ],
            [
             0.6666666666666666,
             "#ed7953"
            ],
            [
             0.7777777777777778,
             "#fb9f3a"
            ],
            [
             0.8888888888888888,
             "#fdca26"
            ],
            [
             1,
             "#f0f921"
            ]
           ]
          },
          "colorway": [
           "#636efa",
           "#EF553B",
           "#00cc96",
           "#ab63fa",
           "#FFA15A",
           "#19d3f3",
           "#FF6692",
           "#B6E880",
           "#FF97FF",
           "#FECB52"
          ],
          "font": {
           "color": "#2a3f5f"
          },
          "geo": {
           "bgcolor": "white",
           "lakecolor": "white",
           "landcolor": "white",
           "showlakes": true,
           "showland": true,
           "subunitcolor": "#C8D4E3"
          },
          "hoverlabel": {
           "align": "left"
          },
          "hovermode": "closest",
          "mapbox": {
           "style": "light"
          },
          "paper_bgcolor": "white",
          "plot_bgcolor": "white",
          "polar": {
           "angularaxis": {
            "gridcolor": "#EBF0F8",
            "linecolor": "#EBF0F8",
            "ticks": ""
           },
           "bgcolor": "white",
           "radialaxis": {
            "gridcolor": "#EBF0F8",
            "linecolor": "#EBF0F8",
            "ticks": ""
           }
          },
          "scene": {
           "xaxis": {
            "backgroundcolor": "white",
            "gridcolor": "#DFE8F3",
            "gridwidth": 2,
            "linecolor": "#EBF0F8",
            "showbackground": true,
            "ticks": "",
            "zerolinecolor": "#EBF0F8"
           },
           "yaxis": {
            "backgroundcolor": "white",
            "gridcolor": "#DFE8F3",
            "gridwidth": 2,
            "linecolor": "#EBF0F8",
            "showbackground": true,
            "ticks": "",
            "zerolinecolor": "#EBF0F8"
           },
           "zaxis": {
            "backgroundcolor": "white",
            "gridcolor": "#DFE8F3",
            "gridwidth": 2,
            "linecolor": "#EBF0F8",
            "showbackground": true,
            "ticks": "",
            "zerolinecolor": "#EBF0F8"
           }
          },
          "shapedefaults": {
           "line": {
            "color": "#2a3f5f"
           }
          },
          "ternary": {
           "aaxis": {
            "gridcolor": "#DFE8F3",
            "linecolor": "#A2B1C6",
            "ticks": ""
           },
           "baxis": {
            "gridcolor": "#DFE8F3",
            "linecolor": "#A2B1C6",
            "ticks": ""
           },
           "bgcolor": "white",
           "caxis": {
            "gridcolor": "#DFE8F3",
            "linecolor": "#A2B1C6",
            "ticks": ""
           }
          },
          "title": {
           "x": 0.05
          },
          "xaxis": {
           "automargin": true,
           "gridcolor": "#EBF0F8",
           "linecolor": "#EBF0F8",
           "ticks": "",
           "title": {
            "standoff": 15
           },
           "zerolinecolor": "#EBF0F8",
           "zerolinewidth": 2
          },
          "yaxis": {
           "automargin": true,
           "gridcolor": "#EBF0F8",
           "linecolor": "#EBF0F8",
           "ticks": "",
           "title": {
            "standoff": 15
           },
           "zerolinecolor": "#EBF0F8",
           "zerolinewidth": 2
          }
         }
        },
        "title": {
         "text": "Sleep Hours: Weekdays vs Weekends"
        },
        "xaxis": {
         "anchor": "y",
         "categoryarray": [
          false,
          true
         ],
         "categoryorder": "array",
         "domain": [
          0,
          1
         ],
         "title": {
          "text": "is_weekend"
         }
        },
        "yaxis": {
         "anchor": "x",
         "domain": [
          0,
          1
         ],
         "title": {
          "text": "Sleep Hours"
         }
        }
       }
      }
     },
     "metadata": {},
     "output_type": "display_data"
    }
   ],
   "source": [
    "# Create a box plot for sleep hours comparing weekdays and weekends\n",
    "fig = px.box(\n",
    "    fitness_data,\n",
    "    x='is_weekend',\n",
    "    y='sleep_hours',\n",
    "    title='Sleep Hours: Weekdays vs Weekends',\n",
    "    labels={'weekend': 'Day Type (Weekday or Weekend)', 'sleep_hours': 'Sleep Hours'},\n",
    "    template='plotly_white',\n",
    "    color='is_weekend'\n",
    ")\n",
    "\n",
    "# Display the box plot\n",
    "fig.show()"
   ]
  },
  {
   "cell_type": "code",
   "execution_count": 75,
   "id": "92f44212",
   "metadata": {},
   "outputs": [
    {
     "data": {
      "application/vnd.plotly.v1+json": {
       "config": {
        "plotlyServerURL": "https://plot.ly"
       },
       "data": [
        {
         "hovertemplate": "Day of the Week=%{x}<br>Average Sleep Hours=%{y}<extra></extra>",
         "legendgroup": "",
         "marker": {
          "color": "#636efa",
          "pattern": {
           "shape": ""
          }
         },
         "name": "",
         "orientation": "v",
         "showlegend": false,
         "textposition": "auto",
         "type": "bar",
         "x": [
          "Monday",
          "Tuesday",
          "Wednesday",
          "Thursday",
          "Friday",
          "Saturday",
          "Sunday"
         ],
         "xaxis": "x",
         "y": {
          "bdata": "Ls2VyOXNHkBhc2Ez5+odQIvVY6f4Kx5ATES4HnlhHUBc8nKvZnEYQNJm7m9cSB5AWpGeolqEIUA=",
          "dtype": "f8"
         },
         "yaxis": "y"
        }
       ],
       "layout": {
        "barmode": "relative",
        "legend": {
         "tracegroupgap": 0
        },
        "template": {
         "data": {
          "bar": [
           {
            "error_x": {
             "color": "#2a3f5f"
            },
            "error_y": {
             "color": "#2a3f5f"
            },
            "marker": {
             "line": {
              "color": "#E5ECF6",
              "width": 0.5
             },
             "pattern": {
              "fillmode": "overlay",
              "size": 10,
              "solidity": 0.2
             }
            },
            "type": "bar"
           }
          ],
          "barpolar": [
           {
            "marker": {
             "line": {
              "color": "#E5ECF6",
              "width": 0.5
             },
             "pattern": {
              "fillmode": "overlay",
              "size": 10,
              "solidity": 0.2
             }
            },
            "type": "barpolar"
           }
          ],
          "carpet": [
           {
            "aaxis": {
             "endlinecolor": "#2a3f5f",
             "gridcolor": "white",
             "linecolor": "white",
             "minorgridcolor": "white",
             "startlinecolor": "#2a3f5f"
            },
            "baxis": {
             "endlinecolor": "#2a3f5f",
             "gridcolor": "white",
             "linecolor": "white",
             "minorgridcolor": "white",
             "startlinecolor": "#2a3f5f"
            },
            "type": "carpet"
           }
          ],
          "choropleth": [
           {
            "colorbar": {
             "outlinewidth": 0,
             "ticks": ""
            },
            "type": "choropleth"
           }
          ],
          "contour": [
           {
            "colorbar": {
             "outlinewidth": 0,
             "ticks": ""
            },
            "colorscale": [
             [
              0,
              "#0d0887"
             ],
             [
              0.1111111111111111,
              "#46039f"
             ],
             [
              0.2222222222222222,
              "#7201a8"
             ],
             [
              0.3333333333333333,
              "#9c179e"
             ],
             [
              0.4444444444444444,
              "#bd3786"
             ],
             [
              0.5555555555555556,
              "#d8576b"
             ],
             [
              0.6666666666666666,
              "#ed7953"
             ],
             [
              0.7777777777777778,
              "#fb9f3a"
             ],
             [
              0.8888888888888888,
              "#fdca26"
             ],
             [
              1,
              "#f0f921"
             ]
            ],
            "type": "contour"
           }
          ],
          "contourcarpet": [
           {
            "colorbar": {
             "outlinewidth": 0,
             "ticks": ""
            },
            "type": "contourcarpet"
           }
          ],
          "heatmap": [
           {
            "colorbar": {
             "outlinewidth": 0,
             "ticks": ""
            },
            "colorscale": [
             [
              0,
              "#0d0887"
             ],
             [
              0.1111111111111111,
              "#46039f"
             ],
             [
              0.2222222222222222,
              "#7201a8"
             ],
             [
              0.3333333333333333,
              "#9c179e"
             ],
             [
              0.4444444444444444,
              "#bd3786"
             ],
             [
              0.5555555555555556,
              "#d8576b"
             ],
             [
              0.6666666666666666,
              "#ed7953"
             ],
             [
              0.7777777777777778,
              "#fb9f3a"
             ],
             [
              0.8888888888888888,
              "#fdca26"
             ],
             [
              1,
              "#f0f921"
             ]
            ],
            "type": "heatmap"
           }
          ],
          "histogram": [
           {
            "marker": {
             "pattern": {
              "fillmode": "overlay",
              "size": 10,
              "solidity": 0.2
             }
            },
            "type": "histogram"
           }
          ],
          "histogram2d": [
           {
            "colorbar": {
             "outlinewidth": 0,
             "ticks": ""
            },
            "colorscale": [
             [
              0,
              "#0d0887"
             ],
             [
              0.1111111111111111,
              "#46039f"
             ],
             [
              0.2222222222222222,
              "#7201a8"
             ],
             [
              0.3333333333333333,
              "#9c179e"
             ],
             [
              0.4444444444444444,
              "#bd3786"
             ],
             [
              0.5555555555555556,
              "#d8576b"
             ],
             [
              0.6666666666666666,
              "#ed7953"
             ],
             [
              0.7777777777777778,
              "#fb9f3a"
             ],
             [
              0.8888888888888888,
              "#fdca26"
             ],
             [
              1,
              "#f0f921"
             ]
            ],
            "type": "histogram2d"
           }
          ],
          "histogram2dcontour": [
           {
            "colorbar": {
             "outlinewidth": 0,
             "ticks": ""
            },
            "colorscale": [
             [
              0,
              "#0d0887"
             ],
             [
              0.1111111111111111,
              "#46039f"
             ],
             [
              0.2222222222222222,
              "#7201a8"
             ],
             [
              0.3333333333333333,
              "#9c179e"
             ],
             [
              0.4444444444444444,
              "#bd3786"
             ],
             [
              0.5555555555555556,
              "#d8576b"
             ],
             [
              0.6666666666666666,
              "#ed7953"
             ],
             [
              0.7777777777777778,
              "#fb9f3a"
             ],
             [
              0.8888888888888888,
              "#fdca26"
             ],
             [
              1,
              "#f0f921"
             ]
            ],
            "type": "histogram2dcontour"
           }
          ],
          "mesh3d": [
           {
            "colorbar": {
             "outlinewidth": 0,
             "ticks": ""
            },
            "type": "mesh3d"
           }
          ],
          "parcoords": [
           {
            "line": {
             "colorbar": {
              "outlinewidth": 0,
              "ticks": ""
             }
            },
            "type": "parcoords"
           }
          ],
          "pie": [
           {
            "automargin": true,
            "type": "pie"
           }
          ],
          "scatter": [
           {
            "fillpattern": {
             "fillmode": "overlay",
             "size": 10,
             "solidity": 0.2
            },
            "type": "scatter"
           }
          ],
          "scatter3d": [
           {
            "line": {
             "colorbar": {
              "outlinewidth": 0,
              "ticks": ""
             }
            },
            "marker": {
             "colorbar": {
              "outlinewidth": 0,
              "ticks": ""
             }
            },
            "type": "scatter3d"
           }
          ],
          "scattercarpet": [
           {
            "marker": {
             "colorbar": {
              "outlinewidth": 0,
              "ticks": ""
             }
            },
            "type": "scattercarpet"
           }
          ],
          "scattergeo": [
           {
            "marker": {
             "colorbar": {
              "outlinewidth": 0,
              "ticks": ""
             }
            },
            "type": "scattergeo"
           }
          ],
          "scattergl": [
           {
            "marker": {
             "colorbar": {
              "outlinewidth": 0,
              "ticks": ""
             }
            },
            "type": "scattergl"
           }
          ],
          "scattermap": [
           {
            "marker": {
             "colorbar": {
              "outlinewidth": 0,
              "ticks": ""
             }
            },
            "type": "scattermap"
           }
          ],
          "scattermapbox": [
           {
            "marker": {
             "colorbar": {
              "outlinewidth": 0,
              "ticks": ""
             }
            },
            "type": "scattermapbox"
           }
          ],
          "scatterpolar": [
           {
            "marker": {
             "colorbar": {
              "outlinewidth": 0,
              "ticks": ""
             }
            },
            "type": "scatterpolar"
           }
          ],
          "scatterpolargl": [
           {
            "marker": {
             "colorbar": {
              "outlinewidth": 0,
              "ticks": ""
             }
            },
            "type": "scatterpolargl"
           }
          ],
          "scatterternary": [
           {
            "marker": {
             "colorbar": {
              "outlinewidth": 0,
              "ticks": ""
             }
            },
            "type": "scatterternary"
           }
          ],
          "surface": [
           {
            "colorbar": {
             "outlinewidth": 0,
             "ticks": ""
            },
            "colorscale": [
             [
              0,
              "#0d0887"
             ],
             [
              0.1111111111111111,
              "#46039f"
             ],
             [
              0.2222222222222222,
              "#7201a8"
             ],
             [
              0.3333333333333333,
              "#9c179e"
             ],
             [
              0.4444444444444444,
              "#bd3786"
             ],
             [
              0.5555555555555556,
              "#d8576b"
             ],
             [
              0.6666666666666666,
              "#ed7953"
             ],
             [
              0.7777777777777778,
              "#fb9f3a"
             ],
             [
              0.8888888888888888,
              "#fdca26"
             ],
             [
              1,
              "#f0f921"
             ]
            ],
            "type": "surface"
           }
          ],
          "table": [
           {
            "cells": {
             "fill": {
              "color": "#EBF0F8"
             },
             "line": {
              "color": "white"
             }
            },
            "header": {
             "fill": {
              "color": "#C8D4E3"
             },
             "line": {
              "color": "white"
             }
            },
            "type": "table"
           }
          ]
         },
         "layout": {
          "annotationdefaults": {
           "arrowcolor": "#2a3f5f",
           "arrowhead": 0,
           "arrowwidth": 1
          },
          "autotypenumbers": "strict",
          "coloraxis": {
           "colorbar": {
            "outlinewidth": 0,
            "ticks": ""
           }
          },
          "colorscale": {
           "diverging": [
            [
             0,
             "#8e0152"
            ],
            [
             0.1,
             "#c51b7d"
            ],
            [
             0.2,
             "#de77ae"
            ],
            [
             0.3,
             "#f1b6da"
            ],
            [
             0.4,
             "#fde0ef"
            ],
            [
             0.5,
             "#f7f7f7"
            ],
            [
             0.6,
             "#e6f5d0"
            ],
            [
             0.7,
             "#b8e186"
            ],
            [
             0.8,
             "#7fbc41"
            ],
            [
             0.9,
             "#4d9221"
            ],
            [
             1,
             "#276419"
            ]
           ],
           "sequential": [
            [
             0,
             "#0d0887"
            ],
            [
             0.1111111111111111,
             "#46039f"
            ],
            [
             0.2222222222222222,
             "#7201a8"
            ],
            [
             0.3333333333333333,
             "#9c179e"
            ],
            [
             0.4444444444444444,
             "#bd3786"
            ],
            [
             0.5555555555555556,
             "#d8576b"
            ],
            [
             0.6666666666666666,
             "#ed7953"
            ],
            [
             0.7777777777777778,
             "#fb9f3a"
            ],
            [
             0.8888888888888888,
             "#fdca26"
            ],
            [
             1,
             "#f0f921"
            ]
           ],
           "sequentialminus": [
            [
             0,
             "#0d0887"
            ],
            [
             0.1111111111111111,
             "#46039f"
            ],
            [
             0.2222222222222222,
             "#7201a8"
            ],
            [
             0.3333333333333333,
             "#9c179e"
            ],
            [
             0.4444444444444444,
             "#bd3786"
            ],
            [
             0.5555555555555556,
             "#d8576b"
            ],
            [
             0.6666666666666666,
             "#ed7953"
            ],
            [
             0.7777777777777778,
             "#fb9f3a"
            ],
            [
             0.8888888888888888,
             "#fdca26"
            ],
            [
             1,
             "#f0f921"
            ]
           ]
          },
          "colorway": [
           "#636efa",
           "#EF553B",
           "#00cc96",
           "#ab63fa",
           "#FFA15A",
           "#19d3f3",
           "#FF6692",
           "#B6E880",
           "#FF97FF",
           "#FECB52"
          ],
          "font": {
           "color": "#2a3f5f"
          },
          "geo": {
           "bgcolor": "white",
           "lakecolor": "white",
           "landcolor": "#E5ECF6",
           "showlakes": true,
           "showland": true,
           "subunitcolor": "white"
          },
          "hoverlabel": {
           "align": "left"
          },
          "hovermode": "closest",
          "mapbox": {
           "style": "light"
          },
          "paper_bgcolor": "white",
          "plot_bgcolor": "#E5ECF6",
          "polar": {
           "angularaxis": {
            "gridcolor": "white",
            "linecolor": "white",
            "ticks": ""
           },
           "bgcolor": "#E5ECF6",
           "radialaxis": {
            "gridcolor": "white",
            "linecolor": "white",
            "ticks": ""
           }
          },
          "scene": {
           "xaxis": {
            "backgroundcolor": "#E5ECF6",
            "gridcolor": "white",
            "gridwidth": 2,
            "linecolor": "white",
            "showbackground": true,
            "ticks": "",
            "zerolinecolor": "white"
           },
           "yaxis": {
            "backgroundcolor": "#E5ECF6",
            "gridcolor": "white",
            "gridwidth": 2,
            "linecolor": "white",
            "showbackground": true,
            "ticks": "",
            "zerolinecolor": "white"
           },
           "zaxis": {
            "backgroundcolor": "#E5ECF6",
            "gridcolor": "white",
            "gridwidth": 2,
            "linecolor": "white",
            "showbackground": true,
            "ticks": "",
            "zerolinecolor": "white"
           }
          },
          "shapedefaults": {
           "line": {
            "color": "#2a3f5f"
           }
          },
          "ternary": {
           "aaxis": {
            "gridcolor": "white",
            "linecolor": "white",
            "ticks": ""
           },
           "baxis": {
            "gridcolor": "white",
            "linecolor": "white",
            "ticks": ""
           },
           "bgcolor": "#E5ECF6",
           "caxis": {
            "gridcolor": "white",
            "linecolor": "white",
            "ticks": ""
           }
          },
          "title": {
           "x": 0.05
          },
          "xaxis": {
           "automargin": true,
           "gridcolor": "white",
           "linecolor": "white",
           "ticks": "",
           "title": {
            "standoff": 15
           },
           "zerolinecolor": "white",
           "zerolinewidth": 2
          },
          "yaxis": {
           "automargin": true,
           "gridcolor": "white",
           "linecolor": "white",
           "ticks": "",
           "title": {
            "standoff": 15
           },
           "zerolinecolor": "white",
           "zerolinewidth": 2
          }
         }
        },
        "title": {
         "text": "Average Sleep Hours by Day of the Week"
        },
        "xaxis": {
         "anchor": "y",
         "domain": [
          0,
          1
         ],
         "title": {
          "text": "Day of the Week"
         }
        },
        "yaxis": {
         "anchor": "x",
         "domain": [
          0,
          1
         ],
         "title": {
          "text": "Average Sleep Hours"
         }
        }
       }
      }
     },
     "metadata": {},
     "output_type": "display_data"
    }
   ],
   "source": [
    "# Prepare the data for visualization\n",
    "average_sleep_by_day = (\n",
    "    fitness_data.groupby('day_of_week')['sleep_hours']\n",
    "    .mean()\n",
    "    .reindex(['Monday', 'Tuesday', 'Wednesday', 'Thursday', 'Friday', 'Saturday', 'Sunday'])\n",
    "    .reset_index()\n",
    ")\n",
    "\n",
    "# Create a bar chart for average sleep by day of the week\n",
    "fig = px.bar(\n",
    "    average_sleep_by_day,\n",
    "    x='day_of_week',\n",
    "    y='sleep_hours',\n",
    "    title='Average Sleep Hours by Day of the Week',\n",
    "    labels={'day_of_week': 'Day of the Week', 'sleep_hours': 'Average Sleep Hours'},\n",
    ")\n",
    "\n",
    "# Display the bar chart\n",
    "fig.show()"
   ]
  },
  {
   "cell_type": "code",
   "execution_count": 78,
   "id": "b47ffb51",
   "metadata": {},
   "outputs": [
    {
     "data": {
      "text/plain": [
       "workout_type\n",
       "Running              51\n",
       "Yoga                 42\n",
       "Strength Training    41\n",
       "HIIT                 32\n",
       "Rest                 13\n",
       "Name: count, dtype: int64"
      ]
     },
     "execution_count": 78,
     "metadata": {},
     "output_type": "execute_result"
    }
   ],
   "source": [
    "# How many different workout types are in the dataset?\n",
    "fitness_data[\"workout_type\"].value_counts()"
   ]
  }
 ],
 "metadata": {
  "kernelspec": {
   "display_name": "Python (jojo)",
   "language": "python",
   "name": "jojo"
  },
  "language_info": {
   "codemirror_mode": {
    "name": "ipython",
    "version": 3
   },
   "file_extension": ".py",
   "mimetype": "text/x-python",
   "name": "python",
   "nbconvert_exporter": "python",
   "pygments_lexer": "ipython3",
   "version": "3.12.7"
  }
 },
 "nbformat": 4,
 "nbformat_minor": 5
}
